{
 "cells": [
  {
   "cell_type": "markdown",
   "metadata": {},
   "source": [
    "# Project 6 OpenClassroom"
   ]
  },
  {
   "cell_type": "code",
   "execution_count": 1,
   "metadata": {},
   "outputs": [
    {
     "name": "stdout",
     "output_type": "stream",
     "text": [
      "Python Version :sys.version_info(major=3, minor=7, micro=6, releaselevel='final', serial=0)\n",
      "CSV Version :1.0\n",
      "Numpy Version :1.18.1\n",
      "Pandas Version :1.0.1\n",
      "Seaborn Version :0.10.0\n"
     ]
    }
   ],
   "source": [
    "## To display the graphs within the code and not in another windows \n",
    "import sys\n",
    "print(\"Python Version :\"+str(sys.version_info))\n",
    "%matplotlib inline\n",
    "# To be able to use CSV\n",
    "import csv\n",
    "print(\"CSV Version :\"+csv.__version__)\n",
    "# To be able to use Numpy\n",
    "import numpy as np\n",
    "print(\"Numpy Version :\"+np.__version__)\n",
    "# To be able to use Pandas\n",
    "import pandas as pd\n",
    "print(\"Pandas Version :\"+pd.__version__)\n",
    "# To be able to use Maplotlib\n",
    "import matplotlib.pyplot as plt\n",
    "\n",
    "# To be able to use Seaborn\n",
    "import seaborn as sns\n",
    "print(\"Seaborn Version :\"+sns.__version__)\n",
    "\n",
    "# To be able to use Warning\n",
    "import warnings\n",
    "\n",
    "import string\n",
    "import re\n",
    "import nltk\n",
    "from nltk.corpus import stopwords\n",
    "from nltk.tokenize import RegexpTokenizer\n",
    "from nltk.stem import WordNetLemmatizer\n",
    "from nltk.stem.snowball import SnowballStemmer\n",
    "from sklearn.feature_extraction.text import CountVectorizer\n",
    "from sklearn.feature_extraction.text import TfidfVectorizer\n",
    "from sklearn.manifold import TSNE\n",
    "from sklearn import metrics\n",
    "from sklearn.cluster import KMeans"
   ]
  },
  {
   "cell_type": "markdown",
   "metadata": {},
   "source": [
    "### Init of the main variables"
   ]
  },
  {
   "cell_type": "code",
   "execution_count": 2,
   "metadata": {},
   "outputs": [],
   "source": [
    "# Disable the warnings \"ignore\"\n",
    "warnings.filterwarnings(\"ignore\")\n",
    "pd.set_option('display.max_columns', None)\n",
    "# Load Pep8 checker\n",
    "%load_ext pycodestyle_magic\n",
    "%pycodestyle_on"
   ]
  },
  {
   "cell_type": "markdown",
   "metadata": {},
   "source": [
    "### Reading of the file"
   ]
  },
  {
   "cell_type": "code",
   "execution_count": 3,
   "metadata": {},
   "outputs": [],
   "source": [
    "input_df = pd.read_csv('./Flipkart/flipkart_com-ecommerce_sample_1050.csv', sep=\",\", header=0)"
   ]
  },
  {
   "cell_type": "code",
   "execution_count": 4,
   "metadata": {},
   "outputs": [
    {
     "data": {
      "text/html": [
       "<div>\n",
       "<style scoped>\n",
       "    .dataframe tbody tr th:only-of-type {\n",
       "        vertical-align: middle;\n",
       "    }\n",
       "\n",
       "    .dataframe tbody tr th {\n",
       "        vertical-align: top;\n",
       "    }\n",
       "\n",
       "    .dataframe thead th {\n",
       "        text-align: right;\n",
       "    }\n",
       "</style>\n",
       "<table border=\"1\" class=\"dataframe\">\n",
       "  <thead>\n",
       "    <tr style=\"text-align: right;\">\n",
       "      <th></th>\n",
       "      <th>uniq_id</th>\n",
       "      <th>crawl_timestamp</th>\n",
       "      <th>product_url</th>\n",
       "      <th>product_name</th>\n",
       "      <th>product_category_tree</th>\n",
       "      <th>pid</th>\n",
       "      <th>retail_price</th>\n",
       "      <th>discounted_price</th>\n",
       "      <th>image</th>\n",
       "      <th>is_FK_Advantage_product</th>\n",
       "      <th>description</th>\n",
       "      <th>product_rating</th>\n",
       "      <th>overall_rating</th>\n",
       "      <th>brand</th>\n",
       "      <th>product_specifications</th>\n",
       "    </tr>\n",
       "  </thead>\n",
       "  <tbody>\n",
       "    <tr>\n",
       "      <th>0</th>\n",
       "      <td>55b85ea15a1536d46b7190ad6fff8ce7</td>\n",
       "      <td>2016-04-30 03:22:56 +0000</td>\n",
       "      <td>http://www.flipkart.com/elegance-polyester-mul...</td>\n",
       "      <td>Elegance Polyester Multicolor Abstract Eyelet ...</td>\n",
       "      <td>[\"Home Furnishing &gt;&gt; Curtains &amp; Accessories &gt;&gt;...</td>\n",
       "      <td>CRNEG7BKMFFYHQ8Z</td>\n",
       "      <td>1899.0</td>\n",
       "      <td>899.0</td>\n",
       "      <td>55b85ea15a1536d46b7190ad6fff8ce7.jpg</td>\n",
       "      <td>False</td>\n",
       "      <td>Key Features of Elegance Polyester Multicolor ...</td>\n",
       "      <td>No rating available</td>\n",
       "      <td>No rating available</td>\n",
       "      <td>Elegance</td>\n",
       "      <td>{\"product_specification\"=&gt;[{\"key\"=&gt;\"Brand\", \"v...</td>\n",
       "    </tr>\n",
       "    <tr>\n",
       "      <th>1</th>\n",
       "      <td>7b72c92c2f6c40268628ec5f14c6d590</td>\n",
       "      <td>2016-04-30 03:22:56 +0000</td>\n",
       "      <td>http://www.flipkart.com/sathiyas-cotton-bath-t...</td>\n",
       "      <td>Sathiyas Cotton Bath Towel</td>\n",
       "      <td>[\"Baby Care &gt;&gt; Baby Bath &amp; Skin &gt;&gt; Baby Bath T...</td>\n",
       "      <td>BTWEGFZHGBXPHZUH</td>\n",
       "      <td>600.0</td>\n",
       "      <td>449.0</td>\n",
       "      <td>7b72c92c2f6c40268628ec5f14c6d590.jpg</td>\n",
       "      <td>False</td>\n",
       "      <td>Specifications of Sathiyas Cotton Bath Towel (...</td>\n",
       "      <td>No rating available</td>\n",
       "      <td>No rating available</td>\n",
       "      <td>Sathiyas</td>\n",
       "      <td>{\"product_specification\"=&gt;[{\"key\"=&gt;\"Machine Wa...</td>\n",
       "    </tr>\n",
       "    <tr>\n",
       "      <th>2</th>\n",
       "      <td>64d5d4a258243731dc7bbb1eef49ad74</td>\n",
       "      <td>2016-04-30 03:22:56 +0000</td>\n",
       "      <td>http://www.flipkart.com/eurospa-cotton-terry-f...</td>\n",
       "      <td>Eurospa Cotton Terry Face Towel Set</td>\n",
       "      <td>[\"Baby Care &gt;&gt; Baby Bath &amp; Skin &gt;&gt; Baby Bath T...</td>\n",
       "      <td>BTWEG6SHXTDB2A2Y</td>\n",
       "      <td>NaN</td>\n",
       "      <td>NaN</td>\n",
       "      <td>64d5d4a258243731dc7bbb1eef49ad74.jpg</td>\n",
       "      <td>False</td>\n",
       "      <td>Key Features of Eurospa Cotton Terry Face Towe...</td>\n",
       "      <td>No rating available</td>\n",
       "      <td>No rating available</td>\n",
       "      <td>Eurospa</td>\n",
       "      <td>{\"product_specification\"=&gt;[{\"key\"=&gt;\"Material\",...</td>\n",
       "    </tr>\n",
       "    <tr>\n",
       "      <th>3</th>\n",
       "      <td>d4684dcdc759dd9cdf41504698d737d8</td>\n",
       "      <td>2016-06-20 08:49:52 +0000</td>\n",
       "      <td>http://www.flipkart.com/santosh-royal-fashion-...</td>\n",
       "      <td>SANTOSH ROYAL FASHION Cotton Printed King size...</td>\n",
       "      <td>[\"Home Furnishing &gt;&gt; Bed Linen &gt;&gt; Bedsheets &gt;&gt;...</td>\n",
       "      <td>BDSEJT9UQWHDUBH4</td>\n",
       "      <td>2699.0</td>\n",
       "      <td>1299.0</td>\n",
       "      <td>d4684dcdc759dd9cdf41504698d737d8.jpg</td>\n",
       "      <td>False</td>\n",
       "      <td>Key Features of SANTOSH ROYAL FASHION Cotton P...</td>\n",
       "      <td>No rating available</td>\n",
       "      <td>No rating available</td>\n",
       "      <td>SANTOSH ROYAL FASHION</td>\n",
       "      <td>{\"product_specification\"=&gt;[{\"key\"=&gt;\"Brand\", \"v...</td>\n",
       "    </tr>\n",
       "    <tr>\n",
       "      <th>4</th>\n",
       "      <td>6325b6870c54cd47be6ebfbffa620ec7</td>\n",
       "      <td>2016-06-20 08:49:52 +0000</td>\n",
       "      <td>http://www.flipkart.com/jaipur-print-cotton-fl...</td>\n",
       "      <td>Jaipur Print Cotton Floral King sized Double B...</td>\n",
       "      <td>[\"Home Furnishing &gt;&gt; Bed Linen &gt;&gt; Bedsheets &gt;&gt;...</td>\n",
       "      <td>BDSEJTHNGWVGWWQU</td>\n",
       "      <td>2599.0</td>\n",
       "      <td>698.0</td>\n",
       "      <td>6325b6870c54cd47be6ebfbffa620ec7.jpg</td>\n",
       "      <td>False</td>\n",
       "      <td>Key Features of Jaipur Print Cotton Floral Kin...</td>\n",
       "      <td>No rating available</td>\n",
       "      <td>No rating available</td>\n",
       "      <td>Jaipur Print</td>\n",
       "      <td>{\"product_specification\"=&gt;[{\"key\"=&gt;\"Machine Wa...</td>\n",
       "    </tr>\n",
       "    <tr>\n",
       "      <th>...</th>\n",
       "      <td>...</td>\n",
       "      <td>...</td>\n",
       "      <td>...</td>\n",
       "      <td>...</td>\n",
       "      <td>...</td>\n",
       "      <td>...</td>\n",
       "      <td>...</td>\n",
       "      <td>...</td>\n",
       "      <td>...</td>\n",
       "      <td>...</td>\n",
       "      <td>...</td>\n",
       "      <td>...</td>\n",
       "      <td>...</td>\n",
       "      <td>...</td>\n",
       "      <td>...</td>\n",
       "    </tr>\n",
       "    <tr>\n",
       "      <th>1045</th>\n",
       "      <td>958f54f4c46b53c8a0a9b8167d9140bc</td>\n",
       "      <td>2015-12-01 10:15:43 +0000</td>\n",
       "      <td>http://www.flipkart.com/oren-empower-extra-lar...</td>\n",
       "      <td>Oren Empower Extra Large Self Adhesive Sticker</td>\n",
       "      <td>[\"Baby Care &gt;&gt; Baby &amp; Kids Gifts &gt;&gt; Stickers &gt;...</td>\n",
       "      <td>STIE88ZGTX65GH4V</td>\n",
       "      <td>1399.0</td>\n",
       "      <td>999.0</td>\n",
       "      <td>958f54f4c46b53c8a0a9b8167d9140bc.jpg</td>\n",
       "      <td>False</td>\n",
       "      <td>Oren Empower Extra Large Self Adhesive Sticker...</td>\n",
       "      <td>No rating available</td>\n",
       "      <td>No rating available</td>\n",
       "      <td>Oren Empower</td>\n",
       "      <td>{\"product_specification\"=&gt;[{\"key\"=&gt;\"Number of ...</td>\n",
       "    </tr>\n",
       "    <tr>\n",
       "      <th>1046</th>\n",
       "      <td>fd6cbcc22efb6b761bd564c28928483c</td>\n",
       "      <td>2015-12-01 10:15:43 +0000</td>\n",
       "      <td>http://www.flipkart.com/wallmantra-large-vinyl...</td>\n",
       "      <td>Wallmantra Large Vinyl Sticker Sticker</td>\n",
       "      <td>[\"Baby Care &gt;&gt; Baby &amp; Kids Gifts &gt;&gt; Stickers &gt;...</td>\n",
       "      <td>STIEC889ZD5GDCVQ</td>\n",
       "      <td>4930.0</td>\n",
       "      <td>1896.0</td>\n",
       "      <td>fd6cbcc22efb6b761bd564c28928483c.jpg</td>\n",
       "      <td>False</td>\n",
       "      <td>Wallmantra Large Vinyl Sticker Sticker (Pack o...</td>\n",
       "      <td>No rating available</td>\n",
       "      <td>No rating available</td>\n",
       "      <td>Wallmantra</td>\n",
       "      <td>{\"product_specification\"=&gt;[{\"key\"=&gt;\"Number of ...</td>\n",
       "    </tr>\n",
       "    <tr>\n",
       "      <th>1047</th>\n",
       "      <td>5912e037d12774bb73a2048f35a00009</td>\n",
       "      <td>2015-12-01 10:15:43 +0000</td>\n",
       "      <td>http://www.flipkart.com/uberlyfe-extra-large-p...</td>\n",
       "      <td>Uberlyfe Extra Large Pigmented Polyvinyl Films...</td>\n",
       "      <td>[\"Baby Care &gt;&gt; Baby &amp; Kids Gifts &gt;&gt; Stickers &gt;...</td>\n",
       "      <td>STIE5UVGW2JWVWCT</td>\n",
       "      <td>4500.0</td>\n",
       "      <td>1449.0</td>\n",
       "      <td>5912e037d12774bb73a2048f35a00009.jpg</td>\n",
       "      <td>False</td>\n",
       "      <td>Buy Uberlyfe Extra Large Pigmented Polyvinyl F...</td>\n",
       "      <td>No rating available</td>\n",
       "      <td>No rating available</td>\n",
       "      <td>Uberlyfe</td>\n",
       "      <td>{\"product_specification\"=&gt;[{\"key\"=&gt;\"Number of ...</td>\n",
       "    </tr>\n",
       "    <tr>\n",
       "      <th>1048</th>\n",
       "      <td>c3edc504d1b4f0ba6224fa53a43a7ad6</td>\n",
       "      <td>2015-12-01 10:15:43 +0000</td>\n",
       "      <td>http://www.flipkart.com/wallmantra-medium-viny...</td>\n",
       "      <td>Wallmantra Medium Vinyl Sticker Sticker</td>\n",
       "      <td>[\"Baby Care &gt;&gt; Baby &amp; Kids Gifts &gt;&gt; Stickers &gt;...</td>\n",
       "      <td>STIEC889ZGFD3RCE</td>\n",
       "      <td>3465.0</td>\n",
       "      <td>1333.0</td>\n",
       "      <td>c3edc504d1b4f0ba6224fa53a43a7ad6.jpg</td>\n",
       "      <td>False</td>\n",
       "      <td>Buy Wallmantra Medium Vinyl Sticker Sticker fo...</td>\n",
       "      <td>No rating available</td>\n",
       "      <td>No rating available</td>\n",
       "      <td>Wallmantra</td>\n",
       "      <td>{\"product_specification\"=&gt;[{\"key\"=&gt;\"Number of ...</td>\n",
       "    </tr>\n",
       "    <tr>\n",
       "      <th>1049</th>\n",
       "      <td>f2f027ad6a6df617c9f125173da71e44</td>\n",
       "      <td>2015-12-01 10:15:43 +0000</td>\n",
       "      <td>http://www.flipkart.com/uberlyfe-large-vinyl-s...</td>\n",
       "      <td>Uberlyfe Large Vinyl Sticker</td>\n",
       "      <td>[\"Baby Care &gt;&gt; Baby &amp; Kids Gifts &gt;&gt; Stickers &gt;...</td>\n",
       "      <td>STIE2ZEPACRQJKH7</td>\n",
       "      <td>1190.0</td>\n",
       "      <td>595.0</td>\n",
       "      <td>f2f027ad6a6df617c9f125173da71e44.jpg</td>\n",
       "      <td>False</td>\n",
       "      <td>Buy Uberlyfe Large Vinyl Sticker for Rs.595 on...</td>\n",
       "      <td>4</td>\n",
       "      <td>4</td>\n",
       "      <td>Uberlyfe</td>\n",
       "      <td>{\"product_specification\"=&gt;[{\"key\"=&gt;\"Sales Pack...</td>\n",
       "    </tr>\n",
       "  </tbody>\n",
       "</table>\n",
       "<p>1050 rows × 15 columns</p>\n",
       "</div>"
      ],
      "text/plain": [
       "                               uniq_id            crawl_timestamp  \\\n",
       "0     55b85ea15a1536d46b7190ad6fff8ce7  2016-04-30 03:22:56 +0000   \n",
       "1     7b72c92c2f6c40268628ec5f14c6d590  2016-04-30 03:22:56 +0000   \n",
       "2     64d5d4a258243731dc7bbb1eef49ad74  2016-04-30 03:22:56 +0000   \n",
       "3     d4684dcdc759dd9cdf41504698d737d8  2016-06-20 08:49:52 +0000   \n",
       "4     6325b6870c54cd47be6ebfbffa620ec7  2016-06-20 08:49:52 +0000   \n",
       "...                                ...                        ...   \n",
       "1045  958f54f4c46b53c8a0a9b8167d9140bc  2015-12-01 10:15:43 +0000   \n",
       "1046  fd6cbcc22efb6b761bd564c28928483c  2015-12-01 10:15:43 +0000   \n",
       "1047  5912e037d12774bb73a2048f35a00009  2015-12-01 10:15:43 +0000   \n",
       "1048  c3edc504d1b4f0ba6224fa53a43a7ad6  2015-12-01 10:15:43 +0000   \n",
       "1049  f2f027ad6a6df617c9f125173da71e44  2015-12-01 10:15:43 +0000   \n",
       "\n",
       "                                            product_url  \\\n",
       "0     http://www.flipkart.com/elegance-polyester-mul...   \n",
       "1     http://www.flipkart.com/sathiyas-cotton-bath-t...   \n",
       "2     http://www.flipkart.com/eurospa-cotton-terry-f...   \n",
       "3     http://www.flipkart.com/santosh-royal-fashion-...   \n",
       "4     http://www.flipkart.com/jaipur-print-cotton-fl...   \n",
       "...                                                 ...   \n",
       "1045  http://www.flipkart.com/oren-empower-extra-lar...   \n",
       "1046  http://www.flipkart.com/wallmantra-large-vinyl...   \n",
       "1047  http://www.flipkart.com/uberlyfe-extra-large-p...   \n",
       "1048  http://www.flipkart.com/wallmantra-medium-viny...   \n",
       "1049  http://www.flipkart.com/uberlyfe-large-vinyl-s...   \n",
       "\n",
       "                                           product_name  \\\n",
       "0     Elegance Polyester Multicolor Abstract Eyelet ...   \n",
       "1                            Sathiyas Cotton Bath Towel   \n",
       "2                   Eurospa Cotton Terry Face Towel Set   \n",
       "3     SANTOSH ROYAL FASHION Cotton Printed King size...   \n",
       "4     Jaipur Print Cotton Floral King sized Double B...   \n",
       "...                                                 ...   \n",
       "1045     Oren Empower Extra Large Self Adhesive Sticker   \n",
       "1046             Wallmantra Large Vinyl Sticker Sticker   \n",
       "1047  Uberlyfe Extra Large Pigmented Polyvinyl Films...   \n",
       "1048            Wallmantra Medium Vinyl Sticker Sticker   \n",
       "1049                       Uberlyfe Large Vinyl Sticker   \n",
       "\n",
       "                                  product_category_tree               pid  \\\n",
       "0     [\"Home Furnishing >> Curtains & Accessories >>...  CRNEG7BKMFFYHQ8Z   \n",
       "1     [\"Baby Care >> Baby Bath & Skin >> Baby Bath T...  BTWEGFZHGBXPHZUH   \n",
       "2     [\"Baby Care >> Baby Bath & Skin >> Baby Bath T...  BTWEG6SHXTDB2A2Y   \n",
       "3     [\"Home Furnishing >> Bed Linen >> Bedsheets >>...  BDSEJT9UQWHDUBH4   \n",
       "4     [\"Home Furnishing >> Bed Linen >> Bedsheets >>...  BDSEJTHNGWVGWWQU   \n",
       "...                                                 ...               ...   \n",
       "1045  [\"Baby Care >> Baby & Kids Gifts >> Stickers >...  STIE88ZGTX65GH4V   \n",
       "1046  [\"Baby Care >> Baby & Kids Gifts >> Stickers >...  STIEC889ZD5GDCVQ   \n",
       "1047  [\"Baby Care >> Baby & Kids Gifts >> Stickers >...  STIE5UVGW2JWVWCT   \n",
       "1048  [\"Baby Care >> Baby & Kids Gifts >> Stickers >...  STIEC889ZGFD3RCE   \n",
       "1049  [\"Baby Care >> Baby & Kids Gifts >> Stickers >...  STIE2ZEPACRQJKH7   \n",
       "\n",
       "      retail_price  discounted_price                                 image  \\\n",
       "0           1899.0             899.0  55b85ea15a1536d46b7190ad6fff8ce7.jpg   \n",
       "1            600.0             449.0  7b72c92c2f6c40268628ec5f14c6d590.jpg   \n",
       "2              NaN               NaN  64d5d4a258243731dc7bbb1eef49ad74.jpg   \n",
       "3           2699.0            1299.0  d4684dcdc759dd9cdf41504698d737d8.jpg   \n",
       "4           2599.0             698.0  6325b6870c54cd47be6ebfbffa620ec7.jpg   \n",
       "...            ...               ...                                   ...   \n",
       "1045        1399.0             999.0  958f54f4c46b53c8a0a9b8167d9140bc.jpg   \n",
       "1046        4930.0            1896.0  fd6cbcc22efb6b761bd564c28928483c.jpg   \n",
       "1047        4500.0            1449.0  5912e037d12774bb73a2048f35a00009.jpg   \n",
       "1048        3465.0            1333.0  c3edc504d1b4f0ba6224fa53a43a7ad6.jpg   \n",
       "1049        1190.0             595.0  f2f027ad6a6df617c9f125173da71e44.jpg   \n",
       "\n",
       "      is_FK_Advantage_product  \\\n",
       "0                       False   \n",
       "1                       False   \n",
       "2                       False   \n",
       "3                       False   \n",
       "4                       False   \n",
       "...                       ...   \n",
       "1045                    False   \n",
       "1046                    False   \n",
       "1047                    False   \n",
       "1048                    False   \n",
       "1049                    False   \n",
       "\n",
       "                                            description       product_rating  \\\n",
       "0     Key Features of Elegance Polyester Multicolor ...  No rating available   \n",
       "1     Specifications of Sathiyas Cotton Bath Towel (...  No rating available   \n",
       "2     Key Features of Eurospa Cotton Terry Face Towe...  No rating available   \n",
       "3     Key Features of SANTOSH ROYAL FASHION Cotton P...  No rating available   \n",
       "4     Key Features of Jaipur Print Cotton Floral Kin...  No rating available   \n",
       "...                                                 ...                  ...   \n",
       "1045  Oren Empower Extra Large Self Adhesive Sticker...  No rating available   \n",
       "1046  Wallmantra Large Vinyl Sticker Sticker (Pack o...  No rating available   \n",
       "1047  Buy Uberlyfe Extra Large Pigmented Polyvinyl F...  No rating available   \n",
       "1048  Buy Wallmantra Medium Vinyl Sticker Sticker fo...  No rating available   \n",
       "1049  Buy Uberlyfe Large Vinyl Sticker for Rs.595 on...                    4   \n",
       "\n",
       "           overall_rating                  brand  \\\n",
       "0     No rating available               Elegance   \n",
       "1     No rating available               Sathiyas   \n",
       "2     No rating available                Eurospa   \n",
       "3     No rating available  SANTOSH ROYAL FASHION   \n",
       "4     No rating available           Jaipur Print   \n",
       "...                   ...                    ...   \n",
       "1045  No rating available           Oren Empower   \n",
       "1046  No rating available             Wallmantra   \n",
       "1047  No rating available               Uberlyfe   \n",
       "1048  No rating available             Wallmantra   \n",
       "1049                    4               Uberlyfe   \n",
       "\n",
       "                                 product_specifications  \n",
       "0     {\"product_specification\"=>[{\"key\"=>\"Brand\", \"v...  \n",
       "1     {\"product_specification\"=>[{\"key\"=>\"Machine Wa...  \n",
       "2     {\"product_specification\"=>[{\"key\"=>\"Material\",...  \n",
       "3     {\"product_specification\"=>[{\"key\"=>\"Brand\", \"v...  \n",
       "4     {\"product_specification\"=>[{\"key\"=>\"Machine Wa...  \n",
       "...                                                 ...  \n",
       "1045  {\"product_specification\"=>[{\"key\"=>\"Number of ...  \n",
       "1046  {\"product_specification\"=>[{\"key\"=>\"Number of ...  \n",
       "1047  {\"product_specification\"=>[{\"key\"=>\"Number of ...  \n",
       "1048  {\"product_specification\"=>[{\"key\"=>\"Number of ...  \n",
       "1049  {\"product_specification\"=>[{\"key\"=>\"Sales Pack...  \n",
       "\n",
       "[1050 rows x 15 columns]"
      ]
     },
     "execution_count": 4,
     "metadata": {},
     "output_type": "execute_result"
    }
   ],
   "source": [
    "input_df"
   ]
  },
  {
   "cell_type": "markdown",
   "metadata": {},
   "source": [
    "### Nan"
   ]
  },
  {
   "cell_type": "code",
   "execution_count": 5,
   "metadata": {},
   "outputs": [],
   "source": [
    "number_of_nan_by_row = input_df.isnull().sum(axis=1)"
   ]
  },
  {
   "cell_type": "code",
   "execution_count": 6,
   "metadata": {},
   "outputs": [
    {
     "name": "stdout",
     "output_type": "stream",
     "text": [
      "Description of Nan in each row  \n",
      " count    1050.000000\n",
      "mean        0.324762\n",
      "std         0.470539\n",
      "min         0.000000\n",
      "25%         0.000000\n",
      "50%         0.000000\n",
      "75%         1.000000\n",
      "max         2.000000\n",
      "dtype: float64\n"
     ]
    },
    {
     "data": {
      "image/png": "[encoded data removed]",
      "text/plain": [
       "<Figure size 432x288 with 1 Axes>"
      ]
     },
     "metadata": {
      "needs_background": "light"
     },
     "output_type": "display_data"
    }
   ],
   "source": [
    "print(\"Description of Nan in each row  \\n \"+str(number_of_nan_by_row.describe()))\n",
    "number_of_nan_by_row_df = pd.DataFrame({'Nan': number_of_nan_by_row})\n",
    "\n",
    "bx = sns.boxplot(x='Nan', data=number_of_nan_by_row_df)\n",
    "bx.set_title('Distribution of the Nan values by row')\n",
    "bx.set_xlabel('Number of Nan values')\n",
    "plt.show()"
   ]
  },
  {
   "cell_type": "code",
   "execution_count": 7,
   "metadata": {},
   "outputs": [],
   "source": [
    "number_of_nan_by_column = input_df.isnull().sum(axis=0)"
   ]
  },
  {
   "cell_type": "code",
   "execution_count": 8,
   "metadata": {},
   "outputs": [
    {
     "name": "stdout",
     "output_type": "stream",
     "text": [
      "Description of Nan in each column  \n",
      " count     15.000000\n",
      "mean      22.733333\n",
      "std       87.216862\n",
      "min        0.000000\n",
      "25%        0.000000\n",
      "50%        0.000000\n",
      "75%        0.500000\n",
      "max      338.000000\n",
      "dtype: float64\n"
     ]
    },
    {
     "data": {
      "image/png": "[encoded data removed]",
      "text/plain": [
       "<Figure size 432x288 with 1 Axes>"
      ]
     },
     "metadata": {
      "needs_background": "light"
     },
     "output_type": "display_data"
    }
   ],
   "source": [
    "print(\"Description of Nan in each column  \\n \"+str(number_of_nan_by_column.describe()))\n",
    "number_of_nan_by_column_df = pd.DataFrame({'Nan': number_of_nan_by_column})\n",
    "bx = sns.boxplot(x='Nan', data=number_of_nan_by_column_df)\n",
    "bx.set_title('Distribution of the Nan values by column')\n",
    "bx.set_xlabel('Number of Nan values')\n",
    "plt.show()"
   ]
  },
  {
   "cell_type": "code",
   "execution_count": 9,
   "metadata": {},
   "outputs": [
    {
     "data": {
      "text/plain": [
       "0       0\n",
       "1       0\n",
       "2       2\n",
       "3       0\n",
       "4       0\n",
       "       ..\n",
       "1045    0\n",
       "1046    0\n",
       "1047    0\n",
       "1048    0\n",
       "1049    0\n",
       "Length: 1050, dtype: int64"
      ]
     },
     "execution_count": 9,
     "metadata": {},
     "output_type": "execute_result"
    }
   ],
   "source": [
    "number_of_nan_by_row"
   ]
  },
  {
   "cell_type": "code",
   "execution_count": 10,
   "metadata": {},
   "outputs": [
    {
     "data": {
      "text/plain": [
       "uniq_id                      0\n",
       "crawl_timestamp              0\n",
       "product_url                  0\n",
       "product_name                 0\n",
       "product_category_tree        0\n",
       "pid                          0\n",
       "retail_price                 1\n",
       "discounted_price             1\n",
       "image                        0\n",
       "is_FK_Advantage_product      0\n",
       "description                  0\n",
       "product_rating               0\n",
       "overall_rating               0\n",
       "brand                      338\n",
       "product_specifications       1\n",
       "dtype: int64"
      ]
     },
     "execution_count": 10,
     "metadata": {},
     "output_type": "execute_result"
    }
   ],
   "source": [
    "number_of_nan_by_column"
   ]
  },
  {
   "cell_type": "markdown",
   "metadata": {},
   "source": [
    "### Numeric values"
   ]
  },
  {
   "cell_type": "code",
   "execution_count": 11,
   "metadata": {},
   "outputs": [],
   "source": [
    "numeric_columns = ['retail_price', 'discounted_price']"
   ]
  },
  {
   "cell_type": "code",
   "execution_count": 12,
   "metadata": {},
   "outputs": [
    {
     "name": "stdout",
     "output_type": "stream",
     "text": [
      "Description of retail_price \n",
      "count      1049.000000\n",
      "mean       2186.197331\n",
      "std        7639.229411\n",
      "min          35.000000\n",
      "25%         555.000000\n",
      "50%         999.000000\n",
      "75%        1999.000000\n",
      "max      201000.000000\n",
      "Name: retail_price, dtype: float64\n"
     ]
    },
    {
     "data": {
      "image/png": "[encoded data removed]",
      "text/plain": [
       "<Figure size 432x288 with 1 Axes>"
      ]
     },
     "metadata": {
      "needs_background": "light"
     },
     "output_type": "display_data"
    },
    {
     "name": "stdout",
     "output_type": "stream",
     "text": [
      "Description of discounted_price \n",
      "count      1049.000000\n",
      "mean       1584.527169\n",
      "std        7475.099680\n",
      "min          35.000000\n",
      "25%         340.000000\n",
      "50%         600.000000\n",
      "75%        1199.000000\n",
      "max      201000.000000\n",
      "Name: discounted_price, dtype: float64\n"
     ]
    },
    {
     "data": {
      "image/png": "[encoded data removed]",
      "text/plain": [
       "<Figure size 432x288 with 1 Axes>"
      ]
     },
     "metadata": {
      "needs_background": "light"
     },
     "output_type": "display_data"
    }
   ],
   "source": [
    "for element in numeric_columns:\n",
    "    print(\"Description of \"+element+\" \\n\"+str(input_df[element].describe()))\n",
    "    number__elements_df = pd.DataFrame({element: input_df[element]})\n",
    "    bx = sns.boxplot(x=element, data=number__elements_df)\n",
    "    bx.set_title('Distribution of '+element)\n",
    "    bx.set_xlabel('Number of '+element)\n",
    "    plt.show()"
   ]
  },
  {
   "cell_type": "markdown",
   "metadata": {},
   "source": [
    "### Descriptive values"
   ]
  },
  {
   "cell_type": "code",
   "execution_count": 13,
   "metadata": {},
   "outputs": [],
   "source": [
    "descriptive_columns = ['product_category_tree', 'is_FK_Advantage_product', 'product_rating', 'overall_rating', 'brand']"
   ]
  },
  {
   "cell_type": "code",
   "execution_count": 14,
   "metadata": {},
   "outputs": [
    {
     "name": "stdout",
     "output_type": "stream",
     "text": [
      "Element: product_category_tree \n",
      "\n",
      "['[\"Home Furnishing >> Bed Linen >> Blankets, Quilts & Dohars\"]', '[\"Kitchen & Dining >> Coffee Mugs >> Prithish Coffee Mugs\"]', '[\"Watches >> Wrist Watches >> Maxima Wrist Watches\"]', '[\"Kitchen & Dining >> Coffee Mugs >> Rockmantra Coffee Mugs\"]', '[\"Home Furnishing >> Bath Linen >> Towels\"]', '[\"Watches >> Wrist Watches >> Sonata Wrist Watches\"]', '[\"Kitchen & Dining >> Coffee Mugs >> Printland Coffee Mugs\"]', '[\"Home Decor & Festive Needs >> Showpieces >> Ethnic >> Lal Haveli Ethnic\"]', '[\"Computers >> Laptop Accessories >> Batteries >> Lapguard Batteries\"]', '[\"Home Furnishing >> Cushions, Pillows & Covers >> Cushion Covers\"]', '[\"Beauty and Personal Care >> Combos and Kits >> Oxyglow Combos and Kits\"]', '[\"Watches >> Wrist Watches >> Times Wrist Watches\"]', '[\"Home Furnishing >> Curtains & Accessories >> Curtains\"]', '[\"Beauty and Personal Care >> Combos and Kits >> Mxofere Combos and Kits\"]', '[\"Watches >> Wrist Watches >> Perucci Wrist Watches\"]', '[\"Watches >> Wrist Watches >> Timewel Wrist Watches\"]', '[\"Beauty and Personal Care >> Fragrances >> Deodorants >> Combos >> Denver Combos\"]', '[\"Computers >> Network Components >> Routers >> Tenda Routers\"]', '[\"Computers >> Laptop Accessories >> Adapters >> Smartpro Adapters >> Smartpro 19.5v,3.9a Replacement Charger for Vaio...\"]', '[\"Computers >> Network Components >> Routers >> Asus Routers\"]', '[\"Kitchen & Dining >> Containers & Bottles >> Bottles & Sippers >> Water bottle >> Nutcase Water bottle\"]', '[\"Beauty and Personal Care >> Fragrances >> Deodorants >> Combos >> Adidas Combos\"]', '[\"Beauty and Personal Care >> Fragrances >> Deodorants >> Combos >> Wild Stone Combos\"]', '[\"Computers >> Network Components >> Routers >> Edimax Routers\"]', '[\"Computers >> Network Components >> Routers >> TRENDnet Routers\"]', '[\"Beauty and Personal Care >> Fragrances >> Deodorants >> Combos >> Playboy Combos\"]', '[\"Home Decor & Festive Needs >> Showpieces >> Exotic India Showpieces\"]', '[\"Home Furnishing >> Bed Linen >> Bedsheets\"]', '[\"Computers >> Laptop Accessories >> Batteries >> Rega IT Batteries\"]', '[\"Baby Care >> Baby & Kids Gifts >> Stickers >> Wallmantra Stickers\"]', '[\"Baby Care >> Baby Bedding >> Baby Blankets >> Offspring Baby Blankets\"]', '[\"Watches >> Wrist Watches >> HMT Wrist Watches\"]', '[\"Beauty and Personal Care >> Fragrances >> Deodorants >> Combos >> Yardley Combos\"]', '[\"Computers >> Network Components >> Routers >> Netgear Routers\"]', '[\"Computers >> Network Components >> Routers >> TP-LINK Routers\"]', '[\"Home Furnishing >> Kitchen & Dining Linen >> Table Runners\"]', '[\"Beauty and Personal Care >> Fragrances >> Deodorants >> Combos >> Anna Andre Paris Combos\"]', '[\"Beauty and Personal Care >> Combos and Kits >> RYTHMX Combos and Kits >> RYTHMX FB NAIL POLISHES BLACK LIPSTICKS IMPORTAN...\"]', '[\"Computers >> Laptop Accessories >> USB Gadgets >> KLIQVIK USB Gadgets\"]', '[\"Beauty and Personal Care >> Fragrances >> Deodorants >> Combos >> Archies Combos\"]', '[\"Home Decor & Festive Needs >> Wall Decor & Clocks >> Paintings >> Wallmantra Paintings\"]', '[\"Home Decor & Festive Needs >> Showpieces >> S C Handicrafts Showpieces\"]', '[\"Beauty and Personal Care >> Fragrances >> Deodorants >> Combos >> Nike Combos\"]', '[\"Beauty and Personal Care >> Fragrances >> Deodorants >> Combos >> Engage Combos\"]', '[\"Computers >> Laptop Accessories >> Batteries >> HP Batteries\"]', '[\"Beauty and Personal Care >> Fragrances >> Deodorants >> Combos >> Aero Care Combos\"]', '[\"Computers >> Network Components >> Routers >> D-Link Routers\"]', '[\"Watches >> Wrist Watches >> Flippd Wrist Watches\"]', '[\"Beauty and Personal Care >> Fragrances >> Deodorants >> Combos >> Vincent Valentine Paris Combos\"]', '[\"Home Decor & Festive Needs >> Showpieces >> Ethnic >> Tatvaarts Ethnic\"]', '[\"Computers >> Laptop Accessories >> USB Gadgets >> Techone+ USB Gadgets\"]', '[\"Home Decor & Festive Needs >> Showpieces >> Shoppingtara Showpieces\"]', '[\"Computers >> Laptop Accessories >> USB Gadgets >> RRP USB Gadgets\"]', '[\"Home Decor & Festive Needs >> Decorative Lighting & Lamps >> Series Lights >> Digilight Series Lights\"]', '[\"Kitchen & Dining >> Cookware >> Pots & Pans >> Woks & Kadhais >> Metallino Woks & Kadhais\"]', '[\"Computers >> Network Components >> Routers >> Zyxel Routers\"]', '[\"Watches >> Wrist Watches >> Franck Bella Wrist Watches\"]', '[\"Home Decor & Festive Needs >> Table Decor & Handicrafts >> Showpieces >> Religious Idols >> Diviniti Religious Idols\"]', '[\"Home Decor & Festive Needs >> Showpieces >> Orange Tree Showpieces\"]', '[\"Watches >> Wrist Watches >> Disney Wrist Watches\"]', '[\"Home Decor & Festive Needs >> Showpieces >> Aapno Rajasthan Showpieces\"]', '[\"Baby Care >> Feeding & Nursing >> Utensils >> Baby Spoons & Forks >> Funcart Baby Spoons & Forks\"]', '[\"Home Decor & Festive Needs >> Table Decor & Handicrafts >> Showpieces >> Religious Idols >> Golmaalshop Religious Idols\"]', '[\"Watches >> Wrist Watches >> Noise Wrist Watches\"]', '[\"Watches >> Wrist Watches >> Now Wrist Watches\"]', '[\"Computers >> Laptops >> HP Laptops\"]', '[\"Home Furnishing >> Living\"]', '[\"Baby Care >> Baby & Kids Gifts >> Stickers >> Uberlyfe Stickers\"]', '[\"Watches >> Wrist Watches >> Fluid Wrist Watches\"]', '[\"Watches >> Wrist Watches >> SF by Sonata Wrist Watches\"]', '[\"Home Decor & Festive Needs >> Showpieces >> NEHP Showpieces\"]', '[\"Watches >> Wrist Watches >> Alfajr Wrist Watches\"]', '[\"Kitchen & Dining >> Cookware >> Pots & Pans >> Woks & Kadhais >> Kalash Woks & Kadhais\"]', '[\"Home Decor & Festive Needs >> Table Decor & Handicrafts >> Showpieces >> Religious Idols >> Gift Studios Religious Idols\"]', '[\"Watches >> Wrist Watches >> Fastrack Wrist Watches\"]', '[\"Home Decor & Festive Needs >> Showpieces >> Ethnic >> Rajo Raja Ethnic\"]', '[\"Beauty and Personal Care >> Fragrances >> Deodorants >> Combos >> Denim Combos\"]', '[\"Home Decor & Festive Needs >> Showpieces >> Tiedribbons Showpieces\"]', '[\"Computers >> Laptop Accessories >> USB Gadgets >> Crystle USB Gadgets\"]', '[\"Beauty and Personal Care >> Eye Care >> Wild Ferns Eye Care\"]', '[\"Kitchen & Dining >> Containers & Bottles >> Bottles & Sippers >> Milton Bottles & Sippers\"]', '[\"Home Decor & Festive Needs >> Wall Decor & Clocks >> Paintings >> Tallenge Paintings\"]', '[\"Computers >> Laptop Accessories >> Batteries >> ARB Batteries\"]', '[\"Computers >> Laptop Accessories >> USB Gadgets >> Casotec USB Gadgets\"]', '[\"Watches >> Wrist Watches >> Skmei Wrist Watches\"]', '[\"Computers >> Network Components >> Routers >> Apple Routers\"]', '[\"Watches >> Wrist Watches >> Neo Classic Wrist Watches\"]', '[\"Beauty and Personal Care >> Fragrances >> Deodorants >> Combos >> Beverly Hills Polo Club Combos\"]', '[\"Beauty and Personal Care >> Fragrances >> Deodorants >> Combos >> Park Avenue Combos\"]', '[\"Kitchen & Dining >> Coffee Mugs >> Shopmania Coffee Mugs >> Shopmania Happy Birthday Gift For Starting Lette...\"]', '[\"Computers >> Laptop Accessories >> USB Gadgets >> Memore USB Gadgets\"]', '[\"Watches >> Wrist Watches >> Gift Island Wrist Watches\"]', '[\"Kitchen & Dining >> Cookware >> Pots & Pans >> Woks & Kadhais >> Kosher Woks & Kadhais\"]', '[\"Home Decor & Festive Needs >> Showpieces >> Ethnic >> Ruchikainternational Ethnic\"]', '[\"Home Furnishing >> Curtains & Accessories >> Curtains >> Aroma Comfort Polyester Brown Self Design Eyelet...\"]', '[\"Home Decor & Festive Needs >> Showpieces >> Ethnic >> Sovam International Ethnic\"]', '[\"Baby Care >> Infant Wear >> Baby Girls\\' Clothes >> Shorts & Trousers >> Shorts >> Vitamins Shorts >> Vitamins Solid Baby Girl\\'s Basic Shorts\"]', '[\"Watches >> Wrist Watches >> Curren Nx Wrist Watches >> Curren Nx Blue Dial Stiched Strap Analog Watch  ...\"]', '[\"Baby Care >> Infant Wear >> Baby Girls\\' Clothes >> Dresses & Skirts >> Dresses >> Chokree Dresses >> Chokree Baby Girl\\'s A-line Dress\"]', '[\"Kitchen & Dining >> Kitchen Tools >> Kitchen Tool Sets >> King Traders Kitchen Tool Sets >> King Traders KI-BD-01 1 Kitchen Tool Set\"]', '[\"Home Decor & Festive Needs >> Showpieces >> Vedic Deals Showpieces\"]', '[\"Home Furnishing >> JMD Home Furnishing >> JMD Printed Cushions Cover (Pack of 2, 40 cm*40 ...\"]', '[\"Baby Care >> Infant Wear >> Baby Girls\\' Clothes >> Innerwear & Sleepwear >> Night Suits >> CHOCOBERRY Night Suits >> CHOCOBERRY Baby Girl\\'s Printed White, Dark Blue ...\"]', '[\"Kitchen & Dining >> Cookware >> Pots & Pans >> Woks & Kadhais >> Sahara Q Shop Woks & Kadhais\"]', '[\"Computers >> Laptop Accessories >> USB Gadgets >> 99Gems USB Gadgets\"]', '[\"Home Decor & Festive Needs >> Showpieces >> Mavi Showpieces\"]', '[\"Watches >> Wrist Watches >> palito Wrist Watches >> palito PLO 149 Analog Watch  - For Girls, Women\"]', '[\"Home Furnishing >> Living Room Furnishing >> Diwan Sets >> SANTOSH ROYAL FASHION Diwan Sets >> SANTOSH ROYAL FASHION Cotton Embroidered Diwan Set\"]', '[\"Beauty and Personal Care >> Fragrances >> Deodorants >> Combos >> Cinthol Combos\"]', '[\"Kitchen & Dining >> Cookware >> Pots & Pans >> Woks & Kadhais >> JSM Woks & Kadhais\"]', '[\"Baby Care >> Infant Wear >> Baby Girls\\' Clothes >> Dresses & Skirts >> Dresses >> Saba Garments Dresses >> Saba Garments Baby Girl\\'s Gathered Dress\"]', '[\"Home Furnishing >> Kitchen & Dining Linen >> Table Placemats >> Vgstore Rectangular Pack of 6 Table Placemat (Da...\"]', '[\"Home Decor & Festive Needs >> Decorative Lighting & Lamps >> Series Lights >> Pinc Ginger Series Lights\"]', '[\"Computers >> Computer Components >> RAMs >> Transcend RAMs >> Transcend Premium Memory DDR2 2 GB (1x2GB) PC SD...\"]', '[\"Home Decor & Festive Needs >> Showpieces >> BeYOUtiful Showpieces\"]', '[\"Watches >> Wrist Watches >> Only Kidz Wrist Watches\"]', '[\"Baby Care >> Infant Wear >> Baby Girls\\' Clothes >> Dresses & Skirts >> Dresses >> Jacadi Paris Dresses >> Jacadi Paris Baby Girl\\'s Gathered Dark Blue Dress\"]', '[\"Baby Care >> Infant Wear >> Baby Boys\\' Clothes >> Shorts & Trousers >> Track Pants >> Shaun Track Pants >> Shaun Solid Baby Boy\\'s Grey, Dark Blue Track Pants\"]', '[\"Home Furnishing >> Living >> Sofa Covers >> Dreamshomes Velvet Sofa Cover (Multicolour Pack ...\"]', '[\"Computers >> Laptop Accessories >> USB Gadgets >> QP360 USB Gadgets\"]', '[\"Computers >> Computer Peripherals >> Printers & Inks >> Toners >> Filink Toners\"]', '[\"Beauty and Personal Care >> Fragrances >> Deodorants >> Combos >> KamaSutra Combos\"]', '[\"Watches >> Wrist Watches >> Srushti Art Jewelry Wrist Watches\"]', '[\"Watches >> Wrist Watches >> Timex Wrist Watches\"]', '[\"Home Furnishing >> Kitchen & Dining Linen >> Coasters >> Craft Trade Coasters >> Craft Trade Oval Wood Coaster Set (Brown, Pack o...\"]', '[\"Beauty and Personal Care >> Makeup >> Vanity Boxes >> Thar Handloom Vanity Boxes\"]', '[\"Watches >> Wrist Watches >> RRTC Wrist Watches\"]', '[\"Home Decor & Festive Needs >> Showpieces >> Purpledip Showpieces\"]', '[\"Computers >> Network Components >> Routers >> iBall Routers\"]', '[\"Baby Care >> Baby Grooming >> Boreal Baby Grooming >> Boreal Plastic rectangular hair brush 633D\"]', '[\"Computers >> Laptop Accessories >> USB Gadgets >> JRB USB Gadgets >> JRB 1033 Smallest Mobile Powered By OTG Enabled ...\"]', '[\"Beauty and Personal Care >> Makeup >> Vanity Boxes >> MohanJodero Vanity Boxes >> MohanJodero Jewellery Box Jewellery Vanity Jewel...\"]', '[\"Beauty and Personal Care >> Bath and Spa >> Bath and Spa Accessories >> Loofahs >> AntiqueShop Loofahs >> AntiqueShop ABKL_PL_PNK_PNK\"]', '[\"Kitchen & Dining >> Lighting >> Bulbs >> Soy Impulse Bulbs\"]', '[\"Baby Care >> Baby & Kids Gifts >> Decorations >> Doraemon Gift Family Ceramic Coffee Mug Decorations >> Doraemon Gift Family Ceramic Coffee Mug Multicol...\"]', '[\"Beauty and Personal Care >> Bath and Spa >> Bath and Spa Accessories >> Loofahs >> AntiqueShop Loofahs >> AntiqueShop ABKL_PL_PL_PNK\"]', '[\"Baby Care >> Infant Wear >> Baby Girls\\' Clothes >> Dresses & Skirts >> Dresses >> Wow! Dresses >> Wow! Baby Girl\\'s Gathered Pink Dress\"]', '[\"Kitchen & Dining >> Cookware >> Pots & Pans >> Woks & Kadhais >> Ndura Woks & Kadhais\"]', '[\"Home Furnishing >> Bed Linen >> Bedsheets >> SANTOSH ROYAL FASHION Bedsheets >> SANTOSH ROYAL FASHION Cotton Printed King sized ...\"]', '[\"Home Decor & Festive Needs >> Showpieces >> Fengshui >> Reiki Crystal Products Fengshui >> Reiki Crystal Products Showpiece  -  6 cm (Brass...\"]', '[\"Home Decor & Festive Needs >> Table Decor & Handicrafts >> Table Decor >> Hookah Mouth Tips >> Ech oly Hookah Mouth Tips >> Ech oly Ceramic Inside Fitting Hookah Mouth Tip ...\"]', '[\"Watches >> Wrist Watches >> Petrol Wrist Watches\"]', '[\"Home Furnishing >> Kitchen & Dining Linen >> Table Covers >> Prime Printed 4 Seater Table Cover (Multicolor, ...\"]', '[\"Home Furnishing >> Cushions, Pillows & Covers >> Cushions >> Furnishing Zone Cushions >> Furnishing Zone Printed Back Cushion (Pack of2, ...\"]', '[\"Home Decor & Festive Needs >> Showpieces >> Ethnic >> Craftuno Ethnic\"]', '[\"Baby Care >> Baby Bedding >> Baby Blankets >> Carter\\'S Baby Blankets\"]', '[\"Home Decor & Festive Needs >> Showpieces >> Unique Handicrafts Showpieces\"]', '[\"Baby Care >> Infant Wear >> Baby Girls\\' Clothes >> Dresses & Skirts >> Dresses >> Baby Moshai Dresses >> Baby Moshai Baby Girl\\'s A-line Dress\"]', '[\"Watches >> Wrist Watches >> Luba Wrist Watches\"]', '[\"Home Furnishing >> Bed Linen >> Bedsheets >> JBC Collection Bedsheets >> JBC Collection Cotton Printed Single Bedsheet (1...\"]', '[\"Baby Care >> Baby Bath & Skin >> Baby Bath Towels >> Welhouse Baby Bath Towels\"]', '[\"Watches >> Wrist Watches >> Ridas Wrist Watches\"]', '[\"Home Decor & Festive Needs >> Showpieces >> Ethnic >> Monil Ethnic\"]', '[\"Beauty and Personal Care >> Bath and Spa >> Body and Essential Oils >> Allin Exporters Body and Essential Oils >> Allin Exporters Fennel Oil (Co2 Extract) (30 ml)\"]', '[\"Watches >> Wrist Watches >> Escort Wrist Watches\"]', '[\"Baby Care >> Infant Wear >> Baby Boys\\' Clothes >> Polos & T-Shirts >> Rishan Polos & T-Shirts >> Rishan Printed Baby Boy\\'s V-neck T-Shirt\"]', '[\"Home Decor & Festive Needs >> Showpiece >> Gramophones >> ROYLE KATOCH Gramophones >> ROYLE KATOCH Showpiece  -  24 cm (Crystal, Woode...\"]', '[\"Computers >> Laptop Accessories >> USB Gadgets >> Orico USB Gadgets\"]', '[\"Kitchen & Dining >> Cookware >> Pots & Pans >> Woks & Kadhais >> Indian Art Villa Woks & Kadhais\"]', '[\"Kitchen & Dining >> Cookware >> Pots & Pans >> Pans & Tawas >> oxford Pans & Tawas >> oxford Tawa 15 cm cm diameter (Aluminium, Non-st...\"]', '[\"Beauty and Personal Care >> Health Care >> Health Care Devices >> Electrotherapy >> SOS Electrotherapy >> SOS COMPUTRISED LCD INTRFERENTIAL UNIT-125PROG. ...\"]', '[\"Watches >> Wrist Watches >> Jack klein Wrist Watches\"]', '[\"Kitchen & Dining >> Dinnerware & Crockery >> Cups & Saucers >> Buyer\\'s Beach Cups & Saucers >> Buyer\\'s Beach BB349 (Brown)\"]', '[\"Baby Care >> Infant Wear >> Baby Girls\\' Clothes >> Ethnic Wear >> Ethnic Sets >> RTD Ethnic Sets\"]', '[\"Home Decor & Festive Needs >> Showpieces >> Fengshui >> Reiki Crystal Products Fengshui >> Reiki Crystal Products Showpiece  -  8 cm (Cryst...\"]', '[\"Kitchen & Dining >> Bar & Glassware >> Bar Glasses >> giftsthatwow Bar Glasses >> giftsthatwow GTW-G-04 (300 ml, White, Pack of 1)\"]', '[\"Computers >> Laptop Accessories >> Computer Accessories Combos >> PRINT SHAPES Computer Accessories Combos >> PRINT SHAPES Peacock Feather Laptop Skin with Mo...\"]', '[\"Baby Care >> Feeding & Nursing >> Utensils >> Baby Spoons & Forks >> EZ Life Baby Spoons & Forks\"]', '[\"Beauty and Personal Care >> Fragrances >> Deodorants >> Combos >> Envy-1000 Combos\"]', '[\"Baby Care >> Baby & Kids Gifts >> Photo Frames >> MH Photo Frames\"]', '[\"Baby Care >> Infant Wear >> Baby Boys\\' Clothes >> Polos & T-Shirts >> Globe Polos & T-Shirts >> Globe Graphic Print Baby Boy\\'s Round Neck Orange...\"]', '[\"Home Decor & Festive Needs >> Candles & Fragrances >> Home Fragrances >> Aroma Oils >> Myesquire Aroma Oils\"]', '[\"Baby Care >> Infant Wear >> Baby Boys\\' Clothes >> Polos & T-Shirts >> Toons Polos & T-Shirts >> Toons Printed Baby Boy\\'s Round Neck T-Shirt\"]', '[\"Watches >> Wrist Watches >> Kool Kidz Wrist Watches\"]', '[\"Home Furnishing >> Floor Coverings >> Carpets & Rugs >> FURNISHINGLAND Black Polyester Carpet (90 cm  X ...\"]', '[\"Beauty and Personal Care >> Fragrances >> Deodorants >> Combos >> Ajmal Combos\"]', '[\"Baby Care >> Baby Bedding >> Baby Bedsheets >> Sparklings Baby Bedsheets >> Sparklings Cotton Geometric Double Bedsheet (dou...\"]', '[\"Kitchen & Dining >> Cookware >> Steamers & Idli Makers >> Idli Makers >> vatika Idli Makers >> vatika Advance Standard Idli Maker (7 Plates , 1...\"]', '[\"Beauty and Personal Care >> Fragrances >> Deodorants >> Combos >> Nivea Combos\"]', '[\"Computers >> Laptop Accessories >> Computer Accessories Combos >> PRINT SHAPES Computer Accessories Combos >> PRINT SHAPES mary and max cartoon Laptop Skin wi...\"]', '[\"Baby Care >> Diapering & Potty Training >> Nappies & Cloth Diapers >> U & ME Nappies & Cloth Diapers\"]', '[\"Beauty and Personal Care >> Health Care >> Health Care Devices >> HomeEdge Health Care Devices >> HomeEdge Solid Wood King Bed (Finish Color -  Na...\"]', '[\"Home Furnishing >> Floor Coverings >> Carpets & Rugs >> loomkart Blue Polyester Runner (55 cm  X 147 cm)\"]', '[\"Kitchen & Dining >> Coffee Mugs >> AKUP Coffee Mugs >> AKUP i-loves-music Ceramic Mug (300 ml)\"]', '[\"Home Decor & Festive Needs >> Decorative Lighting & Lamps >> Series Lights >> VRCT Series Lights >> VRCT 196 inch Green Rice Lights (Pack of 1)\"]', '[\"Baby Care >> Infant Wear >> Baby Girls\\' Clothes >> Shorts & Trousers >> Trousers >> Feetje Trousers\"]', '[\"Baby Care >> Baby & Kids Gifts >> Photo Frames >> Wood Beauty Photo Frames\"]', '[\"Home Decor & Festive Needs >> Table Decor & Handicrafts >> Showpieces >> Human Figurines >> My Angel Human Figurines\"]', '[\"Computers >> Laptop Accessories >> USB Gadgets >> Akshaj USB Gadgets\"]', '[\"Kitchen & Dining >> Kitchen Tools >> Kitchen Implements >> Pizza Cutters >> King International Pizza Cutters\"]', '[\"Beauty and Personal Care >> Fragrances >> Deodorants >> Combos >> ENVY 1000 Combos\"]', '[\"Beauty and Personal Care >> Hair Care >> Shampoos >> Kerastase Shampoos >> Kerastase Nutritive Bain Satin 1 Complete Nutrit...\"]', '[\"Baby Care >> Infant Wear >> Baby Boys\\' Clothes >> Innerwear & Sleepwear >> Bloomers & Drawers >> Esteem Bloomers & Drawers >> Esteem Baby Boy\\'s Drawer\"]', '[\"Kitchen & Dining >> Cookware >> Pots & Pans >> Woks & Kadhais >> Jaipan Woks & Kadhais\"]', '[\"Baby Care >> Infant Wear >> Baby Boys\\' Clothes >> Polos & T-Shirts >> YK Polos & T-Shirts >> YK Striped Baby Boy\\'s Round Neck T-Shirt\"]', '[\"Beauty and Personal Care >> Makeup >> Lips >> Lipsticks >> Elfani Lipsticks\"]', '[\"Beauty and Personal Care >> Hair Care >> Conditioners >> Suave Conditioners >> Suave Naturals Everlasting Sunshine Conditioner ...\"]', '[\"Home Furnishing >> Living Room Furnishing >> Diwan Sets >> Jaipur Print Diwan Sets >> Jaipur Print Cotton Floral Diwan Set\"]', '[\"Baby Care >> Infant Wear >> Baby Boys\\' Clothes >> Winter & Seasonal Wear >> Jackets >> Upside Down Jackets >> Upside Down Sleeveless Applique Baby Girl\\'s, Bab...\"]', '[\"Computers >> Network Components >> Routers >> Binatone Routers\"]', '[\"Baby Care >> Baby & Kids Gifts >> Stickers >> WallDesign Stickers\"]', '[\"Watches >> Wrist Watches >> V9 Wrist Watches >> V9 METAL STRAP Analog Watch  - For Men\"]', '[\"Computers >> Laptop Accessories >> Computer Accessories Combos >> PRINT SHAPES Computer Accessories Combos >> PRINT SHAPES Power of roman reigns Laptop Skin w...\"]', '[\"Kitchen & Dining >> Kitchen Tools >> Choppers & Peelers >> Graters & Slicers >> Deep Graters & Slicers >> Deep kitchen press Steel Grater and Slicer (Stee...\"]', '[\"Home Decor & Festive Needs >> Showpieces >> Ethnic >> Homedesires Ethnic\"]', '[\"Beauty and Personal Care >> Body and Skin Care >> Lip Care >> Lip Creams >> NYX Lip Creams >> NYX Set Of 2 Soft Matte Lip Cream 06,22 (Multi c...\"]', '[\"Home Decor & Festive Needs >> Table Decor & Handicrafts >> Showpieces >> Religious Idols >> Craftartz Religious Idols\"]', '[\"Home Furnishing >> Curtains & Accessories >> Curtains >> Aroma Comfort Polyester Cream Self Design Eyelet...\"]', '[\"Baby Care >> Infant Wear >> Baby Boys\\' Clothes >> Polos & T-Shirts >> dongli Polos & T-Shirts >> dongli Striped Baby Boy\\'s Polo Neck T-Shirt (Pac...\"]', '[\"Baby Care >> Baby Bath & Skin >> Baby Bath Towels >> BabyBucket Baby Bath Towels\"]', '[\"Kitchen & Dining >> Kitchen Tools >> Kitchen Implements >> Pizza Cutters >> Step4deal Pizza Cutters\"]', '[\"Kitchen & Dining >> Cookware >> Pots & Pans >> Woks & Kadhais >> Nirlon Woks & Kadhais\"]', '[\"Home Decor & Festive Needs >> Wall Decor & Clocks >> Wallpapers >> wallskart Wallpapers >> wallskart Floral & Botanical Wallpaper (35.56 cm...\"]', '[\"Computers >> Network Components >> Routers >> Digisol Routers\"]', '[\"Kitchen & Dining >> Lighting >> Bulbs >> Philips Bulbs\"]', '[\"Baby Care >> Infant Wear >> Baby Boys\\' Clothes >> Bodysuits & Sleepsuits >> Sleepsuits >> Toffyhouse Sleepsuits >> Toffyhouse Baby Boy\\'s Sleepsuit\"]', '[\"Beauty and Personal Care >> Hair Care >> Conditioners >> OGX Conditioners >> OGX Sunkissed Blonde Lemon Highlights Conditione...\"]', '[\"Baby Care >> Infant Wear >> Baby Girls\\' Clothes >> Dresses & Skirts >> Dresses >> MKB Dresses >> MKB Baby Girl\\'s Empire Waist Dress\"]', '[\"Beauty and Personal Care >> Bath and Spa >> Bath and Spa Accessories >> Loofahs >> AntiqueShop Loofahs >> AntiqueShop ABKL_GRN_GRN_GRN\"]', '[\"Home Decor & Festive Needs >> Wall Decor & Clocks >> Wall Shelves >> R&Mshoppee Wall Shelves >> R&Mshoppee MDF Wall Shelf (Number of Shelves - 1...\"]', '[\"Home Furnishing >> Floor Coverings >> Carpets & Rugs >> FURNISHINGLAND Green Silk Carpet (60 cm  X 180 cm)\"]', '[\"Home Decor & Festive Needs >> Showpieces >> The Crafts House Showpieces\"]', '[\"Baby Care >> Infant Wear >> Baby Girls\\' Clothes >> Leggings & Jeggings >> Babyoye Premium Leggings & Jeggings >> Babyoye Premium Baby Girl\\'s Multicolor Leggings ...\"]', '[\"Home Furnishing >> Kitchen & Dining Linen >> Kitchen Linen Sets >> Cotonex Beige Cotton Kitchen Linen Set (Pack of 2)\"]', '[\"Baby Care >> Strollers & Activity Gear >> Strollers & Prams >> Graco Strollers & Prams >> Graco LiteRider Click Connect � Marco (Multicolor)\"]', '[\"Home Furnishing >> Bed Linen >> Duvet Covers >> House This Duvet Covers >> House This Queen Cotton Duvet Cover (Grey)\"]', '[\"Baby Care >> Baby Bedding >> Baby Mattresses >> CHHOTE JANAB Baby Mattresses >> CHHOTE JANAB COZY MATTRESS PROTECTOR(SET OF 2) (...\"]', '[\"Beauty and Personal Care >> Makeup >> Eyes >> Eye Shadows >> Milani Eye Shadows >> Milani Runway shadow Wet/Dry Black Out 3 g (Shadow)\"]', '[\"Beauty and Personal Care >> Body and Skin Care >> Face Care >> Sunscreen >> Oshea Herbals Sunscreen\"]', '[\"Kitchen & Dining >> Bar & Glassware >> Bar Glasses >> giftsthatwow Bar Glasses >> giftsthatwow GTW-G-06 (600 ml, White, Pack of 1)\"]', '[\"Baby Care >> Infant Wear >> Baby Girls\\' Clothes >> Bodysuits & Sleepsuits >> Bodysuits >> Lula Bodysuits >> Lula Baby Girl\\'s Dark Blue Bodysuit\"]', '[\"Baby Care >> Baby & Kids Gifts >> Stickers >> Oren Empower Stickers\"]', '[\"Beauty and Personal Care >> Hair Care >> Hair Care Accessories >> Hair Accessories >> Sarah Hair Accessories >> Sarah Stylish Hair Claw (Brown)\"]', '[\"Baby Care >> Diapering & Potty Training >> Nappies & Cloth Diapers >> MyKid Nappies & Cloth Diapers\"]', '[\"Computers >> Laptop Accessories >> USB Gadgets >> Bigkik USB Gadgets\"]', '[\"Watches >> Wrist Watches >> Nexus Wrist Watches\"]', '[\"Computers >> Tablet Accessories >> Keyboards >> RoQ Keyboards >> RoQ Slim Multimedia 105key Flexible Wired USB Fl...\"]', '[\"Computers >> Laptop Accessories >> Computer Accessories Combos >> PRINT SHAPES Computer Accessories Combos >> PRINT SHAPES monster university party Laptop Ski...\"]', '[\"Baby Care >> Infant Wear >> Baby Girls\\' Clothes >> Dresses & Skirts >> Dresses >> Pokizo Dresses >> Pokizo Baby Girl\\'s A-line Dress\"]', '[\"Kitchen & Dining >> Kitchen Tools >> Kitchen Implements >> Pizza Cutters >> Tirupati Pizza Cutters\"]', '[\"Kitchen & Dining >> Kitchen Tools >> Kitchen Implements >> Pizza Cutters >> Mom Italy Pizza Cutters\"]', '[\"Kitchen & Dining >> Containers & Bottles >> Lunch Boxes >> GAYATRI CREATIONS Lunch Boxes >> GAYATRI CREATIONS ORANGE KIDS SET 2 Containers L...\"]', '[\"Computers >> Laptop Accessories >> USB Gadgets >> Kensington USB Gadgets\"]', '[\"Beauty and Personal Care >> Health Care >> Health Care Devices >> Body Fat Analyzers >> Equinox Body Fat Analyzers\"]', '[\"Beauty and Personal Care >> Health Care >> Health Care Devices >> Pulse Oximeters >> NAMS Pulse Oximeters >> NAMS 06 Fully Automatic Pulse Oximeter (White)\"]', '[\"Computers >> Laptop Accessories >> Computer Accessories Combos >> PRINT SHAPES Computer Accessories Combos >> PRINT SHAPES Red bull Laptop Skin with Mouse pad...\"]', '[\"Baby Care >> Infant Wear >> Baby Boys\\' Clothes >> Shirts >> CALCULUS Shirts >> CALCULUS Baby Boy\\'s Printed Casual Beige Shirt\"]', '[\"Home Decor & Festive Needs >> Table Decor & Handicrafts >> Table Decor >> Hookah & Hookah Flavours >> Hookah >> Arsalan Hookah\"]', '[\"Baby Care >> Infant Wear >> Baby Boys\\' Clothes >> Bodysuits & Sleepsuits >> Bodysuits >> You Got Plan B Bodysuits >> You Got Plan B Baby Boy\\'s, Baby Girl\\'s Romper\"]', '[\"Watches >> Wrist Watches >> Maserati Time Wrist Watches\"]', '[\"Home Decor & Festive Needs >> TRUE Home Decor & Festive Needs\"]', '[\"Baby Care >> Feeding & Nursing >> Bibs & Hankies >> Bibs >> Piyo Piyo Bibs >> Piyo Piyo Four Stage Waterproof Bib (Yellow)\"]', '[\"Baby Care >> Baby Bath & Skin >> Baby Bath Towels >> BornBabyKids Baby Bath Towels\"]', '[\"Baby Care >> Baby Bath & Skin >> Baby Bath Towels >> The Intellect Bazaar Baby Bath Towels\"]', '[\"Baby Care >> Infant Wear >> Baby Girls\\' Clothes >> Dungarees & Jumpsuits >> Jumpsuits >> Budding Bees Jumpsuits >> Budding Bees Printed Baby Girl\\'s Jumpsuit\"]', '[\"Home Furnishing >> Curtains & Accessories >> Curtains >> Aroma Comfort Polyester Brown Floral Eyelet Long...\"]', '[\"Kitchen & Dining >> Lighting >> Bulbs >> BFT Bulbs >> BFT 6 W LED Bulb (White)\"]', '[\"Beauty and Personal Care >> Bath and Spa >> Body and Essential Oils >> SSCP Body and Essential Oils\"]', '[\"Beauty and Personal Care >> Combos and Kits >> Brillare Science Combos and Kits >> Brillare Science Dandruff Control Shampoo & Inte...\"]', '[\"Kitchen & Dining >> Coffee Mugs >> AKUP Coffee Mugs >> AKUP league-of-legends Ceramic Mug (300 ml)\"]', '[\"Baby Care >> Infant Wear >> Baby Girls\\' Clothes >> Accessories >> Hats >> Portia Hats >> Portia Hat (Pink, Pack of 1)\"]', '[\"Kitchen & Dining >> Containers & Bottles >> Containers & Jars >> Kitchen Containers >> Lock&Lock Kitchen Containers >> Lock&Lock Kitchen  - 5.5 L Polypropylene Multi-p...\"]', '[\"Home Decor & Festive Needs >> Decorative Lighting & Lamps >> Table Lamps >> Brahmz Table Lamps >> Brahmz Glass Mossiac Table Lamp (18 cm, Multi Co...\"]', '[\"Home Furnishing >> Kitchen & Dining Linen >> Table Covers >> Prime Printed 8 Seater Table Cover (Multicolor, ...\"]', '[\"Computers >> Storage >> Pen Drives >> HP Pen Drives >> HP v220w 16 GB  Pen Drive (Silver, Black)\"]', '[\"Baby Care >> Infant Wear >> Baby Girls\\' Clothes >> Dresses & Skirts >> Dresses >> NeedyBee Dresses >> NeedyBee Baby Girl\\'s Layered Dress\"]', '[\"Home Decor & Festive Needs >> Showpieces >> eCraftIndia Showpieces\"]', '[\"Baby Care >> Furniture & Furnishings >> Inflatable Products >> Bestway Inflatable Products\"]', '[\"Beauty and Personal Care >> Fragrances >> Deodorants >> Combos >> Layer\\'r Combos\"]', '[\"Watches >> Wrist Watches >> Fighter Wrist Watches\"]', '[\"Beauty and Personal Care >> Health Care >> Medical Equipment & Accessories >> Surgical e Sstudio Medical Equipment & Accessories >> Surgical e Sstudio S0004 Gown, Pant Hospital Scr...\"]', '[\"Baby Care >> Infant Wear >> Baby Girls\\' Clothes >> Innerwear & Sleepwear >> Night Suits >> Thakkar Night Suits >> Thakkar Baby Girl\\'s Printed Top & Pyjama Set\"]', '[\"Kitchen & Dining >> Coffee Mugs >> Returnfavors Coffee Mugs\"]', '[\"Computers >> Laptop Accessories >> Computer Accessories Combos >> PRINT SHAPES Computer Accessories Combos >> PRINT SHAPES Sony headphone Laptop Skin with Mou...\"]', '[\"Home Decor & Festive Needs >> Showpiece >> Bharatcraft Showpiece >> Bharatcraft Wall Hanging Of Lord Ganesha On A Cr...\"]', '[\"Home Decor & Festive Needs >> Showpieces >> Woodino Handicrafts Showpieces\"]', '[\"Watches >> Wrist Watches >> Romex Wrist Watches\"]', '[\"Home Decor & Festive Needs >> Wall Decor & Clocks >> Posters >> Mega product Posters >> good-night-angel-sleep-well-pics Paper Print (18...\"]', '[\"Computers >> Laptop Accessories >> Mouse Pads >> FRENEMY Mouse Pads >> FRENEMY MPAD271 Mousepad (Multicolor)\"]', '[\"Baby Care >> Baby Bath & Skin >> Baby Bath Towels >> Shrikant Traders Baby Bath Towels\"]', '[\"Baby Care >> Baby Bedding >> Baby Bedsheets >> Mahadev Handicrafts Baby Bedsheets >> Mahadev Handicrafts Cotton Cartoon Double Bedshe...\"]', '[\"Baby Care >> Diapering & Potty Training >> Diaper Bags >> Mee Mee Diaper Bags >> Mee Mee Multifunctional Nursery Diaper Bag (Dark...\"]', '[\"Home Decor & Festive Needs >> Showpiece >> Contemporary >> Services Junction Contemporary >> Services Junction Gold Plated Ganesh Idol Showpi...\"]', '[\"Home Decor & Festive Needs >> Decorative Lighting & Lamps >> Table Lamps >> Eternity Table Lamps >> Eternity Handcrafted unique Mosaic Glass Table L...\"]', '[\"Baby Care >> Baby Grooming >> Baby Massage Oils >> Shagun Gold Baby Massage Oils\"]', '[\"Computers >> Network Components >> Routers >> Intex Routers\"]', '[\"Kitchen & Dining >> Pressure Cookers & Pans >> Prestige Pressure Cookers & Pans\"]', '[\"Home Decor & Festive Needs >> Showpieces >> Ethnic >> Surface180 Ethnic\"]', '[\"Baby Care >> Infant Wear >> Baby Boys\\' Clothes >> Shirts >> 612 League Shirts >> 612 League Baby Boy\\'s Checkered Casual Shirt\"]', '[\"Home Decor & Festive Needs >> Table Decor & Handicrafts >> Showpieces >> Religious Idols >> Recrafto Religious Idols\"]', '[\"Baby Care >> Baby Bath & Skin >> Baby Bath Towels >> Tks Baby Bath Towels >> Tks Cotton Hair Towel (1 Hair towel, Orange)\"]', '[\"Computers >> Laptop Accessories >> USB Gadgets >> JRB USB Gadgets >> JRB 1042 Smallest Mobile Powered By OTG Enabled ...\"]', '[\"Home Furnishing >> Kripa\\'s Home Furnishing >> Kripa\\'s Printed Cushions Cover (Pack of 2, 45 cm...\"]', '[\"Home Furnishing >> Floor Coverings >> Carpets & Rugs >> FURNISHINGLAND Maroon Silk Carpet (60 cm  X 180 cm)\"]', '[\"Baby Care >> Infant Wear >> Baby Girls\\' Clothes >> Dresses & Skirts >> Dresses >> Young Birds Dresses >> Young Birds Baby Girl\\'s Fit and Flare Dress\"]', '[\"Watches >> Clocks >> Table Clocks >> Like Table Clocks >> Like Analog Purple Clock\"]', '[\"Beauty and Personal Care >> Hair Care >> Hair Care Accessories >> Hair Accessories >> Majik Hair Accessories >> Majik Styling Decoration Hair Clip (Multicolor)\"]', '[\"Kitchen & Dining >> Kitchen Tools >> Kitchen Implements >> Pizza Cutters >> Apex Pizza Cutters\"]', '[\"Baby Care >> Diapering & Potty Training >> Nappies & Cloth Diapers >> HoA Nappies & Cloth Diapers\"]', '[\"Baby Care >> Infant Wear >> Baby Girls\\' Clothes >> Innerwear & Sleepwear >> Night Suits >> NammaBaby Night Suits >> NammaBaby Baby Girl\\'s Animal Print Top & Pyjama Set\"]', '[\"Baby Care >> Infant Wear >> Baby Girls\\' Clothes >> Dresses & Skirts >> Dresses >> Toddla Dresses >> Toddla Baby Girl\\'s Gathered Dress\"]', '[\"Beauty and Personal Care >> Makeup >> Vanity Boxes >> Soulful Threads Vanity Boxes >> Soulful Threads Red Thread Aari Embroidered Blac...\"]', '[\"Kitchen & Dining >> Consumables & Disposables >> Bowls >> Caffeine Bowls >> Caffeine Handmade Tribal Print Influenced Katori...\"]', '[\"Home Decor & Festive Needs >> Showpieces >> Unravel India Showpieces\"]', '[\"Baby Care >> Infant Wear >> Baby Boys\\' Clothes >> Shorts & Trousers >> Track Pants >> Shaun Track Pants >> Shaun Printed Baby Boy\\'s Yellow, Grey, Black Tra...\"]', '[\"Beauty and Personal Care >> Body and Skin Care >> Hand Care >> Manicure and Kits >> Sally Hansen Manicure and Kits\"]', '[\"Watches >> Wrist Watches >> TAG Heuer Wrist Watches\"]', '[\"Kitchen & Dining >> Cookware >> Pots & Pans >> Woks & Kadhais >> Peacock Woks & Kadhais\"]', '[\"Baby Care >> Infant Wear >> Baby Boys\\' Clothes >> Shirts >> Beebay Shirts >> Beebay Baby Boy\\'s Checkered Casual Shirt\"]', '[\"Home Decor & Festive Needs >> Table Decor & Handicrafts >> Showpieces >> Religious Idols >> Anjalika Religious Idols\"]', '[\"Kitchen & Dining >> Bar & Glassware >> Bar Accessories >> Bottle Openers >> arnavs Bottle Openers >> arnavs Multi1 Bottle Opener Set\"]', '[\"Kitchen & Dining >> Tableware & Cutlery >> Jugs & Pitchers >> Jugs >> Prisha India Craft Jugs >> Prisha India Craft m_jug015-1-prishaindia Water ...\"]', '[\"Beauty and Personal Care >> Hair Care >> Hair Colors >> Garnier Hair Colors >> Garnier Nutrisse Haircolor Hair Color (43 Dark G...\"]', '[\"Baby Care >> Infant Wear >> Baby Girls\\' Clothes >> Dresses & Skirts >> Dresses >> Chokree Dresses >> Chokree Baby Girl\\'s, Girl\\'s A-line Dress\"]', '[\"Home Decor & Festive Needs >> Wall Decor & Clocks >> Wall Decals & Stickers >> Smart Wall Guru Wall Decals & Stickers >> Smart Wall Guru Large Adhesive Sticker Sticker (...\"]', '[\"Watches >> Wrist Watches >> Xemex Wrist Watches\"]', '[\"Watches >> Wrist Watches >> Hourglass Wrist Watches\"]', '[\"Home Decor & Festive Needs >> Table Decor & Handicrafts >> Showpieces >> Religious Idols >> K&P Religious Idols >> K&P Lord Ganesha Regular 16 Showpiece  -  13 cm ...\"]', '[\"Kitchen & Dining >> Cookware >> Pots & Pans >> Woks & Kadhais >> Pigeon Woks & Kadhais\"]', '[\"Baby Care >> Feeding & Nursing >> Bibs & Hankies >> Bibs >> Cheeky Chompers Bibs >> Cheeky Chompers The Neckerchew - Simple Classic ...\"]', '[\"Computers >> Software >> Language Learning >> Physical >> Eureka.in Physical >> Eureka.in GSEB Class VII (Pen drive)\"]', '[\"Home Decor & Festive Needs >> Wall Decor & Clocks >> Clocks >> Wall Clocks >> KLOCX Wall Clocks >> KLOCX Analog Wall Clock (Black, With Glass)\"]', '[\"Home Decor & Festive Needs >> Religion & Devotion >> Shankh >> The Art Treasure Shankh\"]', '[\"Baby Care >> Baby Bath & Skin >> Baby Shower Caps >> 3kFactory Baby Shower Caps >> 3kFactory Baby Shower Cap- Purple\"]', '[\"Computers >> Computer Peripherals >> CPU >> I Ball CPU >> I Ball IBCTDC 160/2gb/DDR2 with Dual Core 2 RAM ...\"]', '[\"Home Decor & Festive Needs >> Table Decor & Handicrafts >> Showpieces >> Fengshui >> Treasure Fengshui >> Treasure Showpiece  -  23 cm (Polyresin, Blue)\"]', '[\"Beauty and Personal Care >> Bath and Spa >> Body and Essential Oils >> Allin Exporters Body and Essential Oils >> Allin Exporters Cumin Seed Oil (Co2 Extract) (25...\"]', '[\"Beauty and Personal Care >> Men\\'s Grooming >> Sivanna Men\\'s Grooming >> Sivanna Baking Powder Rouge  Highlighter (Dark p...\"]', '[\"Home Furnishing >> Kitchen & Dining Linen >> Kitchen Linen Sets >> Cotonex Blue, White Cotton Kitchen Linen Set (Pa...\"]', '[\"Kitchen & Dining >> Coffee Mugs >> Happiness Is Coffee Mugs >> Happiness Is Printed Bone China Mug (300 ml)\"]', '[\"Beauty and Personal Care >> Makeup >> Lips >> Lipsticks >> Incolor Lipsticks\"]', '[\"Kitchen & Dining >> Cookware >> Pots & Pans >> Woks & Kadhais >> Recon Woks & Kadhais\"]', '[\"Home Decor & Festive Needs >> Table Decor & Handicrafts >> Showpieces >> Religious Idols >> Utsav Handicraft Religious Idols\"]', '[\"Home Furnishing >> Bed Linen >> Blankets, Quilts & Dohars >> Remtex Export Cartoon Single Dohar Multicolor (1...\"]', '[\"Home Furnishing >> Kitchen & Dining Linen >> Kitchen Linen Sets >> Cotonex Black, White Cotton Kitchen Linen Set (P...\"]', '[\"Beauty and Personal Care >> Makeup >> Vanity Boxes >> Craftuno Vanity Boxes\"]', '[\"Home Decor & Festive Needs >> Religion & Devotion >> brass gift center Religion & Devotion >> brass gift center Showpiece  -  48 cm (Brass, Mu...\"]', '[\"Beauty and Personal Care >> Hair Care >> Hair Colors >> Loreal Hair Colors >> Loreal Diarichesse No- 5 Light Brown ( Pack of 3...\"]', '[\"Baby Care >> Infant Wear >> Baby Boys\\' Clothes >> Dungarees & Jumpsuits >> Dungarees >> Babeezworld Dungarees >> Babeezworld Baby Boy\\'s Romper\"]', '[\"Home Decor & Festive Needs >> Flowers, Plants & Vases >> Flower Vase >> @home Flower Vase >> @home Earthy Wine Net Ceramic Vase (9.8250000000...\"]', '[\"Beauty and Personal Care >> Makeup >> Vanity Boxes >> Artist Haat Vanity Boxes\"]', '[\"Kitchen & Dining >> Cookware >> Pots & Pans >> Woks & Kadhais >> Bergner Woks & Kadhais\"]', '[\"Home Decor & Festive Needs >> Showpieces >> Ethnic >> The Ethnic Story Ethnic\"]', '[\"Baby Care >> Infant Wear >> Baby Girls\\' Clothes >> Innerwear & Sleepwear >> Night Suits >> LITTLE FEETZ Night Suits >> LITTLE FEETZ Baby Girl\\'s Solid Top & Skirt Set\"]', '[\"Kitchen & Dining >> Coffee Mugs >> Rajesh Digital Coffee Mugs\"]', '[\"Baby Care >> Infant Wear >> Baby Boys\\' Clothes >> Dungarees & Jumpsuits >> Dungarees >> Kandyfloss Dungarees >> Kandyfloss Baby Boy\\'s, Baby Girl\\'s Romper\"]', '[\"Watches >> Wrist Watches >> Vizion Wrist Watches\"]', '[\"Watches >> Wrist Watches >> Lenco Wrist Watches\"]', '[\"Home Decor & Festive Needs >> Showpieces >> Ethnic >> Pg handicrafts Ethnic\"]', '[\"Home Decor & Festive Needs >> Showpieces >> Malhar Showpieces\"]', '[\"Home Decor & Festive Needs >> Flowers, Plants & Vases >> Flower Vase >> @home Flower Vase >> @home Glass Vase (18 inch, Grey)\"]', '[\"Home Decor & Festive Needs >> Showpieces >> Ethnic >> Unique Design Ethnic\"]', '[\"Computers >> Laptop Accessories >> Laptop Adapters >> Hako Laptop Adapters >> Hako 45W Magsafe Laptop Charger For APPLE MacBoo...\"]', '[\"Home Decor & Festive Needs >> Wall Decor & Clocks >> Posters >> Shoperite Posters >> painting_art_couple_love__Dance Paper Print (12 ...\"]', '[\"Baby Care >> Infant Wear >> Baby Boys\\' Clothes >> Bodysuits & Sleepsuits >> Bodysuits >> chota packet Bodysuits >> chota packet Baby Boy\\'s, Baby Girl\\'s Bodysuit\"]', '[\"Home Decor & Festive Needs >> Table Decor & Handicrafts >> Showpieces >> Human Figurines >> Kaatru Human Figurines\"]', '[\"Watches >> Wrist Watches >> Camerii Wrist Watches\"]', '[\"Computers >> Network Components >> Routers >> Belkin Routers\"]', '[\"Computers >> Laptop Accessories >> USB Gadgets >> LUV USB Gadgets\"]', '[\"Kitchen & Dining >> Containers & Bottles >> Bottles & Sippers >> Water bottle >> Garnet Water bottle >> Garnet Traveller 1500 ml Bottle (Pack of 6, Mult...\"]', '[\"Computers >> Laptop Accessories >> USB Gadgets >> Generix USB Gadgets\"]', '[\"Beauty and Personal Care >> Makeup >> Vanity Boxes >> Borse Vanity Boxes\"]', '[\"Watches >> Wrist Watches >> Global Nomad Wrist Watches\"]', '[\"Kitchen & Dining >> Bar & Glassware >> Bar Accessories >> Cork Screws >> Seven Seas Cork Screws\"]', '[\"Home Decor & Festive Needs >> Showpieces >> Unique Design Showpieces\"]', '[\"Home Furnishing >> Curtains & Accessories >> Curtains >> Ville Style Polyester Maroon Floral Eyelet Door ...\"]', '[\"Beauty and Personal Care >> Fragrances >> Deodorants >> Combos >> French Factor Combos\"]', '[\"Home Furnishing >> Living Room Furnishing >> Lushomes Living Room Furnishing >> Lushomes Plain Back Cushion (Pack of5, Brown)\"]', '[\"Beauty and Personal Care >> Fragrances >> Deodorants >> Combos >> Spinz Combos\"]', '[\"Beauty and Personal Care >> Fragrances >> Deodorants >> Combos >> Addiction Combos\"]', '[\"Baby Care >> Baby Bedding >> Baby Blankets >> My NewBorn Baby Blankets\"]', '[\"Kitchen & Dining >> Cookware >> Pots & Pans >> Woks & Kadhais >> Pristine Woks & Kadhais\"]', '[\"Baby Care >> Infant Wear >> Baby Girls\\' Clothes >> Leggings & Jeggings >> Zero Leggings & Jeggings >> Zero Baby Girl\\'s Leggings (Pack of 3)\"]', '[\"Computers >> Laptop Accessories >> Computer Accessories Combos >> PRINT SHAPES Computer Accessories Combos >> PRINT SHAPES despicable me 2 looking upwards Lap...\"]', '[\"Watches >> Wrist Watches >> Calibro Wrist Watches\"]', '[\"Baby Care >> Baby Bath & Skin >> Baby Bath Towels >> Love Baby Baby Bath Towels\"]', '[\"Home Furnishing >> Floor Coverings >> Carpets & Rugs >> GIMS Brown Viscose Carpet (165 cm  X 120 cm)\"]', '[\"Baby Care >> Infant Wear >> Baby Boys\\' Clothes >> Combo Sets >> HEAVENLY Combo Sets >> HEAVENLY Dress Baby Boy\\'s  Combo\"]', '[\"Kitchen & Dining >> Kitchen Tools >> Kitchen Implements >> Kitchen Scissors >> Checkered Chef Kitchen Scissors >> Checkered Chef Steel All-Purpose Scissor (Red, B...\"]', '[\"Computers >> Laptop Accessories >> USB Gadgets >> Dizionario USB Gadgets\"]', '[\"Home Decor & Festive Needs >> Table Decor & Handicrafts >> Showpieces >> Religious Idols >> Radhika\\'s World of Crafts Religious Idols\"]', '[\"Home Decor & Festive Needs >> Wall Decor & Clocks >> Wall Decals & Stickers >> Wall Decal Wall Decals & Stickers >> Wall Decal Small Self Adhesive Sticker (Pack of 1)\"]', '[\"Baby Care >> Infant Wear >> Baby Girls\\' Clothes >> Dresses & Skirts >> Dresses >> Next Steps Dresses\"]', '[\"Home Decor & Festive Needs >> Table Decor & Handicrafts >> Showpieces >> Human Figurines >> Hand Art Human Figurines\"]', '[\"Beauty and Personal Care >> Body and Skin Care >> Face Care >> Sunscreen >> Lotus Sunscreen\"]', '[\"Watches >> Wrist Watches >> Chappin & Nellson Wrist Watches\"]', '[\"Beauty and Personal Care >> Fragrances >> Deodorants >> Combos >> Arabian Nights Combos\"]', '[\"Baby Care >> Infant Wear >> Baby Girls\\' Clothes >> Combo Sets >> kawal fashion Combo Sets >> kawal fashion Pyjama Baby Girl\\'s  Combo\"]', '[\"Kitchen & Dining >> Coffee Mugs >> AKUP Coffee Mugs >> AKUP life-is-not-living Ceramic Mug (300 ml)\"]', '[\"Home Furnishing >> Living >> Sofa Covers >> Balaji Velvet Sofa Cover (Brown Pack of 6)\"]', '[\"Baby Care >> Infant Wear >> Baby Boys\\' Clothes >> Bodysuits & Sleepsuits >> Sleepsuits >> FS Mini Klub Sleepsuits >> FS Mini Klub Baby Boy\\'s Sleepsuit\"]', '[\"Home Furnishing >> Living >> Sofa Covers >> Bhavya Velvet Sofa Cover (Grey Pack of 10)\"]', '[\"Baby Care >> Infant Wear >> Baby Girls\\' Clothes >> Dresses & Skirts >> Dresses >> Seals Dresses >> Seals Baby Girl\\'s A-line Dress\"]', '[\"Kitchen & Dining >> Cookware >> Lids >> Elephant Lids\"]', '[\"Computers >> Laptop Accessories >> Batteries >> Clublaptop Batteries\"]', '[\"Baby Care >> Baby & Kids Gifts >> Stickers >> 999store Stickers\"]', '[\"Computers >> Laptop Accessories >> Anti Dust Plugs >> Pindia Anti Dust Plugs\"]', '[\"Baby Care >> Infant Wear >> Baby Boys\\' Clothes >> Shorts & Trousers >> Shorts >> FS Mini Klub Shorts >> FS Mini Klub Printed Baby Boy\\'s Multicolor Basic...\"]', '[\"Watches >> Wrist Watches >> Yves Bertelin Wrist Watches >> Yves Bertelin YBSCR557 Analog Watch  - For Women\"]', '[\"Baby Care >> Baby & Kids Gifts >> Photo Frames >> Cocovey Photo Frames\"]', '[\"Beauty and Personal Care >> Hair Care >> Conditioners >> TIGI BED HEAD Conditioners >> TIGI BED HEAD COLOUR GODDESS OIL INFUSED CONDITI...\"]', '[\"Home Decor & Festive Needs >> Table Decor & Handicrafts >> Showpieces >> Human Figurines >> Art Godaam Human Figurines\"]', '[\"Baby Care >> Baby Bedding >> Baby Bedsheets >> Sparklings Baby Bedsheets >> Sparklings Cotton Checkered Double Bedsheet (dou...\"]', '[\"Watches >> Wrist Watches >> Lois Caron Wrist Watches\"]', '[\"Baby Care >> Baby Bedding >> Baby Bedsheets >> Bela Home Baby Bedsheets >> Bela Home Cotton Cartoon Single Bedsheet (1 Sing...\"]', '[\"Baby Care >> Infant Wear >> Baby Boys\\' Clothes >> Shorts & Trousers >> Shorts >> Lilliput Shorts >> Lilliput Solid Baby Boy\\'s Blue Cargo Shorts\"]', '[\"Home Decor & Festive Needs >> Wall Decor & Clocks >> Posters >> STYLE CLUES FASHION Posters >> scarlet tanager bird normal POSTER Paper Print (...\"]', '[\"Baby Care >> Infant Wear >> Baby Girls\\' Clothes >> Innerwear & Sleepwear >> Night Suits >> next steps Night Suits >> next steps Baby Girl\\'s Striped Top & Pyjama Set\"]', '[\"Home Decor & Festive Needs >> Table Decor & Handicrafts >> Table Decor >> Hookah & Hookah Flavours >> Hookah Flavors >> Al Fakher Hookah Flavors\"]', '[\"Watches >> Wrist Watches >> CB Fashion Wrist Watches\"]', '[\"Home Decor & Festive Needs >> Showpieces >> Ethnic >> Nihar Ethnic\"]', '[\"Baby Care >> Feeding & Nursing >> Bottles & Accessories >> Bottle Covers >> KOHL Bottle Covers >> KOHL Wine Bag Yellow (Yellow)\"]', '[\"Baby Care >> Infant Wear >> Baby Girls\\' Clothes >> Dresses & Skirts >> Dresses >> Jacadi Paris Dresses >> Jacadi Paris Baby Girl\\'s Gathered Blue Dress\"]', '[\"Kitchen & Dining >> Coffee Mugs >> HuppmeGift Coffee Mugs >> HuppmeGift Happy Birthday Navneet Inner Red Cera...\"]', '[\"Watches >> Wrist Watches >> Fogg Fashion Store Wrist Watches\"]', '[\"Kitchen & Dining >> Cookware >> Pots & Pans >> Woks & Kadhais >> Suruchi Woks & Kadhais\"]', '[\"Home Decor & Festive Needs >> Decorative Lighting & Lamps >> Series Lights >> Weldecor Series Lights\"]', '[\"Computers >> Laptop Accessories >> Laptop Adapters >> Hako Laptop Adapters >> Hako 85W Magsafe Laptop Charger For APPLE MacBoo...\"]', '[\"Computers >> Laptop Accessories >> USB Gadgets >> Amaze Fashion USB Gadgets\"]', '[\"Watches >> Wrist Watches >> Rana Watches Wrist Watches\"]', '[\"Kitchen & Dining >> Cookware >> Pots & Pans >> Woks & Kadhais >> Supreme Cookwares Woks & Kadhais\"]', '[\"Baby Care >> Infant Wear >> Baby Boys\\' Clothes >> Accessories >> Caps >> florence9 Caps >> florence9 baby cap red checks Cap\"]', '[\"Home Decor & Festive Needs >> Table Decor & Handicrafts >> Showpieces >> Religious Idols >> Divine Gifts & Artificial Jewellery Religious Idols\"]', '[\"Kitchen & Dining >> Kitchen Tools >> Kitchen Implements >> Pizza Cutters >> Go Hooked Pizza Cutters\"]', '[\"Beauty and Personal Care >> Health Care >> Medicines & Treatment >> First Aid >> Hot & Cold Packs >> OMRD Hot & Cold Packs >> OMRD RD6697 Hot and cold Pack (GREEN)\"]', '[\"Kitchen & Dining >> Cookware >> Casserole & Sets >> Cookart Casserole & Sets >> Cookart Elegant S.S. Handi With Hot Pot Pack of ...\"]', '[\"Baby Care >> Infant Wear >> Baby Boys\\' Clothes >> Suits and Blazers >> Blazers >> Oxolloxo Blazers >> Oxolloxo Solid Single Breasted Casual Women\\'s Bl...\"]', '[\"Home Decor & Festive Needs >> Showpieces >> Ethnic >> MCB Exports Ethnic\"]', '[\"Baby Care >> Baby Bedding >> Baby Blankets >> Relaxfeel Baby Blankets >> Relaxfeel Floral Single Dohar White (AC Dohar)\"]', '[\"Baby Care >> Feeding & Nursing >> Utensils >> Sippers & Cups >> Blue Bell Sippers & Cups\"]', '[\"Home Furnishing >> Bath Linen >> Bath Mats\"]', '[\"Computers >> Laptop Accessories >> USB Gadgets >> Lifestyle-You USB Gadgets\"]', '[\"Watches >> Wrist Watches >> SVM Wrist Watches\"]', '[\"Baby Care >> Infant Wear >> Baby Boys\\' Clothes >> Polos & T-Shirts >> Dongli Polos & T-Shirts >> Dongli Striped Baby Boy\\'s Polo Neck T-Shirt\"]', '[\"Baby Care >> Infant Wear >> Baby Girls\\' Clothes >> Bodysuits & Sleepsuits >> Sleepsuits >> Rute Sleepsuits >> Rute Baby Girl\\'s Sleepsuit\"]', '[\"Kitchen & Dining >> Kitchen Tools >> Kitchen Implements >> Pizza Cutters >> Celebrity Pizza Cutters\"]', '[\"Home Furnishing >> Kitchen & Dining Linen >> Table Linen Sets >> JewelKraft Designs Brown, Pink Table Linen Set\"]', '[\"Baby Care >> Infant Wear >> Baby Girls\\' Clothes >> Innerwear & Sleepwear >> Night Suits >> Mom and Kid Night Suits >> Mom and Kid Baby Girl\\'s Printed Blue, Grey Top &...\"]', '[\"Home Decor & Festive Needs >> Table Decor & Handicrafts >> Showpieces >> Religious Idols >> CTW Religious Idols >> CTW Ganpati Bapa Moriya Statue Showpiece  -  12 ...\"]', '[\"Beauty and Personal Care >> Beauty Accessories >> Makeup Accessories >> Brushes and Applicators >> LOTTIE LONDON Brushes and Applicators >> LOTTIE LONDON MAKE ME BLUSH (Pack of 1)\"]', '[\"Kitchen & Dining >> Bar & Glassware >> Bar Accessories >> Cork Screws >> Pedrini Cork Screws\"]', '[\"Baby Care >> Baby Grooming >> Baby Grooming Combos >> Lollipop Lane Baby Grooming Combos\"]', '[\"Baby Care >> Infant Wear >> Baby Boys\\' Clothes >> Shirts >> Jacadi paris Shirts >> Jacadi paris Baby Boy\\'s Striped Casual Blue Shirt\"]', '[\"Baby Care >> Infant Wear >> Baby Girls\\' Clothes >> Shorts & Trousers >> Trousers >> CoffeeBean Trousers >> CoffeeBean Regular Fit Baby Girl\\'s Pink Trousers\"]', '[\"Computers >> Laptop Accessories >> Computer Accessories Combos >> PRINT SHAPES Computer Accessories Combos >> PRINT SHAPES red Heart Laptop Skin with Mouse pa...\"]', '[\"Baby Care >> Baby Bath & Skin >> Baby Body Wash >> TRESemme Baby Body Wash >> TRESemme Naturals Vibrantly Smooth Shampoo (591)\"]', '[\"Beauty and Personal Care >> Women\\'s Hygiene >> Combo & kits >> Clear Face Combo & kits >> Clear Face Kesar Chandan Multivitamin Nourishing...\"]', '[\"Home Decor & Festive Needs >> Showpieces >> Ethnic >> Ravishing Variety Ethnic\"]', '[\"Computers >> Computer Components >> Processors >> Intel Processors >> Intel 3.2 GHz LGA 1150 3250 Processor (BLACK)\"]', '[\"Beauty and Personal Care >> Hair Care >> Conditioners >> Burt s Bees Conditioners >> Burt s Bees Hair Repair Shea And Grapefruit Deep...\"]', '[\"Baby Care >> Infant Wear >> Baby Boys\\' Clothes >> Dungarees & Jumpsuits >> Jumpsuits >> Poppins Jumpsuits\"]', '[\"Beauty and Personal Care >> Body and Skin Care >> Face Care >> Sunscreen >> Jovees Sunscreen\"]', '[\"Baby Care >> Infant Wear >> Baby Girls\\' Clothes >> Dresses & Skirts >> Dresses >> Titrit Dresses >> Titrit Baby Girl\\'s Gathered Dress\"]', '[\"Baby Care >> Diapering & Potty Training >> Nappies & Cloth Diapers >> Pompom Sweethearts Nappies & Cloth Diapers\"]', '[\"Computers >> Laptop Accessories >> Adapters >> Lapguard Adapters\"]', '[\"Beauty and Personal Care >> Body and Skin Care >> Face Care >> Sunscreen >> Oriflame Sweden Sunscreen\"]', '[\"Home Decor & Festive Needs >> Decorative Lighting & Lamps >> Series Lights >> My Party Suppliers Series Lights\"]', '[\"Baby Care >> Infant Wear >> Baby Girls\\' Clothes >> Accessories >> Caps >> Portia Caps\"]', '[\"Kitchen & Dining >> Cookware >> Pots & Pans >> Woks & Kadhais >> Sumeet Woks & Kadhais\"]', '[\"Kitchen & Dining >> Coffee Mugs >> AKUP Coffee Mugs >> AKUP i-love-my-mom Ceramic Mug (300 ml)\"]', '[\"Beauty and Personal Care >> Makeup >> Lips >> Lip Liners >> Giorgio Armani Lip Liners >> Giorgio Armani SMOOTH SILK LIP PENCIL 12 (Soyeux...\"]', '[\"Computers >> Laptop Accessories >> Computer Accessories Combos >> PRINT SHAPES Computer Accessories Combos >> PRINT SHAPES doraemon Laptop Skin with Mouse pad...\"]', '[\"Home Decor & Festive Needs >> Wall Decor & Clocks >> Clocks >> Wall Clocks >> eCraftIndia Wall Clocks\"]', '[\"Home Furnishing >> Cushions, Pillows & Covers >> Cushion Covers >> Ally The Creations Printed Cushions Cover (Pack ...\"]', '[\"Baby Care >> Infant Wear >> Baby Boys\\' Clothes >> Dungarees & Jumpsuits >> Jumpsuits >> Earth Conscious Jumpsuits\"]', '[\"Baby Care >> Infant Wear >> Baby Boys\\' Clothes >> Shirts >> Cotton On Kids Shirts >> Cotton On Kids Baby Boy\\'s Printed Casual Shirt\"]', '[\"Beauty and Personal Care >> Body and Skin Care >> Face Care >> Sunscreen >> Richfeel Sunscreen\"]', '[\"Baby Care >> Diapering & Potty Training >> Changing Tables >> BASRA Changing Tables >> BASRA uepgrn Green Changing Table\"]', '[\"Kitchen & Dining >> Bar & Glassware >> Bar Glasses >> Art n Beyond Bar Glasses >> Art n Beyond 150013 (300 ml, Clear, Pack of 6)\"]', '[\"Watches >> Wrist Watches >> D\\'Signer Wrist Watches\"]', '[\"Computers >> Tablet Accessories >> Keyboards >> Saco Keyboards\"]', '[\"Computers >> Laptop Accessories >> USB Gadgets >> APOLLO+ USB Gadgets >> APOLLO+ Pack Of 3 Flexible Led Light (Multicolour)\"]', '[\"Baby Care >> Infant Wear >> Baby Girls\\' Clothes >> Dresses & Skirts >> Dresses >> Fs Mini Klub Dresses >> Fs Mini Klub Baby Girl\\'s Fit and Flare Dress\"]', '[\"Kitchen & Dining >> Lighting >> Bulbs >> NIKsales Bulbs\"]', '[\"Watches >> Wrist Watches >> Adino Wrist Watches >> Adino ADF04 Analog Watch  - For Girls\"]', '[\"Baby Care >> Infant Wear >> Baby Girls\\' Clothes >> T-Shirts & Tops >> Shrugs >> Kushies baby Shrugs >> Kushies baby Baby Girl\\'s Shrug\"]', '[\"Kitchen & Dining >> Lighting >> Bulbs >> Simoco Bulbs\"]', '[\"Computers >> Computer Peripherals >> Printers & Inks >> Toners >> Canon Toners\"]', '[\"Computers >> Laptop Accessories >> Laptop Bags >> Sunlast Laptop Bags >> Sunlast 16 inch Laptop Backpack (Yellow)\"]', '[\"Baby Care >> Infant Wear >> Baby Girls\\' Clothes >> Leggings & Jeggings >> Babyoye Premium Leggings & Jeggings >> Babyoye Premium Baby Girl\\'s Grey Leggings\"]', '[\"Beauty and Personal Care >> Body and Skin Care >> Face Care >> Sunscreen >> Whiteherbs Sunscreen\"]', '[\"Computers >> Network Components >> Routers >> Netis Routers\"]', '[\"Computers >> Laptop Accessories >> Batteries >> RCE Batteries\"]', '[\"Home Furnishing >> Kitchen & Dining Linen >> Kitchen Linen Sets >> Cotonex Yellow, Green Cotton Kitchen Linen Set (...\"]', '[\"Watches >> Wrist Watches >> Titan Wrist Watches\"]', '[\"Watches >> Wrist Watches >> Logues Wrist Watches\"]', '[\"Home Decor & Festive Needs >> Wall Decor & Clocks >> Key Holders >> Craftcart Key Holders >> Craftcart Parrot Antique Brass Key Holder (5 Hoo...\"]', '[\"Beauty and Personal Care >> Fragrances >> Deodorants >> Sprays >> LAWMAN PG3 Sprays >> LAWMAN PG3 Striker,, Winger , Contender Deodoran...\"]', '[\"Home Furnishing >> Curtains & Accessories >> Curtains >> Aroma Comfort Polyester Brown Printed Eyelet Win...\"]', '[\"Computers >> Network Components >> Routers >> D-Link Routers >> D-Link DAP1320 (White)\"]', '[\"Baby Care >> Infant Wear >> Baby Girls\\' Clothes >> Dresses & Skirts >> Dresses >> My Little Lambs Dresses >> My Little Lambs Baby Girl\\'s Gathered Dress\"]', '[\"Baby Care >> Baby Bedding >> Baby Sleeping Bags >> Baby Bucket Baby Sleeping Bags >> Baby Bucket SHERIN MULTI BEAR Sleeping Bag (Green)\"]', '[\"Watches >> Wrist Watches >> Cartier Wrist Watches\"]', '[\"Kitchen & Dining >> Tableware & Cutlery >> Jug, Glass & Tray Sets >> Dungri India Craft Jug, Glass & Tray Sets >> Dungri India Craft Ducjug010-ducgl012-2 Jug Glas...\"]', '[\"Baby Care >> Baby Grooming >> Cotton Buds >> SJ Cotton Buds >> SJ Tulip multi use cotton Balls (Pack of 100)\"]', '[\"Home Decor & Festive Needs >> Table Decor & Handicrafts >> Showpieces >> Religious Idols >> AsiaCraft Religious Idols\"]', '[\"Kitchen & Dining >> Kitchen Tools >> Kitchen Implements >> Pizza Cutters >> Sam Pizza Cutters\"]', '[\"Kitchen & Dining >> Cookware >> Pots & Pans >> Woks & Kadhais >> Leo Natura Woks & Kadhais\"]', '[\"Baby Care >> Infant Wear >> Baby Girls\\' Clothes >> Bodysuits & Sleepsuits >> Bodysuits >> Mom & Me Bodysuits >> Mom & Me Baby Girl\\'s Bodysuit\"]', '[\"Computers >> Laptop Accessories >> USB Gadgets >> Fonokase USB Gadgets\"]', '[\"Kitchen & Dining >> Coffee Mugs >> AM Creation Coffee Mugs >> AM Creation Magic  Ceramic Mug (273 ml, Pack of 2)\"]', '[\"Watches >> Wrist Watches >> palito Wrist Watches >> palito PLO 166 Analog Watch  - For Girls, Women\"]', '[\"Baby Care >> Infant Wear >> Baby Girls\\' Clothes >> Dresses & Skirts >> Dresses >> MKB Dresses >> MKB Baby Girl\\'s Shirt Dress\"]', '[\"Home Furnishing >> Living >> Sofa Covers >> Swastik Sofa Covers >> Swastik Velvet Sofa Cover (Multicolor Pack of 10)\"]', '[\"Kitchen & Dining >> Lighting >> Bulbs >> Ornate Bulbs\"]', '[\"Computers >> Laptop Accessories >> USB Gadgets >> Epresent USB Gadgets\"]', '[\"Baby Care >> Infant Wear >> Baby Girls\\' Clothes >> Leggings & Jeggings >> GREENWICH Leggings & Jeggings >> GREENWICH Baby Girl\\'s Black Jeggings\"]', '[\"Kitchen & Dining >> Kitchen Tools >> Kitchen Implements >> Hand Juicers >> JayEnterprise Hand Juicers >> JayEnterprise Plastic Hand Juicer (Multicolor)\"]', '[\"Kitchen & Dining >> Kitchen Tools >> Kitchen Implements >> Pizza Cutters >> Agromech Pizza Cutters\"]', '[\"Baby Care >> Baby Bedding >> Baby Blankets >> Ireeya Baby Blankets\"]', '[\"Computers >> Tablet Accessories >> Cases & Covers >> YGS Cases & Covers >> YGS Keyboard Case for Asus Memo Pad 7in Tab (Pink)\"]', '[\"Watches >> Wrist Watches >> Firstrace Wrist Watches\"]', '[\"Home Decor & Festive Needs >> Showpieces >> Ethnic >> Infinity India Ethnic\"]', '[\"Home Decor & Festive Needs >> Showpieces >> Ethnic >> Purpledip Ethnic\"]', '[\"Computers >> Storage >> Pen Drives >> Shopizone Pen Drives >> Shopizone BMW Wheel 32 GB  Pen Drive (Black)\"]', '[\"Baby Care >> Infant Wear >> Baby Girls\\' Clothes >> Ethnic Wear >> Salwar Kurta Dupattas >> TWISHA Salwar Kurta Dupattas >> TWISHA Printed Kurti & Salwar\"]', '[\"Home Decor & Festive Needs >> Flowers, Plants & Vases >> Artificial Plants >> V Creations Artificial Plants >> V Creations Bonsai Cactus Artificial Plant  with...\"]', '[\"Home Furnishing >> Bath Linen >> Bath Mats >> Amit Carpet Polyester Medium Door Mat ACI2016034...\"]', '[\"Baby Care >> Baby Bath & Skin >> Baby Body Wash >> L Oreal Baby Body Wash >> L Oreal Eversleek Sulfate - Free Smoothing Syste...\"]', '[\"Computers >> Network Components >> Routers >> Linksys Routers\"]', '[\"Home Decor & Festive Needs >> Showpiece >> Contemporary >> Bharatcraft Contemporary >> Bharatcraft Showpiece  -  5 cm (Polyresin, Brown)\"]', '[\"Home Decor & Festive Needs >> Decorative Lighting & Lamps >> Floor Lamp >> Nutcase Floor Lamp >> Nutcase Multicolor Column Floor Lamp (31 cm)\"]', '[\"Beauty and Personal Care >> Body and Skin Care >> Face Care >> Sunscreen >> La Roche-Posay Sunscreen\"]', '[\"Computers >> Laptop Accessories >> USB Gadgets >> De TechInn USB Gadgets\"]', '[\"Beauty and Personal Care >> Combos and Kits >> Mars Combos and Kits >> Mars Queen Eye Liner, Lip Gloss, EyeLiner (Set o...\"]', '[\"Home Decor & Festive Needs >> Wall Decor & Clocks >> Wall Decals & Stickers >> Smart Wall Guru Wall Decals & Stickers >> Smart Wall Guru Medium Adhesive Sticker (Pack of 1)\"]', '[\"Beauty and Personal Care >> Body and Skin Care >> Lip Care >> Lip Balms >> Good Way Lip Balms >> Good Way Peppermint Lip Balm Pepper (8 g)\"]', '[\"Baby Care >> Baby Bath & Skin >> Baby Bath Towels >> Neyth Baby Bath Towels\"]', '[\"Beauty and Personal Care >> Body and Skin Care >> Face Care >> Sunscreen >> VLCC Sunscreen\"]', '[\"Beauty and Personal Care >> Body and Skin Care >> Hand Care >> Manicure and Kits >> Svayam Manicure and Kits\"]', '[\"Computers >> Laptop Accessories >> Adapters >> Rega IT Adapters\"]', '[\"Home Furnishing >> Bed Linen >> Bedsheets >> Jaipur Print Bedsheets >> Jaipur Print Cotton Floral King sized Double Bed...\"]', '[\"Baby Care >> Infant Wear >> Baby Girls\\' Clothes >> Ethnic Wear >> Salwar Kurta Dupattas >> Aarika Salwar Kurta Dupattas >> Aarika Self Design Kurta & Patiyala\"]', '[\"Baby Care >> Infant Wear >> Baby Boys\\' Clothes >> Bodysuits & Sleepsuits >> Bodysuits >> Anthill Bodysuits\"]', '[\"Beauty and Personal Care >> Health Care >> Health Care Accessories >> Health Care Accessories >> KDS SURGICAL Health Care Accessories >> KDS SURGICAL Tripod Walking Stick\"]', '[\"Home Decor & Festive Needs >> Showpiece >> Contemporary >> Services Junction Contemporary >> Services Junction Beautiful Black and Golden col...\"]', '[\"Baby Care >> Baby & Kids Gifts >> Stickers >> Elite Collection Stickers\"]', '[\"Watches >> Wrist Watches >> Pittsburgh Polo Club Wrist Watches >> Pittsburgh Polo Club PBPC-505-GRN Analog Watch  ...\"]', '[\"Home Decor & Festive Needs >> Decorative Lighting & Lamps >> Series Lights >> Megaway Series Lights\"]', '[\"Home Furnishing >> Curtains & Accessories >> Curtains >> Aroma Comfort Polyester Dark Blue Plain Eyelet W...\"]', '[\"Kitchen & Dining >> Bar & Glassware >> Bar Glasses >> Ocean Bar Glasses >> Ocean CPGW087 (280 ml, Clear, Pack of 6)\"]', '[\"Home Decor & Festive Needs >> Showpieces >> Jaipur Raga Showpieces\"]', '[\"Beauty and Personal Care >> Body and Skin Care >> Hand Care >> Manicure and Kits >> Go Bonjour Manicure and Kits\"]', '[\"Beauty and Personal Care >> Makeup >> Eyes >> Eye Shadows >> e.l.f. Cosmetics Eye Shadows >> e.l.f. Cosmetics Studio brow Kit Ash Brow Makeup...\"]', '[\"Kitchen & Dining >> Lighting >> Bulbs >> VRCT Bulbs\"]', '[\"Beauty and Personal Care >> Bath and Spa >> Soaps >> Aster Luxury Soaps >> Aster Luxury Arabic Oudh Bathing Bar - Pack of 4...\"]', '[\"Watches >> Wrist Watches >> LUBA Wrist Watches\"]', '[\"Watches >> Wrist Watches >> ESIDON Wrist Watches >> ESIDON AKADA06 Analog Watch  - For Women\"]', '[\"Home Decor & Festive Needs >> Flowers, Plants & Vases >> Artificial Plants >> Miracle Retail Artificial Plants >> Miracle Retail Bonsai Wild Plant Artificial Plan...\"]', '[\"Home Decor & Festive Needs >> Showpieces >> Ethnic >> RoyalsCart Ethnic\"]', '[\"Watches >> Wrist Watches >> Elantra Wrist Watches\"]', '[\"Computers >> Laptop Accessories >> Computer Accessories Combos >> PRINT SHAPES Computer Accessories Combos >> PRINT SHAPES Graphic Dancer Laptop Skin with Mou...\"]', '[\"Baby Care >> Infant Wear >> Baby Boys\\' Clothes >> Shirts >> Fs Mini Klub Shirts >> Fs Mini Klub Baby Boy\\'s Woven Casual Shirt\"]', '[\"Watches >> Wrist Watches >> R.S Wrist Watches\"]', '[\"Home Decor & Festive Needs >> Showpieces >> MA Design Hut Showpieces\"]', '[\"Home Decor & Festive Needs >> Wall Decor & Clocks >> Key Holders >> VarEesha Key Holders >> VarEesha Wooden Key Holder (8 Hooks, Multicolor)\"]', '[\"Baby Care >> Infant Wear >> Baby Girls\\' Clothes >> Bodysuits & Sleepsuits >> Bodysuits >> FS Mini Klub Bodysuits >> FS Mini Klub Baby Girl\\'s Bodysuit\"]', '[\"Baby Care >> Feeding & Nursing >> Utensils >> Sippers & Cups >> Munchkin Sippers & Cups\"]', '[\"Home Furnishing >> Curtains & Accessories >> Curtains >> Aroma Comfort Polyester Blue Floral Eyelet Long ...\"]', '[\"Home Decor & Festive Needs >> Showpieces >> Parv Collections Showpieces\"]', '[\"Baby Care >> Baby Bath & Skin >> Baby Bath Towels >> Eurospa Baby Bath Towels >> Eurospa Cotton Terry Face Towel Set (20 PIECE FA...\"]', '[\"Beauty and Personal Care >> Makeup >> Lips >> Lipsticks >> Organistick Lipsticks\"]', '[\"Kitchen & Dining >> Tableware & Cutlery >> Cutlery >> Forks >> Bhalaria Forks >> Bhalaria Dessert Fork Stainless Steel Dessert Fo...\"]', '[\"Baby Care >> Infant Wear >> Baby Boys\\' Clothes >> Polos & T-Shirts >> Fs Mini Klub Polos & T-Shirts >> Fs Mini Klub Printed Baby Boy\\'s Round Neck T-Shirt\"]', '[\"Home Decor & Festive Needs >> Wall Decor & Clocks >> Wall Shelves >> Innovative Wall Shelves >> Innovative Single Corner Stainless Steel Wall Sh...\"]', '[\"Beauty and Personal Care >> Body and Skin Care >> Face Care >> Sunscreen >> Aveeno Sunscreen\"]', '[\"Beauty and Personal Care >> Makeup >> Vanity Boxes >> Aapno Rajasthan Vanity Boxes >> Aapno Rajasthan Lovely Jewellery Vanity Jeweller...\"]', '[\"Baby Care >> Infant Wear >> Baby Boys\\' Clothes >> Dungarees & Jumpsuits >> Dungarees >> cherry crumble california Dungarees >> cherry crumble california Baby Boy\\'s Dungaree\"]', '[\"Watches >> Wrist Watches >> fastrack Wrist Watches\"]', '[\"Home Decor & Festive Needs >> Decorative Lighting & Lamps >> Lanterns >> SHOPOJ Lanterns >> SHOPOJ Blue Paper Sky Lantern (80 cm X 34 cm, Pa...\"]', '[\"Computers >> Laptop Accessories >> Cleaning Kits >> Shopfloor.XYZ Cleaning Kits >> Shopfloor.XYZ Vacuum Cleaner for Computers, Lapt...\"]', '[\"Computers >> Laptop Accessories >> Computer Accessories Combos >> PRINT SHAPES Computer Accessories Combos >> PRINT SHAPES roronoa Zora Laptop Skin with Mouse...\"]', '[\"Beauty and Personal Care >> Fragrances >> Deodorants >> Combos >> Fogg Combos\"]', '[\"Baby Care >> Infant Wear >> Baby Girls\\' Clothes >> Dresses & Skirts >> Dresses >> Beebay Dresses >> Beebay Baby Girl\\'s Fit and Flare Dress\"]', '[\"Computers >> Laptop Accessories >> USB Gadgets >> Zaicus USB Gadgets\"]', '[\"Computers >> Network Components >> Routers >> Huawei Routers\"]', '[\"Baby Care >> Baby & Kids Gifts >> Photo Frames >> Indha Craft Photo Frames\"]', '[\"Kitchen & Dining >> Cookware >> Pots & Pans >> Cookware Pots >> Wonderchef Cookware Pots >> Wonderchef Windsor Roaster 26cm Pot 3.4 L (Alumi...\"]', '[\"Baby Care >> Infant Wear >> Baby Boys\\' Clothes >> Shirts >> FS Mini Klub Shirts >> FS Mini Klub Baby Boy\\'s Woven Casual Shirt\"]', '[\"Home Decor & Festive Needs >> Wall Decor & Clocks >> Paintings >> BRANDWAGON Paintings >> BRANDWAGON DIGIPRINT Digital Reprint Painting (1...\"]', '[\"Beauty and Personal Care >> Makeup >> Vanity Boxes >> KE Vanity Boxes >> KE GIFT BOX STOR JEWELLARY Vanity Jewellery (BLUE)\"]', '[\"Home Decor & Festive Needs >> Table Decor & Handicrafts >> Showpieces >> Religious Idols >> Eshoppee Religious Idols\"]', '[\"Computers >> Computer Peripherals >> Portable Projectors >> Zingalalaa Portable Projectors >> Zingalalaa LP-50 50 lm LED Corded Portable Proje...\"]', '[\"Beauty and Personal Care >> Body and Skin Care >> Face Care >> Sunscreen >> Keya Seth Sunscreen\"]', '[\"Home Decor & Festive Needs >> Showpieces >> Port Showpieces\"]', '[\"Home Furnishing >> Curtains & Accessories >> Curtains >> Aroma Comfort Polyester Green Self Design Eyelet...\"]', '[\"Watches >> Wrist Watches >> Olvin Wrist Watches\"]', '[\"Kitchen & Dining >> Containers & Bottles >> Lunch Boxes >> SKI Lunch Boxes >> SKI WINNER GIFT SET SKYBLUE02 2 Containers Lunch...\"]', '[\"Baby Care >> Baby Bedding >> Baby Mosquito Nets >> CHINMAY KIDS Baby Mosquito Nets >> CHINMAY KIDS Printed Cotton Padded Mosquito Net ...\"]', '[\"Home Furnishing >> Kitchen & Dining Linen >> Kitchen Linen Sets >> Tidy Kitchen Linen Sets >> Tidy Green Cotton Kitchen Linen Set (Pack of 3)\"]', '[\"Baby Care >> Furniture & Furnishings >> Inflatable Products >> Intex Inflatable Products\"]', '[\"Home Decor & Festive Needs >> Flowers, Plants & Vases >> Artificial Plants >> Mayursflora Artificial Plants >> Mayursflora Bonsai Aloe, Maple, Arecaceae, Palm,...\"]', '[\"Baby Care >> Infant Wear >> Baby Girls\\' Clothes >> Shorts & Trousers >> Shorts >> Vitamins Shorts >> Vitamins Graphic Print Baby Girl\\'s Basic Shorts\"]', '[\"Home Decor & Festive Needs >> Wall Decor & Clocks >> Posters >> Urban Monk Posters >> Bourne Supermacy Canvas Art (18 inch X 12 inch, ...\"]', '[\"Computers >> Laptop Accessories >> Batteries >> 4D Batteries\"]', '[\"Kitchen & Dining >> Housekeeping & Laundry >> Home Cleaning >> Brooms & Brushes >> Geol Brooms & Brushes >> Geol Wooden Wet and Dry Broom (Brown, Pack of 1)\"]', '[\"Kitchen & Dining >> Containers & Bottles >> Bottles & Sippers >> Sippers >> Omic Sippers >> Omic Poto-Blue 1000 ml Sipper (Pack of 1, Blue)\"]', '[\"Home Decor & Festive Needs >> Religion & Devotion >> Jaycoknit Religion & Devotion >> Jaycoknit Mediterranean Sea\\'s Lucky Wooden Handc...\"]', '[\"Baby Care >> Baby Bath & Skin >> Baby Bath Towels >> Marvel Baby Bath Towels\"]', '[\"Watches >> Wrist Watches >> North Moon Wrist Watches\"]', '[\"Baby Care >> Baby Bath & Skin >> Baby Bath Towels >> Sathiyas Baby Bath Towels >> Sathiyas Cotton Bath Towel (3 Bath Towel, Red, Y...\"]', '[\"Home Decor & Festive Needs >> Table Decor & Handicrafts >> Showpieces >> Religious Idols >> Agrasen International Religious Idols\"]', '[\"Baby Care >> Infant Wear >> Baby Girls\\' Clothes >> Shorts & Trousers >> Shorts >> Vitamins Shorts >> Vitamins Embroidered Baby Girl\\'s Denim Shorts\"]', '[\"Computers >> Laptop Accessories >> USB Gadgets >> Rock USB Gadgets\"]', '[\"Home Furnishing >> Cushions, Pillows & Covers >> Cushion Covers >> Quilt India Floral Cushions Cover (77 cm, Gold)\"]', '[\"Baby Care >> Infant Wear >> Baby Girls\\' Clothes >> Dresses & Skirts >> Dresses >> Wow! Dresses >> Wow! Baby Girl\\'s Gathered Red Dress\"]', '[\"Computers >> Laptop Accessories >> USB Gadgets >> Himtek USB Gadgets\"]', '[\"Home Decor & Festive Needs >> Showpieces >> Ethnic >> Ruchiworld Ethnic\"]', '[\"Beauty and Personal Care >> Makeup >> Lips >> Lipsticks >> Foolzy Lipsticks\"]', '[\"Home Decor & Festive Needs >> Wall Decor & Clocks >> Clocks >> Wall Clocks >> Regent Wall Clocks\"]', '[\"Home Decor & Festive Needs >> Table Decor & Handicrafts >> Showpieces >> Religious Idols >> Exotic India Religious Idols\"]', '[\"Computers >> Laptop Accessories >> USB Gadgets >> Tapawire USB Gadgets\"]', '[\"Computers >> Laptop Accessories >> Laptop Adapters >> Hako Laptop Adapters >> Hako 60W Magsafe Laptop Charger For APPLE MacBoo...\"]', '[\"Beauty and Personal Care >> Makeup >> Vanity Boxes >> Goldencollections Vanity Boxes\"]', '[\"Kitchen & Dining >> Coffee Mugs >> AKUP Coffee Mugs >> AKUP keep-calm Ceramic Mug (300 ml)\"]', '[\"Home Decor & Festive Needs >> Showpieces >> Adaa Showpieces\"]', '[\"Home Furnishing >> Tidy Home Furnishing >> Tidy Printed Cushions Cover (Pack of 9, 50 cm*50...\"]', '[\"Kitchen & Dining >> Coffee Mugs >> posterchacha Coffee Mugs >> posterchacha Ishita Personalised Custom Name Hap...\"]', '[\"Home Decor & Festive Needs >> Garden & Leisure >> Hammocks & Swings >> Hammocks >> Rrsskids Hammocks >> Rrsskids Swing King Cotton Hammock (White)\"]', '[\"Baby Care >> Infant Wear >> Baby Girls\\' Clothes >> Dresses & Skirts >> Dresses >> Wow! Dresses >> Wow! Baby Girl\\'s Gathered Yellow Dress\"]', '[\"Baby Care >> Diapering & Potty Training >> Nappies & Cloth Diapers >> Ollington St. Collection Nappies & Cloth Diapers\"]', '[\"Home Decor & Festive Needs >> Decorative Lighting & Lamps >> Series Lights >> Home Delight Series Lights\"]', '[\"Baby Care >> Infant Wear >> Baby Boys\\' Clothes >> Bodysuits & Sleepsuits >> Bodysuits >> Sonpra Bodysuits\"]', '[\"Home Decor & Festive Needs >> Showpieces >> Ethnic >> Surface 180 Ethnic\"]', '[\"Computers >> Laptop Accessories >> USB Gadgets >> Task Logistics USB Gadgets\"]', '[\"Watches >> Wrist Watches >> T STAR Wrist Watches\"]', '[\"Baby Care >> Infant Wear >> Baby Boys\\' Clothes >> Bodysuits & Sleepsuits >> Bodysuits >> FS Mini Klub Bodysuits >> FS Mini Klub Baby Boy\\'s Bodysuit\"]', '[\"Home Furnishing >> Curtains & Accessories >> Curtains >> Elegance Polyester Multicolor Abstract Eyelet Do...\"]', '[\"Kitchen & Dining >> Bar & Glassware >> Bar Glasses >> ocean Bar Glasses >> ocean VGLASS0051 (325 ml, Clear, Pack of 6)\"]', '[\"Kitchen & Dining >> Kitchen Tools >> Kitchen Implements >> Pizza Cutters >> Famous Pizza Cutters\"]', '[\"Watches >> Wrist Watches >> palito Wrist Watches >> palito PLO 169 Analog Watch  - For Girls, Women\"]', '[\"Home Furnishing >> Floor Coverings >> Carpets & Rugs >> M S Rugs Pink, Blue Wool Dhurrie (120 cm  X 180 cm)\"]', '[\"Computers >> Network Components >> Routers >> Airtel Routers\"]', '[\"Beauty and Personal Care >> Makeup >> Nails >> Nail Polishes >> Aroma Care Nail Polishes >> Aroma Care Intense Color Nail Polish Combo 17505...\"]', '[\"Home Decor & Festive Needs >> Wall Decor & Clocks >> Wall Decals & Stickers >> Creative Width Decor Wall Decals & Stickers\"]', '[\"Beauty and Personal Care >> Makeup >> Vanity Boxes >> Kuber Industries Vanity Boxes\"]', '[\"Home Decor & Festive Needs >> Table Decor & Handicrafts >> Table Decor >> Hookah & Hookah Flavours >> Hookah Flavors >> Arabian Nights Hookah Flavors\"]', '[\"Home Decor & Festive Needs >> Showpieces >> Rastogi Handicrafts Showpieces\"]', '[\"Home Decor & Festive Needs >> Decorative Lighting & Lamps >> Series Lights >> GrandShop Series Lights\"]', '[\"Baby Care >> Infant Wear >> Baby Girls\\' Clothes >> Innerwear & Sleepwear >> Night Suits >> Mom and Kid Night Suits >> Mom and Kid Baby Girl\\'s Printed Green Top & Pyja...\"]', '[\"Watches >> Wrist Watches >> Marvel Wrist Watches\"]', '[\"Computers >> Laptop Accessories >> USB Gadgets >> JRB USB Gadgets >> JRB 1038 Smallest Mobile Powered By OTG Enabled ...\"]']\n",
      "Element: is_FK_Advantage_product \n",
      "\n"
     ]
    },
    {
     "name": "stdout",
     "output_type": "stream",
     "text": [
      "[False, True]\n",
      "Element: product_rating \n",
      "\n",
      "['No rating available', '5', '4', '3', '1', '4.5', '4.3', '3.5', '3.7', '2', '4.2', '4.1', '4.4', '3.6', '4.7', '2.3', '3.8', '4.8', '1.5', '3.9', '2.5', '3.2', '4.9', '2.7', '3.3', '3.1', '2.2']\n",
      "Element: overall_rating \n",
      "\n",
      "['No rating available', '5', '4', '3', '1', '4.5', '4.3', '3.5', '3.7', '2', '4.2', '4.1', '4.4', '3.6', '4.7', '2.3', '3.8', '4.8', '1.5', '3.9', '2.5', '3.2', '4.9', '2.7', '3.3', '3.1', '2.2']\n",
      "Element: brand \n",
      "\n",
      "['PRINT SHAPES', 'Lapguard', 'Lal Haveli', 'Aroma Comfort', 'Raymond', 'Tenda', 'Smartpro', 'Wallmantra', 'Asus', 'Home Originals', 'HP', 'AKUP', 'Edimax', 'FS Mini Klub', 'Rega IT', 'TRENDnet', 'Sapatos', 'Exotic India', 'TP-LINK', 'The Intellect Bazaar', 'Cotonex', 'Netgear', 'D-Link', 'Rajasthan Crafts', 'Offspring', 'Metallino', 'Valtellina', 'Welhouse', 'Rama', 'Tatvaarts', 'AntiqueShop', 'FURNISHINGLAND', 'JRB', 'KLIQVIK', 'Wow!', 'Fs Mini Klub', 'Digilight', 'RYTHMX', 'Zyxel', 'palito', 'Vitamins', 'Techone+', 'Aapno Rajasthan', 'Shoppingtara', 'S C Handicrafts', 'RRP', 'Hako', 'eCraftIndia', 'Apple', 'Crystle', 'Kalash', 'Uberlyfe', 'SANTOSH ROYAL FASHION', 'Jacadi Paris', 'NEHP', 'Beebay', 'Allin Exporters', 'Funcart', 'Reiki Crystal Products', 'Rajo Raja', 'VRCT', 'Prime', 'Ruchikainternational', 'Sovam International', 'Unnati', 'House This', 'Kosher', 'Shop Rajasthan', 'Smart Wall Guru', '@home', 'Jaipur Print', 'Services Junction', 'Gift Studios', 'Babyoye Premium', 'Casotec', 'MKB', 'Jaipur Raga', 'meSleep', 'giftsthatwow', 'Bharatcraft', 'Handloomhub', 'Memore', 'Baby Bucket', 'Unique Design', 'Sparklings', 'Tidy', 'Diviniti', 'Purpledip', 'Golmaalshop', 'Shaun', 'Tallenge', 'ARB', 'Intex', 'Tiedribbons', 'Mom and Kid', 'Trident', 'Shopmania', 'Chokree', 'Orange Tree', 'Sunlast', 'Fonokase', 'Bestway', 'R&Mshoppee', 'Caffeine', 'Monil', 'Aurraa', 'JBC Collection', 'Kerastase', 'Amit Carpet', 'RajasthaniKart', 'Galaxy Decorations', '4D', 'Arabian Nights', 'Ireeya', 'Good Way', 'Boreal', 'Just Linen', 'De TechInn', 'Toffyhouse', 'My NewBorn', 'Onlinemaniya', 'Young Birds', 'Arsalan', \"Carter'S\", 'QP360', 'Himtek', 'Craftcart', 'Kushies baby', 'JMD', 'TRUE', 'RCE', 'Titrit', 'Rustic India', 'Toons', 'Pristine', 'Mayursflora', 'BASRA', 'Deep', 'Pompom Sweethearts', 'KDS SURGICAL', \"Kripa's\", \"Radhika's World of Crafts\", 'Pokizo', 'Casa Copenhagen', 'Myesquire', 'Linksys', 'Pioneer Pragati', 'Upside Down', 'MB', 'Mom & Me', 'Ech oly', 'Sivanna', 'Akshaj', 'Mandhania', 'Dreamshomes', 'SRP Linen', 'Geol', 'Sassoon', 'Ville Style', 'Surface 180', 'JSM', 'Aster Luxury', '999store', 'Fabutex', 'OMRD', '99Gems', 'Craftuno', 'Nihar', 'Indian Art Villa', 'Mafatlal', 'Tapawire', 'Step4deal', 'GIMS', 'Relaxfeel', 'TWISHA', 'Neyth', 'Seals', 'Tuktuk', 'Shoperite', 'The Crafts House', 'wallskart', 'My Party Suppliers', 'Saba Garments', 'Binatone', 'YK', 'Jums', 'I Ball', 'Pg handicrafts', 'Shopfloor.XYZ', 'Eureka.in', 'Craft Trade', 'M S Rugs', 'Dongli', 'Rock', 'Simoco', 'Tks', 'Cotton On Kids', 'MA Design Hut', 'BFT', 'Ally The Creations', 'WallDesign', 'King Traders', 'loomkart', 'TIGI BED HEAD', 'OGX', 'Leo Natura', 'ocean', 'Dizionario', 'Garnet', 'Lushomes', 'FRENEMY', 'Soy Impulse', 'SWHF', 'Textile India', 'Unravel India', 'CALCULUS', 'NeedyBee', 'Zikrak Exim', 'Utsav Handicraft', 'V Creations', 'KE', 'Garnier', 'Ruchiworld', 'Craftartz', 'Pedrini', 'Toddla', 'Philips', 'Malhar', 'Nirlon', 'HEAVENLY', 'dongli', 'Moonleaf', 'vatika', 'Home Creations', 'Netis', 'Adaa', 'cherry crumble california', 'CHINMAY KIDS', 'Supreme Cookwares', 'JewelKraft Designs', 'NYX', 'Artisan Creation', 'Lilliput', 'Rrsskids', 'Rishan', 'Generix', 'NKP', 'Surgical e Sstudio', 'Wonderchef', 'Graco', 'Lula', 'Unique Handicrafts', 'BornBabyKids', 'Doraemon Gift Family Ceramic Coffee Mug', 'iBall', 'SOS', 'Baby Moshai', 'Bagru Crafts', 'Happiness Is', 'Sarah', 'TRESemme', '612 League', 'KLOCX', 'posterchacha', 'next steps', 'HoA', 'Durga Home Trendz', 'HomeeHub', 'Port', 'King International', 'BabyBucket', 'HuppmeGift', 'CHHOTE JANAB', 'Shrikant Traders', 'NammaBaby', 'Riva Carpets', 'chota packet', 'ESIDON', 'ROYLE KATOCH', 'CoffeeBean', 'Epresent', 'Ocean', 'Surface180', 'Clublaptop', 'Tirupati', 'Elephant', 'Nikunj', 'Elite Collection', 'Mee Mee', 'Home Fashion Gallery', 'Piyo Piyo', 'The Art Box', 'U & ME', 'Right', 'Creative Width Decor', 'Jacadi paris', \"Buyer's Beach\", 'My Angel', 'Kandyfloss', 'Esteem', 'Nkp', 'Jaycoknit', 'Swastik', 'Remtex Export', 'Pindia', 'Budding Bees', 'SKI', 'Infinity India', 'Loreal', 'Innovative', 'Zingalalaa', 'Vedic Deals', 'Dhrohar', 'Lifestyle-You', 'LukLuck', 'Balaji', 'Woven Terry', 'Pigeon', 'Burt s Bees', 'Curren Nx', 'Wall Decal', 'Bhalaria', 'CHOCOBERRY', 'Love Baby', 'LOTTIE LONDON', 'Brahmz', 'Jaipan', 'Maspar', 'Sumeet', 'Art Godaam', 'Sam', 'CTW', 'GAYATRI CREATIONS', 'Aarika', 'Saco', 'Pinc Ginger', 'Marvel', 'Quilt India', 'Bed & Bath', 'Like', 'Divine Gifts & Artificial Jewellery', 'Eurospa', 'Indigocart', 'Lock&Lock', 'Frabjous', 'BRANDWAGON', 'GrandShop', 'RoyalsCart', 'Furnishing Zone', 'Vgstore', 'Hand Art', 'L Oreal', 'Elegance', 'Miracle Retail', 'Checkered Chef', 'Peacock', 'Belkin', 'Digisol', 'Recrafto', 'SPANGLE', 'kawal fashion', 'LAWMAN PG3', 'Sahara Q Shop', 'Bela Home', 'Agromech', 'Art n Beyond', 'GREENWICH', 'Task Logistics', 'MohanJodero', 'Canon', 'Scalabedding', 'Kensington', 'Bergner', 'Ornate', 'brass gift center', 'Aroma Care', 'Amber', 'Bajya', 'KOHL', 'BeYOUtiful', 'NAMS', 'Amaze Fashion', 'Filink', 'Eshoppee', 'Bhavya', 'Rajrang', 'STYLE CLUES FASHION', 'SHOPOJ', 'IWS', 'e.l.f. Cosmetics', 'VarEesha', 'Go Hooked', 'oxford', 'Seven Seas', 'Cookart', 'Hargunz', 'Woodino Handicrafts', 'Al Fakher', 'Intel', 'Rajlaxmi', 'Mavi', 'APOLLO+', 'Nutcase', 'K&P', 'Recon', 'Zero', 'Parv Collections', 'Agrasen International', 'Weldecor', 'The Art Treasure', 'Pittsburgh Polo Club', 'SSCP', 'Thakkar', 'Clear Face', 'Orico', 'Megaway', 'Ollington St. Collection', 'arnavs', 'Cheeky Chompers', 'Soulful Threads', 'HouseAttire', 'Anjalika', 'AsiaCraft', 'V9', 'Suave', 'Nagar Handloom', 'Babeezworld', 'Jaipur Textile Hub', 'Ravishing Variety', 'My Little Lambs', 'Mars', 'florence9', 'You Got Plan B', 'Bigkik', 'SJ', 'Eternity', 'Rastogi Handicrafts', 'MSenterprises', 'Oren Empower', 'Omic', 'Transcend', 'Adino', 'NIKsales', 'Buy Clues', 'Mom Italy', 'Celebrity', 'Apex', 'The Ethnic Story', 'Famous', 'RoQ', 'MCB Exports', 'Portia', 'Zaicus', 'Homedesires', 'Urban Monk', 'Airtel', 'Prestige', 'Milani', 'Rute', 'Ndura', 'Homec', 'Oxolloxo', 'Home Delight', 'Giorgio Armani', 'Mahadev Handicrafts', 'Treasure', 'LITTLE FEETZ', 'Globe', 'Sathiyas', 'JayEnterprise', 'HomeEdge', 'Brillare Science', 'Yves Bertelin', 'Prisha India Craft', 'Suruchi', 'Craft And Curtain', 'YGS', 'EZ Life', 'Shopizone', 'Mega product', 'Kaatru', 'Majik', 'LUV', 'AM Creation', 'Dungri India Craft', '3kFactory', 'Bianca', 'MyKid', 'Flazee Home Trends', 'Huawei']\n"
     ]
    }
   ],
   "source": [
    "for element in descriptive_columns:\n",
    "    print(\"Element: \"+element+\" \\n\")\n",
    "    print(input_df[element].value_counts().index.tolist())"
   ]
  },
  {
   "cell_type": "markdown",
   "metadata": {},
   "source": [
    "### Data cleaning"
   ]
  },
  {
   "cell_type": "markdown",
   "metadata": {},
   "source": [
    "###### Product Category Tree"
   ]
  },
  {
   "cell_type": "code",
   "execution_count": 15,
   "metadata": {},
   "outputs": [
    {
     "data": {
      "text/plain": [
       "0       [\"Home Furnishing >> Curtains & Accessories >>...\n",
       "1       [\"Baby Care >> Baby Bath & Skin >> Baby Bath T...\n",
       "2       [\"Baby Care >> Baby Bath & Skin >> Baby Bath T...\n",
       "3       [\"Home Furnishing >> Bed Linen >> Bedsheets >>...\n",
       "4       [\"Home Furnishing >> Bed Linen >> Bedsheets >>...\n",
       "                              ...                        \n",
       "1045    [\"Baby Care >> Baby & Kids Gifts >> Stickers >...\n",
       "1046    [\"Baby Care >> Baby & Kids Gifts >> Stickers >...\n",
       "1047    [\"Baby Care >> Baby & Kids Gifts >> Stickers >...\n",
       "1048    [\"Baby Care >> Baby & Kids Gifts >> Stickers >...\n",
       "1049    [\"Baby Care >> Baby & Kids Gifts >> Stickers >...\n",
       "Name: product_category_tree, Length: 1050, dtype: object"
      ]
     },
     "execution_count": 15,
     "metadata": {},
     "output_type": "execute_result"
    }
   ],
   "source": [
    "input_df['product_category_tree']"
   ]
  },
  {
   "cell_type": "code",
   "execution_count": 16,
   "metadata": {},
   "outputs": [],
   "source": [
    "input_df['product_main_category'] = input_df['product_category_tree'].str.extract('\\\\[\"([a-zA-Z& ]*)>>', expand=True)"
   ]
  },
  {
   "cell_type": "code",
   "execution_count": 17,
   "metadata": {},
   "outputs": [
    {
     "data": {
      "text/plain": [
       "0       Home Furnishing \n",
       "1             Baby Care \n",
       "2             Baby Care \n",
       "3       Home Furnishing \n",
       "4       Home Furnishing \n",
       "              ...       \n",
       "1045          Baby Care \n",
       "1046          Baby Care \n",
       "1047          Baby Care \n",
       "1048          Baby Care \n",
       "1049          Baby Care \n",
       "Name: product_main_category, Length: 1050, dtype: object"
      ]
     },
     "execution_count": 17,
     "metadata": {},
     "output_type": "execute_result"
    }
   ],
   "source": [
    "input_df['product_main_category']"
   ]
  },
  {
   "cell_type": "code",
   "execution_count": 18,
   "metadata": {},
   "outputs": [],
   "source": [
    "# pd.set_option('display.max_rows', input_df.shape[0]+1)"
   ]
  },
  {
   "cell_type": "code",
   "execution_count": 19,
   "metadata": {},
   "outputs": [
    {
     "data": {
      "text/plain": [
       "0       Home Furnishing \n",
       "1             Baby Care \n",
       "2             Baby Care \n",
       "3       Home Furnishing \n",
       "4       Home Furnishing \n",
       "              ...       \n",
       "1045          Baby Care \n",
       "1046          Baby Care \n",
       "1047          Baby Care \n",
       "1048          Baby Care \n",
       "1049          Baby Care \n",
       "Name: product_main_category, Length: 1050, dtype: object"
      ]
     },
     "execution_count": 19,
     "metadata": {},
     "output_type": "execute_result"
    }
   ],
   "source": [
    "input_df['product_main_category']"
   ]
  },
  {
   "cell_type": "code",
   "execution_count": 20,
   "metadata": {},
   "outputs": [
    {
     "data": {
      "text/plain": [
       "0       [\"Home Furnishing >> Curtains & Accessories >>...\n",
       "1       [\"Baby Care >> Baby Bath & Skin >> Baby Bath T...\n",
       "2       [\"Baby Care >> Baby Bath & Skin >> Baby Bath T...\n",
       "3       [\"Home Furnishing >> Bed Linen >> Bedsheets >>...\n",
       "4       [\"Home Furnishing >> Bed Linen >> Bedsheets >>...\n",
       "                              ...                        \n",
       "1045    [\"Baby Care >> Baby & Kids Gifts >> Stickers >...\n",
       "1046    [\"Baby Care >> Baby & Kids Gifts >> Stickers >...\n",
       "1047    [\"Baby Care >> Baby & Kids Gifts >> Stickers >...\n",
       "1048    [\"Baby Care >> Baby & Kids Gifts >> Stickers >...\n",
       "1049    [\"Baby Care >> Baby & Kids Gifts >> Stickers >...\n",
       "Name: product_category_tree, Length: 1050, dtype: object"
      ]
     },
     "execution_count": 20,
     "metadata": {},
     "output_type": "execute_result"
    }
   ],
   "source": [
    "input_df['product_category_tree']"
   ]
  },
  {
   "cell_type": "code",
   "execution_count": null,
   "metadata": {},
   "outputs": [],
   "source": []
  },
  {
   "cell_type": "markdown",
   "metadata": {},
   "source": [
    "###### Product Name"
   ]
  },
  {
   "cell_type": "code",
   "execution_count": 21,
   "metadata": {},
   "outputs": [],
   "source": [
    "input_df['product_name'] = input_df['product_name'].apply(lambda x: string.capwords(x))"
   ]
  },
  {
   "cell_type": "code",
   "execution_count": 22,
   "metadata": {},
   "outputs": [
    {
     "data": {
      "text/plain": [
       "0       Elegance Polyester Multicolor Abstract Eyelet ...\n",
       "1                              Sathiyas Cotton Bath Towel\n",
       "2                     Eurospa Cotton Terry Face Towel Set\n",
       "3       Santosh Royal Fashion Cotton Printed King Size...\n",
       "4       Jaipur Print Cotton Floral King Sized Double B...\n",
       "                              ...                        \n",
       "1045       Oren Empower Extra Large Self Adhesive Sticker\n",
       "1046               Wallmantra Large Vinyl Sticker Sticker\n",
       "1047    Uberlyfe Extra Large Pigmented Polyvinyl Films...\n",
       "1048              Wallmantra Medium Vinyl Sticker Sticker\n",
       "1049                         Uberlyfe Large Vinyl Sticker\n",
       "Name: product_name, Length: 1050, dtype: object"
      ]
     },
     "execution_count": 22,
     "metadata": {},
     "output_type": "execute_result"
    }
   ],
   "source": [
    "input_df['product_name']"
   ]
  },
  {
   "cell_type": "code",
   "execution_count": 23,
   "metadata": {},
   "outputs": [
    {
     "data": {
      "text/html": [
       "<div>\n",
       "<style scoped>\n",
       "    .dataframe tbody tr th:only-of-type {\n",
       "        vertical-align: middle;\n",
       "    }\n",
       "\n",
       "    .dataframe tbody tr th {\n",
       "        vertical-align: top;\n",
       "    }\n",
       "\n",
       "    .dataframe thead th {\n",
       "        text-align: right;\n",
       "    }\n",
       "</style>\n",
       "<table border=\"1\" class=\"dataframe\">\n",
       "  <thead>\n",
       "    <tr style=\"text-align: right;\">\n",
       "      <th></th>\n",
       "      <th>uniq_id</th>\n",
       "      <th>crawl_timestamp</th>\n",
       "      <th>product_url</th>\n",
       "      <th>product_name</th>\n",
       "      <th>product_category_tree</th>\n",
       "      <th>pid</th>\n",
       "      <th>retail_price</th>\n",
       "      <th>discounted_price</th>\n",
       "      <th>image</th>\n",
       "      <th>is_FK_Advantage_product</th>\n",
       "      <th>description</th>\n",
       "      <th>product_rating</th>\n",
       "      <th>overall_rating</th>\n",
       "      <th>brand</th>\n",
       "      <th>product_specifications</th>\n",
       "      <th>product_main_category</th>\n",
       "    </tr>\n",
       "  </thead>\n",
       "  <tbody>\n",
       "    <tr>\n",
       "      <th>0</th>\n",
       "      <td>55b85ea15a1536d46b7190ad6fff8ce7</td>\n",
       "      <td>2016-04-30 03:22:56 +0000</td>\n",
       "      <td>http://www.flipkart.com/elegance-polyester-mul...</td>\n",
       "      <td>Elegance Polyester Multicolor Abstract Eyelet ...</td>\n",
       "      <td>[\"Home Furnishing &gt;&gt; Curtains &amp; Accessories &gt;&gt;...</td>\n",
       "      <td>CRNEG7BKMFFYHQ8Z</td>\n",
       "      <td>1899.0</td>\n",
       "      <td>899.0</td>\n",
       "      <td>55b85ea15a1536d46b7190ad6fff8ce7.jpg</td>\n",
       "      <td>False</td>\n",
       "      <td>Key Features of Elegance Polyester Multicolor ...</td>\n",
       "      <td>No rating available</td>\n",
       "      <td>No rating available</td>\n",
       "      <td>Elegance</td>\n",
       "      <td>{\"product_specification\"=&gt;[{\"key\"=&gt;\"Brand\", \"v...</td>\n",
       "      <td>Home Furnishing</td>\n",
       "    </tr>\n",
       "    <tr>\n",
       "      <th>1</th>\n",
       "      <td>7b72c92c2f6c40268628ec5f14c6d590</td>\n",
       "      <td>2016-04-30 03:22:56 +0000</td>\n",
       "      <td>http://www.flipkart.com/sathiyas-cotton-bath-t...</td>\n",
       "      <td>Sathiyas Cotton Bath Towel</td>\n",
       "      <td>[\"Baby Care &gt;&gt; Baby Bath &amp; Skin &gt;&gt; Baby Bath T...</td>\n",
       "      <td>BTWEGFZHGBXPHZUH</td>\n",
       "      <td>600.0</td>\n",
       "      <td>449.0</td>\n",
       "      <td>7b72c92c2f6c40268628ec5f14c6d590.jpg</td>\n",
       "      <td>False</td>\n",
       "      <td>Specifications of Sathiyas Cotton Bath Towel (...</td>\n",
       "      <td>No rating available</td>\n",
       "      <td>No rating available</td>\n",
       "      <td>Sathiyas</td>\n",
       "      <td>{\"product_specification\"=&gt;[{\"key\"=&gt;\"Machine Wa...</td>\n",
       "      <td>Baby Care</td>\n",
       "    </tr>\n",
       "    <tr>\n",
       "      <th>2</th>\n",
       "      <td>64d5d4a258243731dc7bbb1eef49ad74</td>\n",
       "      <td>2016-04-30 03:22:56 +0000</td>\n",
       "      <td>http://www.flipkart.com/eurospa-cotton-terry-f...</td>\n",
       "      <td>Eurospa Cotton Terry Face Towel Set</td>\n",
       "      <td>[\"Baby Care &gt;&gt; Baby Bath &amp; Skin &gt;&gt; Baby Bath T...</td>\n",
       "      <td>BTWEG6SHXTDB2A2Y</td>\n",
       "      <td>NaN</td>\n",
       "      <td>NaN</td>\n",
       "      <td>64d5d4a258243731dc7bbb1eef49ad74.jpg</td>\n",
       "      <td>False</td>\n",
       "      <td>Key Features of Eurospa Cotton Terry Face Towe...</td>\n",
       "      <td>No rating available</td>\n",
       "      <td>No rating available</td>\n",
       "      <td>Eurospa</td>\n",
       "      <td>{\"product_specification\"=&gt;[{\"key\"=&gt;\"Material\",...</td>\n",
       "      <td>Baby Care</td>\n",
       "    </tr>\n",
       "    <tr>\n",
       "      <th>3</th>\n",
       "      <td>d4684dcdc759dd9cdf41504698d737d8</td>\n",
       "      <td>2016-06-20 08:49:52 +0000</td>\n",
       "      <td>http://www.flipkart.com/santosh-royal-fashion-...</td>\n",
       "      <td>Santosh Royal Fashion Cotton Printed King Size...</td>\n",
       "      <td>[\"Home Furnishing &gt;&gt; Bed Linen &gt;&gt; Bedsheets &gt;&gt;...</td>\n",
       "      <td>BDSEJT9UQWHDUBH4</td>\n",
       "      <td>2699.0</td>\n",
       "      <td>1299.0</td>\n",
       "      <td>d4684dcdc759dd9cdf41504698d737d8.jpg</td>\n",
       "      <td>False</td>\n",
       "      <td>Key Features of SANTOSH ROYAL FASHION Cotton P...</td>\n",
       "      <td>No rating available</td>\n",
       "      <td>No rating available</td>\n",
       "      <td>SANTOSH ROYAL FASHION</td>\n",
       "      <td>{\"product_specification\"=&gt;[{\"key\"=&gt;\"Brand\", \"v...</td>\n",
       "      <td>Home Furnishing</td>\n",
       "    </tr>\n",
       "    <tr>\n",
       "      <th>4</th>\n",
       "      <td>6325b6870c54cd47be6ebfbffa620ec7</td>\n",
       "      <td>2016-06-20 08:49:52 +0000</td>\n",
       "      <td>http://www.flipkart.com/jaipur-print-cotton-fl...</td>\n",
       "      <td>Jaipur Print Cotton Floral King Sized Double B...</td>\n",
       "      <td>[\"Home Furnishing &gt;&gt; Bed Linen &gt;&gt; Bedsheets &gt;&gt;...</td>\n",
       "      <td>BDSEJTHNGWVGWWQU</td>\n",
       "      <td>2599.0</td>\n",
       "      <td>698.0</td>\n",
       "      <td>6325b6870c54cd47be6ebfbffa620ec7.jpg</td>\n",
       "      <td>False</td>\n",
       "      <td>Key Features of Jaipur Print Cotton Floral Kin...</td>\n",
       "      <td>No rating available</td>\n",
       "      <td>No rating available</td>\n",
       "      <td>Jaipur Print</td>\n",
       "      <td>{\"product_specification\"=&gt;[{\"key\"=&gt;\"Machine Wa...</td>\n",
       "      <td>Home Furnishing</td>\n",
       "    </tr>\n",
       "    <tr>\n",
       "      <th>...</th>\n",
       "      <td>...</td>\n",
       "      <td>...</td>\n",
       "      <td>...</td>\n",
       "      <td>...</td>\n",
       "      <td>...</td>\n",
       "      <td>...</td>\n",
       "      <td>...</td>\n",
       "      <td>...</td>\n",
       "      <td>...</td>\n",
       "      <td>...</td>\n",
       "      <td>...</td>\n",
       "      <td>...</td>\n",
       "      <td>...</td>\n",
       "      <td>...</td>\n",
       "      <td>...</td>\n",
       "      <td>...</td>\n",
       "    </tr>\n",
       "    <tr>\n",
       "      <th>1045</th>\n",
       "      <td>958f54f4c46b53c8a0a9b8167d9140bc</td>\n",
       "      <td>2015-12-01 10:15:43 +0000</td>\n",
       "      <td>http://www.flipkart.com/oren-empower-extra-lar...</td>\n",
       "      <td>Oren Empower Extra Large Self Adhesive Sticker</td>\n",
       "      <td>[\"Baby Care &gt;&gt; Baby &amp; Kids Gifts &gt;&gt; Stickers &gt;...</td>\n",
       "      <td>STIE88ZGTX65GH4V</td>\n",
       "      <td>1399.0</td>\n",
       "      <td>999.0</td>\n",
       "      <td>958f54f4c46b53c8a0a9b8167d9140bc.jpg</td>\n",
       "      <td>False</td>\n",
       "      <td>Oren Empower Extra Large Self Adhesive Sticker...</td>\n",
       "      <td>No rating available</td>\n",
       "      <td>No rating available</td>\n",
       "      <td>Oren Empower</td>\n",
       "      <td>{\"product_specification\"=&gt;[{\"key\"=&gt;\"Number of ...</td>\n",
       "      <td>Baby Care</td>\n",
       "    </tr>\n",
       "    <tr>\n",
       "      <th>1046</th>\n",
       "      <td>fd6cbcc22efb6b761bd564c28928483c</td>\n",
       "      <td>2015-12-01 10:15:43 +0000</td>\n",
       "      <td>http://www.flipkart.com/wallmantra-large-vinyl...</td>\n",
       "      <td>Wallmantra Large Vinyl Sticker Sticker</td>\n",
       "      <td>[\"Baby Care &gt;&gt; Baby &amp; Kids Gifts &gt;&gt; Stickers &gt;...</td>\n",
       "      <td>STIEC889ZD5GDCVQ</td>\n",
       "      <td>4930.0</td>\n",
       "      <td>1896.0</td>\n",
       "      <td>fd6cbcc22efb6b761bd564c28928483c.jpg</td>\n",
       "      <td>False</td>\n",
       "      <td>Wallmantra Large Vinyl Sticker Sticker (Pack o...</td>\n",
       "      <td>No rating available</td>\n",
       "      <td>No rating available</td>\n",
       "      <td>Wallmantra</td>\n",
       "      <td>{\"product_specification\"=&gt;[{\"key\"=&gt;\"Number of ...</td>\n",
       "      <td>Baby Care</td>\n",
       "    </tr>\n",
       "    <tr>\n",
       "      <th>1047</th>\n",
       "      <td>5912e037d12774bb73a2048f35a00009</td>\n",
       "      <td>2015-12-01 10:15:43 +0000</td>\n",
       "      <td>http://www.flipkart.com/uberlyfe-extra-large-p...</td>\n",
       "      <td>Uberlyfe Extra Large Pigmented Polyvinyl Films...</td>\n",
       "      <td>[\"Baby Care &gt;&gt; Baby &amp; Kids Gifts &gt;&gt; Stickers &gt;...</td>\n",
       "      <td>STIE5UVGW2JWVWCT</td>\n",
       "      <td>4500.0</td>\n",
       "      <td>1449.0</td>\n",
       "      <td>5912e037d12774bb73a2048f35a00009.jpg</td>\n",
       "      <td>False</td>\n",
       "      <td>Buy Uberlyfe Extra Large Pigmented Polyvinyl F...</td>\n",
       "      <td>No rating available</td>\n",
       "      <td>No rating available</td>\n",
       "      <td>Uberlyfe</td>\n",
       "      <td>{\"product_specification\"=&gt;[{\"key\"=&gt;\"Number of ...</td>\n",
       "      <td>Baby Care</td>\n",
       "    </tr>\n",
       "    <tr>\n",
       "      <th>1048</th>\n",
       "      <td>c3edc504d1b4f0ba6224fa53a43a7ad6</td>\n",
       "      <td>2015-12-01 10:15:43 +0000</td>\n",
       "      <td>http://www.flipkart.com/wallmantra-medium-viny...</td>\n",
       "      <td>Wallmantra Medium Vinyl Sticker Sticker</td>\n",
       "      <td>[\"Baby Care &gt;&gt; Baby &amp; Kids Gifts &gt;&gt; Stickers &gt;...</td>\n",
       "      <td>STIEC889ZGFD3RCE</td>\n",
       "      <td>3465.0</td>\n",
       "      <td>1333.0</td>\n",
       "      <td>c3edc504d1b4f0ba6224fa53a43a7ad6.jpg</td>\n",
       "      <td>False</td>\n",
       "      <td>Buy Wallmantra Medium Vinyl Sticker Sticker fo...</td>\n",
       "      <td>No rating available</td>\n",
       "      <td>No rating available</td>\n",
       "      <td>Wallmantra</td>\n",
       "      <td>{\"product_specification\"=&gt;[{\"key\"=&gt;\"Number of ...</td>\n",
       "      <td>Baby Care</td>\n",
       "    </tr>\n",
       "    <tr>\n",
       "      <th>1049</th>\n",
       "      <td>f2f027ad6a6df617c9f125173da71e44</td>\n",
       "      <td>2015-12-01 10:15:43 +0000</td>\n",
       "      <td>http://www.flipkart.com/uberlyfe-large-vinyl-s...</td>\n",
       "      <td>Uberlyfe Large Vinyl Sticker</td>\n",
       "      <td>[\"Baby Care &gt;&gt; Baby &amp; Kids Gifts &gt;&gt; Stickers &gt;...</td>\n",
       "      <td>STIE2ZEPACRQJKH7</td>\n",
       "      <td>1190.0</td>\n",
       "      <td>595.0</td>\n",
       "      <td>f2f027ad6a6df617c9f125173da71e44.jpg</td>\n",
       "      <td>False</td>\n",
       "      <td>Buy Uberlyfe Large Vinyl Sticker for Rs.595 on...</td>\n",
       "      <td>4</td>\n",
       "      <td>4</td>\n",
       "      <td>Uberlyfe</td>\n",
       "      <td>{\"product_specification\"=&gt;[{\"key\"=&gt;\"Sales Pack...</td>\n",
       "      <td>Baby Care</td>\n",
       "    </tr>\n",
       "  </tbody>\n",
       "</table>\n",
       "<p>1050 rows × 16 columns</p>\n",
       "</div>"
      ],
      "text/plain": [
       "                               uniq_id            crawl_timestamp  \\\n",
       "0     55b85ea15a1536d46b7190ad6fff8ce7  2016-04-30 03:22:56 +0000   \n",
       "1     7b72c92c2f6c40268628ec5f14c6d590  2016-04-30 03:22:56 +0000   \n",
       "2     64d5d4a258243731dc7bbb1eef49ad74  2016-04-30 03:22:56 +0000   \n",
       "3     d4684dcdc759dd9cdf41504698d737d8  2016-06-20 08:49:52 +0000   \n",
       "4     6325b6870c54cd47be6ebfbffa620ec7  2016-06-20 08:49:52 +0000   \n",
       "...                                ...                        ...   \n",
       "1045  958f54f4c46b53c8a0a9b8167d9140bc  2015-12-01 10:15:43 +0000   \n",
       "1046  fd6cbcc22efb6b761bd564c28928483c  2015-12-01 10:15:43 +0000   \n",
       "1047  5912e037d12774bb73a2048f35a00009  2015-12-01 10:15:43 +0000   \n",
       "1048  c3edc504d1b4f0ba6224fa53a43a7ad6  2015-12-01 10:15:43 +0000   \n",
       "1049  f2f027ad6a6df617c9f125173da71e44  2015-12-01 10:15:43 +0000   \n",
       "\n",
       "                                            product_url  \\\n",
       "0     http://www.flipkart.com/elegance-polyester-mul...   \n",
       "1     http://www.flipkart.com/sathiyas-cotton-bath-t...   \n",
       "2     http://www.flipkart.com/eurospa-cotton-terry-f...   \n",
       "3     http://www.flipkart.com/santosh-royal-fashion-...   \n",
       "4     http://www.flipkart.com/jaipur-print-cotton-fl...   \n",
       "...                                                 ...   \n",
       "1045  http://www.flipkart.com/oren-empower-extra-lar...   \n",
       "1046  http://www.flipkart.com/wallmantra-large-vinyl...   \n",
       "1047  http://www.flipkart.com/uberlyfe-extra-large-p...   \n",
       "1048  http://www.flipkart.com/wallmantra-medium-viny...   \n",
       "1049  http://www.flipkart.com/uberlyfe-large-vinyl-s...   \n",
       "\n",
       "                                           product_name  \\\n",
       "0     Elegance Polyester Multicolor Abstract Eyelet ...   \n",
       "1                            Sathiyas Cotton Bath Towel   \n",
       "2                   Eurospa Cotton Terry Face Towel Set   \n",
       "3     Santosh Royal Fashion Cotton Printed King Size...   \n",
       "4     Jaipur Print Cotton Floral King Sized Double B...   \n",
       "...                                                 ...   \n",
       "1045     Oren Empower Extra Large Self Adhesive Sticker   \n",
       "1046             Wallmantra Large Vinyl Sticker Sticker   \n",
       "1047  Uberlyfe Extra Large Pigmented Polyvinyl Films...   \n",
       "1048            Wallmantra Medium Vinyl Sticker Sticker   \n",
       "1049                       Uberlyfe Large Vinyl Sticker   \n",
       "\n",
       "                                  product_category_tree               pid  \\\n",
       "0     [\"Home Furnishing >> Curtains & Accessories >>...  CRNEG7BKMFFYHQ8Z   \n",
       "1     [\"Baby Care >> Baby Bath & Skin >> Baby Bath T...  BTWEGFZHGBXPHZUH   \n",
       "2     [\"Baby Care >> Baby Bath & Skin >> Baby Bath T...  BTWEG6SHXTDB2A2Y   \n",
       "3     [\"Home Furnishing >> Bed Linen >> Bedsheets >>...  BDSEJT9UQWHDUBH4   \n",
       "4     [\"Home Furnishing >> Bed Linen >> Bedsheets >>...  BDSEJTHNGWVGWWQU   \n",
       "...                                                 ...               ...   \n",
       "1045  [\"Baby Care >> Baby & Kids Gifts >> Stickers >...  STIE88ZGTX65GH4V   \n",
       "1046  [\"Baby Care >> Baby & Kids Gifts >> Stickers >...  STIEC889ZD5GDCVQ   \n",
       "1047  [\"Baby Care >> Baby & Kids Gifts >> Stickers >...  STIE5UVGW2JWVWCT   \n",
       "1048  [\"Baby Care >> Baby & Kids Gifts >> Stickers >...  STIEC889ZGFD3RCE   \n",
       "1049  [\"Baby Care >> Baby & Kids Gifts >> Stickers >...  STIE2ZEPACRQJKH7   \n",
       "\n",
       "      retail_price  discounted_price                                 image  \\\n",
       "0           1899.0             899.0  55b85ea15a1536d46b7190ad6fff8ce7.jpg   \n",
       "1            600.0             449.0  7b72c92c2f6c40268628ec5f14c6d590.jpg   \n",
       "2              NaN               NaN  64d5d4a258243731dc7bbb1eef49ad74.jpg   \n",
       "3           2699.0            1299.0  d4684dcdc759dd9cdf41504698d737d8.jpg   \n",
       "4           2599.0             698.0  6325b6870c54cd47be6ebfbffa620ec7.jpg   \n",
       "...            ...               ...                                   ...   \n",
       "1045        1399.0             999.0  958f54f4c46b53c8a0a9b8167d9140bc.jpg   \n",
       "1046        4930.0            1896.0  fd6cbcc22efb6b761bd564c28928483c.jpg   \n",
       "1047        4500.0            1449.0  5912e037d12774bb73a2048f35a00009.jpg   \n",
       "1048        3465.0            1333.0  c3edc504d1b4f0ba6224fa53a43a7ad6.jpg   \n",
       "1049        1190.0             595.0  f2f027ad6a6df617c9f125173da71e44.jpg   \n",
       "\n",
       "      is_FK_Advantage_product  \\\n",
       "0                       False   \n",
       "1                       False   \n",
       "2                       False   \n",
       "3                       False   \n",
       "4                       False   \n",
       "...                       ...   \n",
       "1045                    False   \n",
       "1046                    False   \n",
       "1047                    False   \n",
       "1048                    False   \n",
       "1049                    False   \n",
       "\n",
       "                                            description       product_rating  \\\n",
       "0     Key Features of Elegance Polyester Multicolor ...  No rating available   \n",
       "1     Specifications of Sathiyas Cotton Bath Towel (...  No rating available   \n",
       "2     Key Features of Eurospa Cotton Terry Face Towe...  No rating available   \n",
       "3     Key Features of SANTOSH ROYAL FASHION Cotton P...  No rating available   \n",
       "4     Key Features of Jaipur Print Cotton Floral Kin...  No rating available   \n",
       "...                                                 ...                  ...   \n",
       "1045  Oren Empower Extra Large Self Adhesive Sticker...  No rating available   \n",
       "1046  Wallmantra Large Vinyl Sticker Sticker (Pack o...  No rating available   \n",
       "1047  Buy Uberlyfe Extra Large Pigmented Polyvinyl F...  No rating available   \n",
       "1048  Buy Wallmantra Medium Vinyl Sticker Sticker fo...  No rating available   \n",
       "1049  Buy Uberlyfe Large Vinyl Sticker for Rs.595 on...                    4   \n",
       "\n",
       "           overall_rating                  brand  \\\n",
       "0     No rating available               Elegance   \n",
       "1     No rating available               Sathiyas   \n",
       "2     No rating available                Eurospa   \n",
       "3     No rating available  SANTOSH ROYAL FASHION   \n",
       "4     No rating available           Jaipur Print   \n",
       "...                   ...                    ...   \n",
       "1045  No rating available           Oren Empower   \n",
       "1046  No rating available             Wallmantra   \n",
       "1047  No rating available               Uberlyfe   \n",
       "1048  No rating available             Wallmantra   \n",
       "1049                    4               Uberlyfe   \n",
       "\n",
       "                                 product_specifications product_main_category  \n",
       "0     {\"product_specification\"=>[{\"key\"=>\"Brand\", \"v...      Home Furnishing   \n",
       "1     {\"product_specification\"=>[{\"key\"=>\"Machine Wa...            Baby Care   \n",
       "2     {\"product_specification\"=>[{\"key\"=>\"Material\",...            Baby Care   \n",
       "3     {\"product_specification\"=>[{\"key\"=>\"Brand\", \"v...      Home Furnishing   \n",
       "4     {\"product_specification\"=>[{\"key\"=>\"Machine Wa...      Home Furnishing   \n",
       "...                                                 ...                   ...  \n",
       "1045  {\"product_specification\"=>[{\"key\"=>\"Number of ...            Baby Care   \n",
       "1046  {\"product_specification\"=>[{\"key\"=>\"Number of ...            Baby Care   \n",
       "1047  {\"product_specification\"=>[{\"key\"=>\"Number of ...            Baby Care   \n",
       "1048  {\"product_specification\"=>[{\"key\"=>\"Number of ...            Baby Care   \n",
       "1049  {\"product_specification\"=>[{\"key\"=>\"Sales Pack...            Baby Care   \n",
       "\n",
       "[1050 rows x 16 columns]"
      ]
     },
     "execution_count": 23,
     "metadata": {},
     "output_type": "execute_result"
    }
   ],
   "source": [
    "input_df"
   ]
  },
  {
   "cell_type": "code",
   "execution_count": 24,
   "metadata": {},
   "outputs": [],
   "source": [
    "# pd.set_option('display.max_columns', None)\n",
    "# pd.set_option('display.width', None)\n",
    "# pd.set_option('display.max_colwidth', -1)"
   ]
  },
  {
   "cell_type": "markdown",
   "metadata": {},
   "source": [
    "###### Brand"
   ]
  },
  {
   "cell_type": "code",
   "execution_count": 25,
   "metadata": {},
   "outputs": [
    {
     "data": {
      "text/plain": [
       "0       {\"product_specification\"=>[{\"key\"=>\"Brand\", \"v...\n",
       "1       {\"product_specification\"=>[{\"key\"=>\"Machine Wa...\n",
       "2       {\"product_specification\"=>[{\"key\"=>\"Material\",...\n",
       "3       {\"product_specification\"=>[{\"key\"=>\"Brand\", \"v...\n",
       "4       {\"product_specification\"=>[{\"key\"=>\"Machine Wa...\n",
       "                              ...                        \n",
       "1045    {\"product_specification\"=>[{\"key\"=>\"Number of ...\n",
       "1046    {\"product_specification\"=>[{\"key\"=>\"Number of ...\n",
       "1047    {\"product_specification\"=>[{\"key\"=>\"Number of ...\n",
       "1048    {\"product_specification\"=>[{\"key\"=>\"Number of ...\n",
       "1049    {\"product_specification\"=>[{\"key\"=>\"Sales Pack...\n",
       "Name: product_specifications, Length: 1050, dtype: object"
      ]
     },
     "execution_count": 25,
     "metadata": {},
     "output_type": "execute_result"
    }
   ],
   "source": [
    "input_df['product_specifications']"
   ]
  },
  {
   "cell_type": "code",
   "execution_count": 26,
   "metadata": {},
   "outputs": [],
   "source": [
    "input_df['test'] = input_df['product_specifications'].str.extract('\\\"Brand\\\", \\\"value\\\"=>\\\"([a-zA-Z& ]*)\\\"', expand=True)"
   ]
  },
  {
   "cell_type": "code",
   "execution_count": 27,
   "metadata": {},
   "outputs": [
    {
     "data": {
      "text/plain": [
       "'0                                    Elegance\\n1                                    Sathiyas\\n2                                     Eurospa\\n3                       SANTOSH ROYAL FASHION\\n4                                Jaipur Print\\n5                                         NaN\\n6                                         NaN\\n7                                         NaN\\n8                                         NaN\\n9                                         NaN\\n10                                        NaN\\n11                                        NaN\\n12                                        NaN\\n13                                        NaN\\n14                                        NaN\\n15                                        NaN\\n16                                        NaN\\n17                                        NaN\\n18                                        NaN\\n19                                        NaN\\n20                                        NaN\\n21                                        NaN\\n22                                        NaN\\n23                                        NaN\\n24                                        NaN\\n25                                        NaN\\n26                                        NaN\\n27                                        NaN\\n28                                        NaN\\n29                                        NaN\\n30                                        NaN\\n31                                        NaN\\n32                                        NaN\\n33                      SANTOSH ROYAL FASHION\\n34                                 House This\\n35                               Riva Carpets\\n36                                  Myesquire\\n37                         Dungri India Craft\\n38                                        BFT\\n39                                        JMD\\n40                                        NaN\\n41                                        NaN\\n42                                        NaN\\n43                                Burt s Bees\\n44                                        NaN\\n45                                        NaN\\n46                                        NaN\\n47                                        NaN\\n48                                        NaN\\n49                                      Suave\\n50                                        NaN\\n51                                        RoQ\\n52                                    Cookart\\n53                                        NaN\\n54                                        NaN\\n55                                        NaN\\n56                                        NaN\\n57                                        NaN\\n58                                        NaN\\n59                                        NaN\\n60                                        NaN\\n61                                        NaN\\n62                                        NaN\\n63                                       KOHL\\n64                                        NaN\\n65                                        NaN\\n66                               CHHOTE JANAB\\n67                                      Prime\\n68                                        NaN\\n69                                        NaN\\n70                                   Caffeine\\n71                                      Prime\\n72                                        NaN\\n73                                        NaN\\n74                                        NaN\\n75                                        NaN\\n76                                        NaN\\n77                                        NaN\\n78                               Jaipur Print\\n79                                        NaN\\n80                                   VarEesha\\n81                                   Treasure\\n82                               CHINMAY KIDS\\n83                                        NaN\\n84                                        NaN\\n85                            Smart Wall Guru\\n86                                     oxford\\n87                                        NaN\\n88                                Craft Trade\\n89                           Parv Collections\\n90                               Exotic India\\n91                            Aapno Rajasthan\\n92                               Exotic India\\n93                               Exotic India\\n94                                 BeYOUtiful\\n95                               Exotic India\\n96                                   My Angel\\n97                                   Diviniti\\n98                                        NaN\\n99                                        NaN\\n100                                       NaN\\n101                                  Diviniti\\n102                                     KandP\\n103                                      Rama\\n104                                      Rama\\n105                            Shop Rajasthan\\n106                                   Bestway\\n107                          Artisan Creation\\n108                                      Rama\\n109                             Remtex Export\\n110                                       NaN\\n111                                       NaN\\n112                                       NaN\\n113                                       NaN\\n114                                       NaN\\n115                                    Filink\\n116                                  Recrafto\\n117                                       NaN\\n118                              Exotic India\\n119                                   FRENEMY\\n120                               Quilt India\\n121                                       NaN\\n122                                 Shopizone\\n123                                 Craftcart\\n124                                       NaN\\n125                                       NaN\\n126                                       NaN\\n127                                       NaN\\n128                                   Arsalan\\n129                                       NaN\\n130                                       NaN\\n131                                       NaN\\n132                                       NaN\\n133                                       NaN\\n134                                       NaN\\n135                                       NaN\\n136                                       NaN\\n137                                       NaN\\n138                                       NaN\\n139                                       NaN\\n140                                       NaN\\n141                                       NaN\\n142                                       NaN\\n143                                       NaN\\n144                                       NaN\\n145                                       NaN\\n146                                       NaN\\n147                                       NaN\\n148                                       NaN\\n149                                       NaN\\n150                                       NaN\\n151                                       NaN\\n152                                       NaN\\n153                                       NaN\\n154                                       NaN\\n155                                       NaN\\n156                                       NaN\\n157                                       NaN\\n158                                       NaN\\n159                                       NaN\\n160                                       NaN\\n161                                       NaN\\n162                                       NaN\\n163                                       NaN\\n164                                       NaN\\n165                                       NaN\\n166                                       NaN\\n167                                       NaN\\n168                                       NaN\\n169                                       NaN\\n170                                       NaN\\n171                                       NaN\\n172                                       NaN\\n173                                       NaN\\n174                                       NaN\\n175                                       NaN\\n176                                       NaN\\n177                                       NaN\\n178                                       NaN\\n179                                       NaN\\n180                                       NaN\\n181                                       NaN\\n182                                       NaN\\n183                                       NaN\\n184                                       NaN\\n185                                       NaN\\n186                                       NaN\\n187                                       NaN\\n188                                       NaN\\n189                                       NaN\\n190                                       NaN\\n191                                       NaN\\n192                                    Famous\\n193                       Rastogi Handicrafts\\n194                                      NEHP\\n195                           S C Handicrafts\\n196                                 Tatvaarts\\n197                                       Sam\\n198                                       NaN\\n199                                       NaN\\n200                             MA Design Hut\\n201                                Lal Haveli\\n202                                       NaN\\n203                                 Purpledip\\n204                                  Tirupati\\n205                              Shoppingtara\\n206                               Orange Tree\\n207                             Unique Design\\n208                                 Tatvaarts\\n209                                      Port\\n210                                Lal Haveli\\n211                                Lal Haveli\\n212                               Orange Tree\\n213                                 Tatvaarts\\n214                              Shoppingtara\\n215                        King International\\n216                                 Go Hooked\\n217                                RoyalsCart\\n218                                      Apex\\n219                               MCB Exports\\n220                                       NaN\\n221                           S C Handicrafts\\n222                                 Purpledip\\n223                                  Agromech\\n224                                Lal Haveli\\n225                                Lal Haveli\\n226                               Tiedribbons\\n227                                 Rajo Raja\\n228                                Lal Haveli\\n229                                       NaN\\n230                       Sovam International\\n231                                Lal Haveli\\n232                       Sovam International\\n233                          The Ethnic Story\\n234                                       JSM\\n235                                 Celebrity\\n236                             Unique Design\\n237                                Lal Haveli\\n238                                 Metallino\\n239                                Ruchiworld\\n240                                    Kosher\\n241                                     Recon\\n242                          Indian Art Villa\\n243                                   Suruchi\\n244                                   Bergner\\n245                                    Kalash\\n246                                   Peacock\\n247                                Leo Natura\\n248                                    Malhar\\n249                                    Sumeet\\n250                                      TRUE\\n251                                    Kalash\\n252                                 Metallino\\n253                                 Metallino\\n254                          The Crafts House\\n255                                    Jaipan\\n256                               Tiedribbons\\n257                             Unravel India\\n258                      Ruchikainternational\\n259                                    Nirlon\\n260                                     Monil\\n261                                  Pristine\\n262                              Shoppingtara\\n263                       Woodino Handicrafts\\n264                        Unique Handicrafts\\n265                                Lal Haveli\\n266                                    Pigeon\\n267                             Sahara Q Shop\\n268                                 Mom Italy\\n269                                 Rajo Raja\\n270                                      Mavi\\n271                           S C Handicrafts\\n272                      Ruchikainternational\\n273                                     Ndura\\n274                         Supreme Cookwares\\n275                                       NaN\\n276                                       NaN\\n277                                       NaN\\n278                                       NaN\\n279                                       NaN\\n280                                       NaN\\n281                                    Bhavya\\n282                                       NaN\\n283                                       NaN\\n284                         Services Junction\\n285                                       NaN\\n286                                       NaN\\n287                               Dreamshomes\\n288                                       NaN\\n289                         Services Junction\\n290                                       NaN\\n291                                       NaN\\n292                                       NaN\\n293                                       NaN\\n294                                       NaN\\n295                                    arnavs\\n296                                    I Ball\\n297                                       NaN\\n298                             JayEnterprise\\n299                                  Craftuno\\n300                                  Elephant\\n301                                       NaN\\n302                                     Nihar\\n303                                      NEHP\\n304                               Homedesires\\n305                            Pg handicrafts\\n306                                Lal Haveli\\n307                           Aapno Rajasthan\\n308                         Ravishing Variety\\n309                            Infinity India\\n310                                   Linksys\\n311                                       NaN\\n312                                     Intex\\n313                                       NaN\\n314                                       NaN\\n315                                       NaN\\n316                                       NaN\\n317                                       NaN\\n318                                      Asus\\n319                                       NaN\\n320                                       NaN\\n321                                     Apple\\n322                                       NaN\\n323                                     Tenda\\n324                                    Huawei\\n325                                       NaN\\n326                                  TRENDnet\\n327                                    Edimax\\n328                                       NaN\\n329                                      Asus\\n330                                      Asus\\n331                                       NaN\\n332                                  TRENDnet\\n333                                  Binatone\\n334                                       NaN\\n335                                     Tenda\\n336                                       NaN\\n337                                       NaN\\n338                                       NaN\\n339                                    Edimax\\n340                                       NaN\\n341                                    Belkin\\n342                                       NaN\\n343                                     Apple\\n344                                       NaN\\n345                                  TRENDnet\\n346                                       NaN\\n347                                       NaN\\n348                                     Zyxel\\n349                                     Tenda\\n350                                       NaN\\n351                                    Edimax\\n352                                     Zyxel\\n353                                      Asus\\n354                                    Edimax\\n355                                     Tenda\\n356                                       NaN\\n357                                       NaN\\n358                                       NaN\\n359                                       NaN\\n360                                       NaN\\n361                                       NaN\\n362                                       NaN\\n363                                       NaN\\n364                                     Tenda\\n365                                       NaN\\n366                                       NaN\\n367                                       NaN\\n368                                       NaN\\n369                                     Tenda\\n370                                       NaN\\n371                                   Netgear\\n372                                       NaN\\n373                                    Edimax\\n374                                       NaN\\n375                                       NaN\\n376                                       NaN\\n377                                       NaN\\n378                                       NaN\\n379                                   Netgear\\n380                                     iBall\\n381                                       NaN\\n382                                       NaN\\n383                                     Netis\\n384                                       NaN\\n385                                       NaN\\n386                                       NaN\\n387                                       NaN\\n388                                       NaN\\n389                                       NaN\\n390                                       NaN\\n391                                      Asus\\n392                                       NaN\\n393                                       NaN\\n394                                  TRENDnet\\n395                                       NaN\\n396                                       NaN\\n397                                     Zyxel\\n398                                   Netgear\\n399                                       NaN\\n400                                       NaN\\n401                                       NaN\\n402                                       NaN\\n403                                    Airtel\\n404                                       NaN\\n405                                       NaN\\n406                                       NaN\\n407                                  TRENDnet\\n408                                       NaN\\n409                                       NaN\\n410                                      Asus\\n411                                       NaN\\n412                                       NaN\\n413                                   Digisol\\n414                                       NaN\\n415                                       NaN\\n416                                       NaN\\n417                                       NaN\\n418                                       NaN\\n419                                     Tenda\\n420                                       NaN\\n421                                   Netgear\\n422                                       NaN\\n423                                       YGS\\n424                                       NaN\\n425                                Zingalalaa\\n426                                     BASRA\\n427                                  Smartpro\\n428                                       NaN\\n429                                  Smartpro\\n430                                     ocean\\n431                                  Smartpro\\n432                                  Smartpro\\n433                                  Smartpro\\n434                                  Smartpro\\n435                                  Smartpro\\n436                    Reiki Crystal Products\\n437                                  HomeEdge\\n438                                       NaN\\n439                        JewelKraft Designs\\n440                               Baby Bucket\\n441                                       NaN\\n442                                       NaN\\n443                                      Tidy\\n444                            JBC Collection\\n445                                      Hako\\n446                                      Hako\\n447                                      Hako\\n448                                       NaN\\n449                                       NaN\\n450                                       NaN\\n451                                  Lushomes\\n452                                  Prestige\\n453                              Bed and Bath\\n454                                       NaN\\n455                                       NaN\\n456                              Scalabedding\\n457                                 SRP Linen\\n458                                        HP\\n459                             TIGI BED HEAD\\n460                                       NaN\\n461                                    vatika\\n462                               Amit Carpet\\n463                                       NaN\\n464                                       NaN\\n465                                       NaN\\n466                                       NaN\\n467                                       NaN\\n468                                       Tks\\n469                                     Ocean\\n470                                       OGX\\n471                              giftsthatwow\\n472                              giftsthatwow\\n473                           Allin Exporters\\n474                              Art n Beyond\\n475                           Allin Exporters\\n476                                   Cotonex\\n477                                   Cotonex\\n478                                   Cotonex\\n479                                  Lapguard\\n480                                        HP\\n481                                  Lapguard\\n482                                       ARB\\n483                                       NaN\\n484                                Clublaptop\\n485                                  Lapguard\\n486                                        HP\\n487                                  Lapguard\\n488                                   Rega IT\\n489                                  Lapguard\\n490                                        HP\\n491                                       ARB\\n492                                   Rega IT\\n493                                  Lapguard\\n494                                       NaN\\n495                                       NaN\\n496                                       NaN\\n497                                       NaN\\n498                                       NaN\\n499                                       NaN\\n500                                       NaN\\n501                                       NaN\\n502                                       NaN\\n503                                       NaN\\n504                                  Lapguard\\n505                                       NaN\\n506                                   Rega IT\\n507                                   Rega IT\\n508                                  Lapguard\\n509                                       NaN\\n510                                       NaN\\n511                                  Lapguard\\n512                                  Lapguard\\n513                                       NaN\\n514                                       NaN\\n515                                       NaN\\n516                                       NaN\\n517                                       NaN\\n518                                       NaN\\n519                                       NaN\\n520                                       NaN\\n521                                       NaN\\n522                                       NaN\\n523                                       NaN\\n524                                       NaN\\n525                                       NaN\\n526                                       NaN\\n527                                       NaN\\n528                                       NaN\\n529                                       NaN\\n530                                       NaN\\n531                                       NaN\\n532                                       NaN\\n533                                       NaN\\n534                                       NaN\\n535                                       NaN\\n536                                       NaN\\n537                                       NaN\\n538                                       NaN\\n539                                       NaN\\n540                                       NaN\\n541                                       NaN\\n542                                       NaN\\n543                                       NaN\\n544                                       NaN\\n545                                       NaN\\n546                                       NaN\\n547                                       NaN\\n548                                       NaN\\n549                                       NaN\\n550                                       NaN\\n551                                       NaN\\n552                                       NaN\\n553                                       NaN\\n554                                       NaN\\n555                                       NaN\\n556                                       NaN\\n557                                       NaN\\n558                                       NaN\\n559                                       NaN\\n560                                       NaN\\n561                                       NaN\\n562                                       NaN\\n563                                       NaN\\n564                                       NaN\\n565                                       NaN\\n566                                       NaN\\n567                                       NaN\\n568                                       NaN\\n569                                       NaN\\n570                                       NaN\\n571                                       NaN\\n572                                       NaN\\n573                                       NaN\\n574                                       NaN\\n575                                       NaN\\n576                                       NaN\\n577                                       NaN\\n578                                       NaN\\n579                                       NaN\\n580                                       NaN\\n581                                       NaN\\n582                                       NaN\\n583                                       NaN\\n584                                       NaN\\n585                                       NaN\\n586                                       NaN\\n587                                       NaN\\n588                                       NaN\\n589                                       NaN\\n590                                       NaN\\n591                           Furnishing Zone\\n592                                       NaN\\n593                                       NaN\\n594                            Miracle Retail\\n595                               Mayursflora\\n596                               V Creations\\n597                                       NaN\\n598                                      Saco\\n599                                       NaN\\n600                              RandMshoppee\\n601                                       NaN\\n602                                       NaN\\n603                                    Kosher\\n604                                        HP\\n605                                        HP\\n606                                       NaN\\n607                                       NaN\\n608                                       NaN\\n609                                  Rrsskids\\n610                           Smart Wall Guru\\n611                        Ally The Creations\\n612                           Cheeky Chompers\\n613                                 Piyo Piyo\\n614                                Innovative\\n615                                       NaN\\n616                                       NaN\\n617                                       NaN\\n618                                       NaN\\n619                                       NaN\\n620                                       NaN\\n621                                       NaN\\n622                                   Mee Mee\\n623                                       NaN\\n624                                       NaN\\n625                                    SHOPOJ\\n626                               Ville Style\\n627                                       NaN\\n628                                Wonderchef\\n629                                       NaN\\n630                                       NaN\\n631                                       NaN\\n632                                       NaN\\n633                                       NaN\\n634                                       NaN\\n635                                       NaN\\n636                                       NaN\\n637                                       NaN\\n638                                      Geol\\n639                                   Sunlast\\n640                                       NaN\\n641                                       NaN\\n642                                       NaN\\n643                                     Intel\\n644                                       NaN\\n645                                       NaN\\n646                                       NaN\\n647                                       NaN\\n648                                       NaN\\n649                                       NaN\\n650                                  HomeeHub\\n651                                    Marvel\\n652                                       NaN\\n653                            Home Creations\\n654                      The Intellect Bazaar\\n655                                       NaN\\n656                              BornBabyKids\\n657                                       NaN\\n658                      Creative Width Decor\\n659                               Handloomhub\\n660                                   Fabutex\\n661     Divine Gifts and Artificial Jewellery\\n662                                   Hargunz\\n663                        Galaxy Decorations\\n664                                       NaN\\n665                                  Welhouse\\n666                                       NaN\\n667                                       NaN\\n668                                    Ornate\\n669                          Shrikant Traders\\n670                                       NaN\\n671                                  NIKsales\\n672                                       NaN\\n673                                      VRCT\\n674                      Home Fashion Gallery\\n675                                BabyBucket\\n676                               Handloomhub\\n677                                    Simoco\\n678                                     Neyth\\n679                                 AsiaCraft\\n680                               Soy Impulse\\n681                                       NaN\\n682                                       NaN\\n683                                       NaN\\n684                                       NaN\\n685                                       NaN\\n686                                       NaN\\n687                                       NaN\\n688                                       NaN\\n689                                   Philips\\n690                                       NaN\\n691                                       NaN\\n692                                       NaN\\n693                                Wallmantra\\n694                                  Tallenge\\n695                                Wallmantra\\n696                                  Tallenge\\n697                                Wallmantra\\n698                               HouseAttire\\n699                                  Moonleaf\\n700                                   Vgstore\\n701                                   Sapatos\\n702                               Jaipur Raga\\n703                                   Sapatos\\n704                            Home Originals\\n705                            RajasthaniKart\\n706                               Golmaalshop\\n707                            Home Originals\\n708                                Indigocart\\n709                                  U and ME\\n710                               Golmaalshop\\n711                                  Frabjous\\n712                                     MyKid\\n713                            Home Originals\\n714                            Home Originals\\n715                           Pioneer Pragati\\n716                            Home Originals\\n717                                   Sapatos\\n718                            Home Originals\\n719                        Pompom Sweethearts\\n720                                   Sapatos\\n721                                   SPANGLE\\n722                                   Sapatos\\n723                                House This\\n724                        Flazee Home Trends\\n725                                 Craftartz\\n726                                       HoA\\n727                              Gift Studios\\n728                                   Dhrohar\\n729                                      VRCT\\n730                                       NaN\\n731                                      Tidy\\n732                                       NaN\\n733                                     Canon\\n734                                       NaN\\n735                                       NaN\\n736                                       NaN\\n737                                       NaN\\n738                         brass gift center\\n739                                       NaN\\n740                                    Pindia\\n741                                       NaN\\n742                                       NaN\\n743                                       NaN\\n744                                       NaN\\n745                                       NaN\\n746                               eCraftIndia\\n747                                       NaN\\n748                                       NaN\\n749                          Rajasthan Crafts\\n750                          Rajasthan Crafts\\n751                          Rajasthan Crafts\\n752                          Rajasthan Crafts\\n753                                    Tuktuk\\n754                              Onlinemaniya\\n755                                 Buy Clues\\n756                                  Rajlaxmi\\n757                                       NaN\\n758                                     Bajya\\n759                                       NaN\\n760                                       NaN\\n761                                       NaN\\n762                                       NaN\\n763                                       NaN\\n764                                       NaN\\n765                                       NaN\\n766                                       NaN\\n767                                       NaN\\n768                                       NaN\\n769                                       NaN\\n770                                 Offspring\\n771                                 Offspring\\n772                                 Offspring\\n773                                    Ireeya\\n774                                 Offspring\\n775                                       NaN\\n776                                My NewBorn\\n777                                       NaN\\n778                                       NaN\\n779                                       NaN\\n780                                       NaN\\n781                                       NaN\\n782                                       NaN\\n783                                   Funcart\\n784                                   EZ Life\\n785                                   Funcart\\n786                                       NaN\\n787                                       NaN\\n788                                       NaN\\n789                                 Love Baby\\n790                                       NaN\\n791                                       NaN\\n792                                       NaN\\n793                                       NaN\\n794                                       NaN\\n795                                       NaN\\n796                                       NaN\\n797                                       NaN\\n798                                       NaN\\n799                                   Rajrang\\n800                                  Lapguard\\n801                                       NaN\\n802                                       NaN\\n803                                   Rega IT\\n804                                       NaN\\n805                                       NaN\\n806                                       NaN\\n807                                       NaN\\n808                                       NaN\\n809                                       NaN\\n810                                       NaN\\n811                                   Raymond\\n812                                   Raymond\\n813                                   Raymond\\n814                                   Raymond\\n815                                       NaN\\n816                                       NaN\\n817                                   Raymond\\n818                                   Raymond\\n819                                   Raymond\\n820                                       NaN\\n821                                   Raymond\\n822                               Bharatcraft\\n823                                       NaN\\n824                                      SWHF\\n825                                       NaN\\n826                                       NaN\\n827                                   meSleep\\n828                                   Casotec\\n829                                  Fonokase\\n830                                    Memore\\n831                                     Orico\\n832                                    Bigkik\\n833                                  Tapawire\\n834                                   Crystle\\n835                             Amaze Fashion\\n836                                       RRP\\n837                                   Casotec\\n838                                       NaN\\n839                                    Himtek\\n840                                       RRP\\n841                                   KLIQVIK\\n842                                   KLIQVIK\\n843                                  Epresent\\n844                            Task Logistics\\n845                                       NaN\\n846                                       LUV\\n847                                      Rock\\n848                                   Generix\\n849                                       NaN\\n850                                       NaN\\n851                                    Zaicus\\n852                                    Memore\\n853                                       RRP\\n854                                   KLIQVIK\\n855                                    Akshaj\\n856                                       NaN\\n857                                       NaN\\n858                                De TechInn\\n859                                   Crystle\\n860                                Dizionario\\n861                                Kensington\\n862                                       NaN\\n863                                   meSleep\\n864                                       RCE\\n865                                       NaN\\n866                                       NaN\\n867                                       NaN\\n868                                      Jums\\n869                                     Homec\\n870                                    Bianca\\n871                               Zikrak Exim\\n872                                   Trident\\n873                             MSenterprises\\n874                                  Mafatlal\\n875                                    Nikunj\\n876                             Textile India\\n877                                       Nkp\\n878                               Woven Terry\\n879                           Casa Copenhagen\\n880                                    Maspar\\n881                                   Sassoon\\n882                                 Mandhania\\n883                                       NaN\\n884                                     Amber\\n885                              Bagru Crafts\\n886                               Jaipur Raga\\n887                                      SSCP\\n888                                   Trident\\n889                                     Intex\\n890                                       IWS\\n891                                   LukLuck\\n892                                        MB\\n893                         Durga Home Trendz\\n894                                     Right\\n895                                Just Linen\\n896                              Rustic India\\n897                                       NKP\\n898                                       NaN\\n899                               Bharatcraft\\n900                                       NaN\\n901                                       NaN\\n902                        Prisha India Craft\\n903                                BRANDWAGON\\n904                                 Relaxfeel\\n905                                       NaN\\n906                                       NaN\\n907                                       NaN\\n908                                       NaN\\n909                                       NaN\\n910                                       NaN\\n911                                       NaN\\n912                                       NaN\\n913                                       NaN\\n914                                       NaN\\n915                                       NaN\\n916                                 wallskart\\n917                                   Megaway\\n918                      The Intellect Bazaar\\n919                                  Anjalika\\n920                               Baby Bucket\\n921                                 Digilight\\n922                     Agrasen International\\n923                               Pinc Ginger\\n924                                       NaN\\n925                              Home Delight\\n926                                Valtellina\\n927                            Nagar Handloom\\n928                                Valtellina\\n929                                      Adaa\\n930                          Utsav Handicraft\\n931                        Jaipur Textile Hub\\n932                                Valtellina\\n933                              Gift Studios\\n934                                    Aurraa\\n935                                       NaN\\n936                        My Party Suppliers\\n937                                 GrandShop\\n938                               eCraftIndia\\n939                                  Welhouse\\n940                                 Digilight\\n941                      The Intellect Bazaar\\n942                               The Art Box\\n943                                 Al Fakher\\n944                                  Weldecor\\n945                                    Unnati\\n946                                       NaN\\n947                                  Eshoppee\\n948                            Arabian Nights\\n949                                  Welhouse\\n950                               eCraftIndia\\n951                          The Art Treasure\\n952                                    Unnati\\n953                         Craft And Curtain\\n954                      The Intellect Bazaar\\n955                                 Digilight\\n956                                  Bhalaria\\n957                                       NaN\\n958                                  M S Rugs\\n959                                      GIMS\\n960                                   Cotonex\\n961                            FURNISHINGLAND\\n962                            FURNISHINGLAND\\n963                                  loomkart\\n964                            FURNISHINGLAND\\n965                                       NaN\\n966                            Checkered Chef\\n967                       Mahadev Handicrafts\\n968                                Sparklings\\n969                                   Swastik\\n970                                 Bela Home\\n971                                Sparklings\\n972                                       NaN\\n973                              ROYLE KATOCH\\n974                                 Jaycoknit\\n975                                       NaN\\n976                                       NaN\\n977                                       NaN\\n978                                      Deep\\n979                                       NaN\\n980                                       NaN\\n981                                       NaN\\n982                                       NaN\\n983                                       NaN\\n984                                Art Godaam\\n985                                       NaN\\n986                               Vedic Deals\\n987                                  Hand Art\\n988                                       NaN\\n989                                    Kaatru\\n990                                       NaN\\n991                                Seven Seas\\n992                                   Pedrini\\n993                            Shop Rajasthan\\n994                                       NaN\\n995                                  TRESemme\\n996                                   L Oreal\\n997                                       CTW\\n998                                       NaN\\n999                                    Balaji\\n1000                              LockandLock\\n1001                                      NaN\\n1002                                      NaN\\n1003                                      NaN\\n1004                                      NaN\\n1005                                      NaN\\n1006                                      NaN\\n1007                             Aster Luxury\\n1008                             King Traders\\n1009                               Wall Decal\\n1010                                      NaN\\n1011                                      NaN\\n1012                                  Ech oly\\n1013                                      NaN\\n1014                                      NaN\\n1015                             PRINT SHAPES\\n1016                                      NaN\\n1017                            Aroma Comfort\\n1018                             PRINT SHAPES\\n1019                             PRINT SHAPES\\n1020                            Aroma Comfort\\n1021                             PRINT SHAPES\\n1022                            Aroma Comfort\\n1023                                Transcend\\n1024                             PRINT SHAPES\\n1025                             PRINT SHAPES\\n1026                            Aroma Comfort\\n1027                            Aroma Comfort\\n1028                             PRINT SHAPES\\n1029                            Aroma Comfort\\n1030                                      NaN\\n1031                                Kerastase\\n1032                             PRINT SHAPES\\n1033                            Aroma Comfort\\n1034                             PRINT SHAPES\\n1035                             PRINT SHAPES\\n1036                             PRINT SHAPES\\n1037                            Aroma Comfort\\n1038                       Surgical e Sstudio\\n1039                   Reiki Crystal Products\\n1040                         Elite Collection\\n1041                               Wallmantra\\n1042                               WallDesign\\n1043                                      NaN\\n1044                               Wallmantra\\n1045                             Oren Empower\\n1046                               Wallmantra\\n1047                                 Uberlyfe\\n1048                               Wallmantra\\n1049                                 Uberlyfe'"
      ]
     },
     "execution_count": 27,
     "metadata": {},
     "output_type": "execute_result"
    }
   ],
   "source": [
    "input_df['test'].to_string()"
   ]
  },
  {
   "cell_type": "code",
   "execution_count": 28,
   "metadata": {},
   "outputs": [
    {
     "name": "stderr",
     "output_type": "stream",
     "text": [
      "1:201: E501 line too long (208 > 200 characters)\n",
      "2:201: E501 line too long (674 > 200 characters)\n",
      "3:201: E501 line too long (698 > 200 characters)\n",
      "4:201: E501 line too long (372 > 200 characters)\n"
     ]
    }
   ],
   "source": [
    "transco_description = [('Key Features of ', ''), ('Specifications of ', ''), ('Buy ', ''), ('Flipkart.com: ', ''), ('Flipkart.com is offering ', ''), ('Go ', ''), ('SF by ', ''), ('Only ', ''), ('Kool ', '')]\n",
    "remove_delimiter = ['Cotton', 'Polyester', ' W', ' CAU', ' W', ' Time', ' UFT', ' WY', ' SW', ' LCS', ' AD', ' DG', ' FB', ' HF', ' PCC', ' PC', ' Pc', ' PMBA', ' PMR', ' Polo', ' DMK', ' DW', ' IW', ' Art ', ' BlackLed ', ' Combo ', ' Analog', ' TI', ' Better ', ' Friend ', ' Merry ', ' Classic ', ' Aries ', ' Believe ', ' Colorful ', ' Cute ', ' Never ', ' Eye ', ' Independence ', ' Vintage ', ' Fantasy', ' Alphabets', ' Lacto ', ' Fruit ', ' Stricker', ' Bdblue ', ' Industries ', ' Stylish ', ' Baby ', ' Premium ', ' Baby ', ' GC', ' Old', ' Lane ', ' Stainless ', ' BEST DAD', ' Gemini ', ' Night ', ' Hop ', ' Fogg ', ' Red ', ' Abstract', ' Tele ', ' Sonakshi ']\n",
    "remove_delimiter = remove_delimiter + ['Monster', ' Psychological ', ' Happy ', ' Abstrcts', ' I\\'m A Mom.', ' Pscychological Illusions Design', ' Beautiful', ' CMW', ' Blue', ' Pschedelic', ' Gamming', ' Cartoon', ' Graphic', ' Printed', ' EB', ' Ice Drive', ' Paris', ' RO', ' VJ', ' Smoke And', ' Compact ', ' Dynamic ', ' Get ', ' Fresh ', ' London ', ' Casual', ' La Royal ', ' Ice', ' Rage ', ' Orange', ' Drift', ' Golden', ' ST', ' Man of the Year', ' Caliber', ' New York', ' Cool', ' Deo', ' Brave', ' Gold', ' and Expedition', ' Berlin', ' Opaque ', ' School', ' NX', ' LGSWATCHES', ' GNLBBL', ' NOSWW', ' FU', ' HMTWHQ', ' SD', ' HG', ' FS', ' OLSS', ' FD', ' super fiber', ' Ultimate']\n",
    "remove_delimiter = remove_delimiter + [' FIGH', ' Sticker', ' Saffron', ' RRTC', ' Print', ' Photo', 'Popfun', ' Grip ', ' Cloth', ' Natural Sciences ', ' UVSHIELD', ' Sunshield', ' Umbrella', ' Safe Sun', ' Fashion Store', ' Sweden ', ' Ultra ', ' Protect', ' Pack of', ' Navratri ', ' rk', ' Manuka', ' Lanolin', ' Bearberry', ' Trousers', ' Brillance ', ' Handcrafted']"
   ]
  },
  {
   "cell_type": "markdown",
   "metadata": {},
   "source": [
    "Replace a string by another one"
   ]
  },
  {
   "cell_type": "code",
   "execution_count": 29,
   "metadata": {},
   "outputs": [],
   "source": [
    "def replace_input(character):\n",
    "    # character = character.str.lower()\n",
    "    for k, v in enumerate(transco_description):\n",
    "        character = character.str.replace(v[0], v[1])\n",
    "    return (character)"
   ]
  },
  {
   "cell_type": "markdown",
   "metadata": {},
   "source": [
    "Remove the characters of a string after another string"
   ]
  },
  {
   "cell_type": "code",
   "execution_count": 30,
   "metadata": {},
   "outputs": [],
   "source": [
    "def remove_after(character):\n",
    "    for count in remove_delimiter:\n",
    "        character = character.str.split(count).str[0]\n",
    "    return (character)"
   ]
  },
  {
   "cell_type": "markdown",
   "metadata": {},
   "source": [
    "Select the brands that are empty"
   ]
  },
  {
   "cell_type": "code",
   "execution_count": 31,
   "metadata": {},
   "outputs": [
    {
     "data": {
      "text/plain": [
       "0       Key Features of Elegance Polyester Multicolor ...\n",
       "1       Specifications of Sathiyas Cotton Bath Towel (...\n",
       "2       Key Features of Eurospa Cotton Terry Face Towe...\n",
       "3       Key Features of SANTOSH ROYAL FASHION Cotton P...\n",
       "4       Key Features of Jaipur Print Cotton Floral Kin...\n",
       "                              ...                        \n",
       "1045    Oren Empower Extra Large Self Adhesive Sticker...\n",
       "1046    Wallmantra Large Vinyl Sticker Sticker (Pack o...\n",
       "1047    Buy Uberlyfe Extra Large Pigmented Polyvinyl F...\n",
       "1048    Buy Wallmantra Medium Vinyl Sticker Sticker fo...\n",
       "1049    Buy Uberlyfe Large Vinyl Sticker for Rs.595 on...\n",
       "Name: description, Length: 1050, dtype: object"
      ]
     },
     "execution_count": 31,
     "metadata": {},
     "output_type": "execute_result"
    }
   ],
   "source": [
    "input_df['description']"
   ]
  },
  {
   "cell_type": "code",
   "execution_count": 32,
   "metadata": {},
   "outputs": [],
   "source": [
    "nobrand_df = input_df[input_df['brand'].isnull()]"
   ]
  },
  {
   "cell_type": "code",
   "execution_count": 33,
   "metadata": {},
   "outputs": [],
   "source": [
    "nobrand_df['brand_in_progress'] = replace_input(nobrand_df['description'])"
   ]
  },
  {
   "cell_type": "code",
   "execution_count": 34,
   "metadata": {},
   "outputs": [],
   "source": [
    "nobrand_df['brand_in_progress'] = remove_after(nobrand_df['brand_in_progress'])"
   ]
  },
  {
   "cell_type": "code",
   "execution_count": 35,
   "metadata": {},
   "outputs": [],
   "source": [
    "nobrand_df['brand_in_progress'] = nobrand_df['brand_in_progress'].str.extract('([a-zA-Z \\'.]*)', expand=True)"
   ]
  },
  {
   "cell_type": "markdown",
   "metadata": {},
   "source": [
    "Display the brands that are extracted for the description column"
   ]
  },
  {
   "cell_type": "code",
   "execution_count": 36,
   "metadata": {},
   "outputs": [
    {
     "data": {
      "text/plain": [
       "\"5                                               Maserati\\n6                                                Camerii\\n7                                                      T\\n8                                                 Alfajr\\n9                                              TAG Heuer\\n10                                               Calibro\\n11                                               Cartier\\n12                                            Lois Caron\\n13                                                Titan \\n14                                               Srushti\\n15                                              Escort E\\n16                                            Jack klein\\n17                                            North Moon\\n18                                          Franck Bella\\n19                                             Ridas Apl\\n20                                                 Skmei\\n21                                                Now SP\\n22                                          Franck Bella\\n23                                                 Skmei\\n24                                             fastrack \\n25                                                Alfajr\\n26                                               Disney \\n27                                                Disney\\n28                                               Vizion \\n29                                            Elantra S \\n30                                                Marvel\\n31                                                 Lenco\\n32                                             D'Signer \\n56                                               Borse N\\n98                                                 Kuber\\n99                                         Thar Handloom\\n100                                    Goldencollections\\n114                                             Lollipop\\n117                                              Anthill\\n125                               Sally Hansen La Cross \\n126                                               Svayam\\n127                                              Bonjour\\n129                                             Prithish\\n130                                           Rockmantra\\n131                                             Prithish\\n132                                             Prithish\\n133                                           Rockmantra\\n134                                       Rajesh Digital\\n135                                             Prithish\\n136                                           Rockmantra\\n137                                             Prithish\\n138                                           Rockmantra\\n139                                             Prithish\\n140                                           Rockmantra\\n141                                           Rockmantra\\n142                                           Rockmantra\\n143                                             Prithish\\n144                                           Rockmantra\\n145                                             Prithish\\n146                                            Printland\\n147                                           Rockmantra\\n148                                           Rockmantra\\n149                                            Prithish \\n150                                            Printland\\n151                                             Prithish\\n152                                             Prithish\\n153                                          Rockmantra \\n154                                           Rockmantra\\n155                                            Printland\\n156                                            Printland\\n157                                             Prithish\\n158                                             Prithish\\n159                                             Prithish\\n160                                           Rockmantra\\n161                                             Prithish\\n162                                             Prithish\\n163                                            Printland\\n164                                           Rockmantra\\n165                                           Rockmantra\\n166                                             Prithish\\n167                                            Printland\\n168                                            Printland\\n169                                             Prithish\\n170                                             Prithish\\n171                                             Prithish\\n172                                           Rockmantra\\n173                                           Rockmantra\\n174                                             Prithish\\n175                                             Prithish\\n176                                            Printland\\n177                                            Printland\\n178                                             Prithish\\n179                                           Rockmantra\\n180                                            Printland\\n181                                            Printland\\n182                                            Printland\\n183                                           Rockmantra\\n184                                             Prithish\\n185                                            Printland\\n186                                           Rockmantra\\n187                                             Prithish\\n188                                         Returnfavors\\n189                                          Rockmantra \\n190                                           Rockmantra\\n191                                             Prithish\\n202                                      Earth Conscious\\n220                                              Poppins\\n301                                              Equinox\\n311                                           Wild Stone\\n313                                               Adidas\\n314                                    Vincent Valentine\\n315                                               Denver\\n316                                           Wild Stone\\n317                                              Archies\\n319                                         Denver Sport\\n320                                         Layer'r Shot\\n322                                              Archies\\n325                                           Anna Andre\\n328                                               Adidas\\n331                                          Park Avenue\\n334                                            Kamasutra\\n337                                Arabian Nights Evolve\\n338                                               Adidas\\n340                             Engage Blush and Drizzle\\n342                                                 Envy\\n344                                           Anna Andre\\n346                                              Yardley\\n347                                                Nivea\\n356                                              Playboy\\n357                       Yardley Jasmine and Lace Satin\\n358                                                Spinz\\n359                                          Park Avenue\\n360                                                 Nike\\n361                                            Aero Care\\n362                                    Vincent Valentine\\n363                                            Aero Care\\n365                                        Beverly Hills\\n366                                        Beverly Hills\\n368                                               Denver\\n370                                           Anna Andre\\n372                                    Wild Stone Charge\\n374                                        Addiction Rio\\n375                                               Adidas\\n376                                Denver Hamilton Pride\\n377                                        Nike Original\\n378                                         Engage Rush \\n381                                                Envy \\n382                                    Vincent Valentine\\n384                                               Denver\\n385                                              Archies\\n386                                        French Factor\\n387                                         Fogg Dynamic\\n388                                           Anna Andre\\n389                                              Playboy\\n392                                           Wild Stone\\n393                               Engage Tease and Tease\\n395                                                 Nike\\n396                                               Denver\\n401                                                Denim\\n402                                              Cinthol\\n404                                              Playboy\\n405                                               Denver\\n406                                              Yardley\\n408                                           Wild Stone\\n409                                               Adidas\\n411                                            Aero Care\\n412                                               Denver\\n414                                              Playboy\\n415                                       Ajmal Titanium\\n416                                              Playboy\\n417                                             Yardley \\n418                                                Denim\\n454                                               Milton\\n455                                               Milton\\n494                                               Sonata\\n495                                              Sonata \\n496                                              Sonata \\n497                                               Times \\n498                                                Times\\n499                                              Maxima \\n500                                                Nexus\\n501                                              Sonata \\n502                                              Maxima \\n503                                              Sonata \\n505                                              Maxima \\n509                                              Maxima \\n510                                               Logues\\n513                                         Global Nomad\\n514                                              Maxima \\n515                                                Noise\\n516                                              Sonata \\n517                                              Sonata \\n518                                              Maxima \\n519                                              Maxima \\n520                                              Maxima \\n521                                              Maxima \\n522                                              Maxima \\n523                                              Maxima \\n524                                                Noise\\n525                                              Sonata \\n526                                                Fluid\\n527                                              Maxima \\n528                                              Sonata \\n529                                               Times \\n530                                              Maxima \\n531                                               Times \\n532                                                  HMT\\n533                                              Sonata \\n534                                             Timewel \\n535                                              Maxima \\n536                                               Times \\n537                                              Maxima \\n538                                              Sonata \\n539                                              Maxima \\n540                                               Times \\n541                                               Petrol\\n542                                              Maxima \\n543                                              Sonata \\n544                                                Kidz \\n545                                                 Kidz\\n546                                              Maxima \\n547                                              Maxima \\n548                                             Timewel \\n549                                                HMT S\\n550                                              Sonata \\n551                                             Timewel \\n552                                               Olvin \\n553                                              Sonata \\n554                                             Timewel \\n555                                              Sonata \\n556                                             Timewel \\n557                                           HMT Sonata\\n558                                                Times\\n559                                               Times \\n560                                            Fastrack \\n561                                            Hourglass\\n562                                              Maxima \\n563                                                Fluid\\n564                                          Gift Island\\n565                                              Sonata \\n566                                              Maxima \\n567                                              Sonata \\n568                                               Flippd\\n569                                                  Neo\\n570                                                Now Q\\n571                                                  HMT\\n572                                               Times \\n573                                      Gift Island AST\\n574                                                  Neo\\n575                                              Sonata \\n576                                               Sonata\\n577                                              Maxima \\n578                                             Timewel \\n579                                             Timewel \\n580                                              Sonata \\n581                                                Times\\n582                                               Flippd\\n583                                             Timewel \\n584                                            Fastrack \\n585                                               Flippd\\n586                                              Sonata \\n587                                              Maxima \\n588                                            Timewel N\\n599                                           Next Steps\\n652                                                Romex\\n655                                          Wood Beauty\\n657                                      Munchkin Mighty\\n664                                           Blue Bell \\n666                                         Portia Polka\\n667                                                  RTD\\n670                                               MH MDF\\n672                                          Indha Craft\\n681                                        Cocovey Metal\\n682                                                 VLCC\\n683                                                Lotus\\n684                                        Oshea Herbals\\n685                                             Richfeel\\n686                                            Keya Seth\\n687                                       Jovees Anjeer \\n688                                           Whiteherbs\\n690                                             Oriflame\\n691                                               Aveeno\\n692                                             La Roche\\n730                                               Foolzy\\n732                                               Sonpra\\n741                                                 Fogg\\n742                                              Nutcase\\n743                                              Nutcase\\n744                                              Nutcase\\n745                                              Nutcase\\n747                                              Mxofere\\n748                                              Mxofere\\n757                                                  SVM\\n759                                              Fighter\\n760                                                 Luba\\n761                                              Perucci\\n762                                              Perucci\\n763                                              Perucci\\n764                                             Chappin \\n765                                              Nutcase\\n766                                              Nutcase\\n767                                              Oxyglow\\n768                                              Oxyglow\\n769                                                Xemex\\n777                                                 RRTC\\n778                                              Mxofere\\n779                                              Mxofere\\n780                                              Perucci\\n781                                              Perucci\\n782                                              Perucci\\n786                                              Perucci\\n787                                              Perucci\\n788                                              Perucci\\n790                                                 LUBA\\n791                                           Wild Ferns\\n792                                           Wild Ferns\\n794                                              Mxofere\\n795                                                 Rana\\n796                                                R.S D\\n797                                              Oxyglow\\n798                                              Oxyglow\\n801                                              Oxyglow\\n802                                              Oxyglow\\n804                                              Oxyglow\\n805                                              Oxyglow\\n806                                              Mxofere\\n807                                              Mxofere\\n808                                              Mxofere\\n809                                              Oxyglow\\n810                                              Oxyglow\\n815                                               Regent\\n816                                          eCraftIndia\\n820                                              Mxofere\\n823                                           Firstrace \\n825                                          CB Fashion \\n826                                                Timex\\n845                                               Feetje\\n883                                               Shagun\\n924                         Elfani Brilliance Lip Color \\n935                           Incolor Metalic Lipstick N\\n946                   Organistick Silver Label Lipstick \\n985    Artist Haat Vanity Box Makeup and Jewellery Va...\\n988                                             Craftuno\""
      ]
     },
     "execution_count": 36,
     "metadata": {},
     "output_type": "execute_result"
    }
   ],
   "source": [
    "nobrand_df['brand_in_progress'].to_string()"
   ]
  },
  {
   "cell_type": "markdown",
   "metadata": {},
   "source": [
    "Store the results in a new column named revamped_brand"
   ]
  },
  {
   "cell_type": "code",
   "execution_count": 37,
   "metadata": {},
   "outputs": [],
   "source": [
    "input_df['revamped_brand'] = input_df['brand']"
   ]
  },
  {
   "cell_type": "code",
   "execution_count": 38,
   "metadata": {},
   "outputs": [
    {
     "data": {
      "text/html": [
       "<div>\n",
       "<style scoped>\n",
       "    .dataframe tbody tr th:only-of-type {\n",
       "        vertical-align: middle;\n",
       "    }\n",
       "\n",
       "    .dataframe tbody tr th {\n",
       "        vertical-align: top;\n",
       "    }\n",
       "\n",
       "    .dataframe thead th {\n",
       "        text-align: right;\n",
       "    }\n",
       "</style>\n",
       "<table border=\"1\" class=\"dataframe\">\n",
       "  <thead>\n",
       "    <tr style=\"text-align: right;\">\n",
       "      <th></th>\n",
       "      <th>uniq_id</th>\n",
       "      <th>crawl_timestamp</th>\n",
       "      <th>product_url</th>\n",
       "      <th>product_name</th>\n",
       "      <th>product_category_tree</th>\n",
       "      <th>pid</th>\n",
       "      <th>retail_price</th>\n",
       "      <th>discounted_price</th>\n",
       "      <th>image</th>\n",
       "      <th>is_FK_Advantage_product</th>\n",
       "      <th>description</th>\n",
       "      <th>product_rating</th>\n",
       "      <th>overall_rating</th>\n",
       "      <th>brand</th>\n",
       "      <th>product_specifications</th>\n",
       "      <th>product_main_category</th>\n",
       "      <th>test</th>\n",
       "      <th>revamped_brand</th>\n",
       "    </tr>\n",
       "  </thead>\n",
       "  <tbody>\n",
       "    <tr>\n",
       "      <th>0</th>\n",
       "      <td>55b85ea15a1536d46b7190ad6fff8ce7</td>\n",
       "      <td>2016-04-30 03:22:56 +0000</td>\n",
       "      <td>http://www.flipkart.com/elegance-polyester-mul...</td>\n",
       "      <td>Elegance Polyester Multicolor Abstract Eyelet ...</td>\n",
       "      <td>[\"Home Furnishing &gt;&gt; Curtains &amp; Accessories &gt;&gt;...</td>\n",
       "      <td>CRNEG7BKMFFYHQ8Z</td>\n",
       "      <td>1899.0</td>\n",
       "      <td>899.0</td>\n",
       "      <td>55b85ea15a1536d46b7190ad6fff8ce7.jpg</td>\n",
       "      <td>False</td>\n",
       "      <td>Key Features of Elegance Polyester Multicolor ...</td>\n",
       "      <td>No rating available</td>\n",
       "      <td>No rating available</td>\n",
       "      <td>Elegance</td>\n",
       "      <td>{\"product_specification\"=&gt;[{\"key\"=&gt;\"Brand\", \"v...</td>\n",
       "      <td>Home Furnishing</td>\n",
       "      <td>Elegance</td>\n",
       "      <td>Elegance</td>\n",
       "    </tr>\n",
       "    <tr>\n",
       "      <th>1</th>\n",
       "      <td>7b72c92c2f6c40268628ec5f14c6d590</td>\n",
       "      <td>2016-04-30 03:22:56 +0000</td>\n",
       "      <td>http://www.flipkart.com/sathiyas-cotton-bath-t...</td>\n",
       "      <td>Sathiyas Cotton Bath Towel</td>\n",
       "      <td>[\"Baby Care &gt;&gt; Baby Bath &amp; Skin &gt;&gt; Baby Bath T...</td>\n",
       "      <td>BTWEGFZHGBXPHZUH</td>\n",
       "      <td>600.0</td>\n",
       "      <td>449.0</td>\n",
       "      <td>7b72c92c2f6c40268628ec5f14c6d590.jpg</td>\n",
       "      <td>False</td>\n",
       "      <td>Specifications of Sathiyas Cotton Bath Towel (...</td>\n",
       "      <td>No rating available</td>\n",
       "      <td>No rating available</td>\n",
       "      <td>Sathiyas</td>\n",
       "      <td>{\"product_specification\"=&gt;[{\"key\"=&gt;\"Machine Wa...</td>\n",
       "      <td>Baby Care</td>\n",
       "      <td>Sathiyas</td>\n",
       "      <td>Sathiyas</td>\n",
       "    </tr>\n",
       "    <tr>\n",
       "      <th>2</th>\n",
       "      <td>64d5d4a258243731dc7bbb1eef49ad74</td>\n",
       "      <td>2016-04-30 03:22:56 +0000</td>\n",
       "      <td>http://www.flipkart.com/eurospa-cotton-terry-f...</td>\n",
       "      <td>Eurospa Cotton Terry Face Towel Set</td>\n",
       "      <td>[\"Baby Care &gt;&gt; Baby Bath &amp; Skin &gt;&gt; Baby Bath T...</td>\n",
       "      <td>BTWEG6SHXTDB2A2Y</td>\n",
       "      <td>NaN</td>\n",
       "      <td>NaN</td>\n",
       "      <td>64d5d4a258243731dc7bbb1eef49ad74.jpg</td>\n",
       "      <td>False</td>\n",
       "      <td>Key Features of Eurospa Cotton Terry Face Towe...</td>\n",
       "      <td>No rating available</td>\n",
       "      <td>No rating available</td>\n",
       "      <td>Eurospa</td>\n",
       "      <td>{\"product_specification\"=&gt;[{\"key\"=&gt;\"Material\",...</td>\n",
       "      <td>Baby Care</td>\n",
       "      <td>Eurospa</td>\n",
       "      <td>Eurospa</td>\n",
       "    </tr>\n",
       "    <tr>\n",
       "      <th>3</th>\n",
       "      <td>d4684dcdc759dd9cdf41504698d737d8</td>\n",
       "      <td>2016-06-20 08:49:52 +0000</td>\n",
       "      <td>http://www.flipkart.com/santosh-royal-fashion-...</td>\n",
       "      <td>Santosh Royal Fashion Cotton Printed King Size...</td>\n",
       "      <td>[\"Home Furnishing &gt;&gt; Bed Linen &gt;&gt; Bedsheets &gt;&gt;...</td>\n",
       "      <td>BDSEJT9UQWHDUBH4</td>\n",
       "      <td>2699.0</td>\n",
       "      <td>1299.0</td>\n",
       "      <td>d4684dcdc759dd9cdf41504698d737d8.jpg</td>\n",
       "      <td>False</td>\n",
       "      <td>Key Features of SANTOSH ROYAL FASHION Cotton P...</td>\n",
       "      <td>No rating available</td>\n",
       "      <td>No rating available</td>\n",
       "      <td>SANTOSH ROYAL FASHION</td>\n",
       "      <td>{\"product_specification\"=&gt;[{\"key\"=&gt;\"Brand\", \"v...</td>\n",
       "      <td>Home Furnishing</td>\n",
       "      <td>SANTOSH ROYAL FASHION</td>\n",
       "      <td>SANTOSH ROYAL FASHION</td>\n",
       "    </tr>\n",
       "    <tr>\n",
       "      <th>4</th>\n",
       "      <td>6325b6870c54cd47be6ebfbffa620ec7</td>\n",
       "      <td>2016-06-20 08:49:52 +0000</td>\n",
       "      <td>http://www.flipkart.com/jaipur-print-cotton-fl...</td>\n",
       "      <td>Jaipur Print Cotton Floral King Sized Double B...</td>\n",
       "      <td>[\"Home Furnishing &gt;&gt; Bed Linen &gt;&gt; Bedsheets &gt;&gt;...</td>\n",
       "      <td>BDSEJTHNGWVGWWQU</td>\n",
       "      <td>2599.0</td>\n",
       "      <td>698.0</td>\n",
       "      <td>6325b6870c54cd47be6ebfbffa620ec7.jpg</td>\n",
       "      <td>False</td>\n",
       "      <td>Key Features of Jaipur Print Cotton Floral Kin...</td>\n",
       "      <td>No rating available</td>\n",
       "      <td>No rating available</td>\n",
       "      <td>Jaipur Print</td>\n",
       "      <td>{\"product_specification\"=&gt;[{\"key\"=&gt;\"Machine Wa...</td>\n",
       "      <td>Home Furnishing</td>\n",
       "      <td>Jaipur Print</td>\n",
       "      <td>Jaipur Print</td>\n",
       "    </tr>\n",
       "    <tr>\n",
       "      <th>...</th>\n",
       "      <td>...</td>\n",
       "      <td>...</td>\n",
       "      <td>...</td>\n",
       "      <td>...</td>\n",
       "      <td>...</td>\n",
       "      <td>...</td>\n",
       "      <td>...</td>\n",
       "      <td>...</td>\n",
       "      <td>...</td>\n",
       "      <td>...</td>\n",
       "      <td>...</td>\n",
       "      <td>...</td>\n",
       "      <td>...</td>\n",
       "      <td>...</td>\n",
       "      <td>...</td>\n",
       "      <td>...</td>\n",
       "      <td>...</td>\n",
       "      <td>...</td>\n",
       "    </tr>\n",
       "    <tr>\n",
       "      <th>1045</th>\n",
       "      <td>958f54f4c46b53c8a0a9b8167d9140bc</td>\n",
       "      <td>2015-12-01 10:15:43 +0000</td>\n",
       "      <td>http://www.flipkart.com/oren-empower-extra-lar...</td>\n",
       "      <td>Oren Empower Extra Large Self Adhesive Sticker</td>\n",
       "      <td>[\"Baby Care &gt;&gt; Baby &amp; Kids Gifts &gt;&gt; Stickers &gt;...</td>\n",
       "      <td>STIE88ZGTX65GH4V</td>\n",
       "      <td>1399.0</td>\n",
       "      <td>999.0</td>\n",
       "      <td>958f54f4c46b53c8a0a9b8167d9140bc.jpg</td>\n",
       "      <td>False</td>\n",
       "      <td>Oren Empower Extra Large Self Adhesive Sticker...</td>\n",
       "      <td>No rating available</td>\n",
       "      <td>No rating available</td>\n",
       "      <td>Oren Empower</td>\n",
       "      <td>{\"product_specification\"=&gt;[{\"key\"=&gt;\"Number of ...</td>\n",
       "      <td>Baby Care</td>\n",
       "      <td>Oren Empower</td>\n",
       "      <td>Oren Empower</td>\n",
       "    </tr>\n",
       "    <tr>\n",
       "      <th>1046</th>\n",
       "      <td>fd6cbcc22efb6b761bd564c28928483c</td>\n",
       "      <td>2015-12-01 10:15:43 +0000</td>\n",
       "      <td>http://www.flipkart.com/wallmantra-large-vinyl...</td>\n",
       "      <td>Wallmantra Large Vinyl Sticker Sticker</td>\n",
       "      <td>[\"Baby Care &gt;&gt; Baby &amp; Kids Gifts &gt;&gt; Stickers &gt;...</td>\n",
       "      <td>STIEC889ZD5GDCVQ</td>\n",
       "      <td>4930.0</td>\n",
       "      <td>1896.0</td>\n",
       "      <td>fd6cbcc22efb6b761bd564c28928483c.jpg</td>\n",
       "      <td>False</td>\n",
       "      <td>Wallmantra Large Vinyl Sticker Sticker (Pack o...</td>\n",
       "      <td>No rating available</td>\n",
       "      <td>No rating available</td>\n",
       "      <td>Wallmantra</td>\n",
       "      <td>{\"product_specification\"=&gt;[{\"key\"=&gt;\"Number of ...</td>\n",
       "      <td>Baby Care</td>\n",
       "      <td>Wallmantra</td>\n",
       "      <td>Wallmantra</td>\n",
       "    </tr>\n",
       "    <tr>\n",
       "      <th>1047</th>\n",
       "      <td>5912e037d12774bb73a2048f35a00009</td>\n",
       "      <td>2015-12-01 10:15:43 +0000</td>\n",
       "      <td>http://www.flipkart.com/uberlyfe-extra-large-p...</td>\n",
       "      <td>Uberlyfe Extra Large Pigmented Polyvinyl Films...</td>\n",
       "      <td>[\"Baby Care &gt;&gt; Baby &amp; Kids Gifts &gt;&gt; Stickers &gt;...</td>\n",
       "      <td>STIE5UVGW2JWVWCT</td>\n",
       "      <td>4500.0</td>\n",
       "      <td>1449.0</td>\n",
       "      <td>5912e037d12774bb73a2048f35a00009.jpg</td>\n",
       "      <td>False</td>\n",
       "      <td>Buy Uberlyfe Extra Large Pigmented Polyvinyl F...</td>\n",
       "      <td>No rating available</td>\n",
       "      <td>No rating available</td>\n",
       "      <td>Uberlyfe</td>\n",
       "      <td>{\"product_specification\"=&gt;[{\"key\"=&gt;\"Number of ...</td>\n",
       "      <td>Baby Care</td>\n",
       "      <td>Uberlyfe</td>\n",
       "      <td>Uberlyfe</td>\n",
       "    </tr>\n",
       "    <tr>\n",
       "      <th>1048</th>\n",
       "      <td>c3edc504d1b4f0ba6224fa53a43a7ad6</td>\n",
       "      <td>2015-12-01 10:15:43 +0000</td>\n",
       "      <td>http://www.flipkart.com/wallmantra-medium-viny...</td>\n",
       "      <td>Wallmantra Medium Vinyl Sticker Sticker</td>\n",
       "      <td>[\"Baby Care &gt;&gt; Baby &amp; Kids Gifts &gt;&gt; Stickers &gt;...</td>\n",
       "      <td>STIEC889ZGFD3RCE</td>\n",
       "      <td>3465.0</td>\n",
       "      <td>1333.0</td>\n",
       "      <td>c3edc504d1b4f0ba6224fa53a43a7ad6.jpg</td>\n",
       "      <td>False</td>\n",
       "      <td>Buy Wallmantra Medium Vinyl Sticker Sticker fo...</td>\n",
       "      <td>No rating available</td>\n",
       "      <td>No rating available</td>\n",
       "      <td>Wallmantra</td>\n",
       "      <td>{\"product_specification\"=&gt;[{\"key\"=&gt;\"Number of ...</td>\n",
       "      <td>Baby Care</td>\n",
       "      <td>Wallmantra</td>\n",
       "      <td>Wallmantra</td>\n",
       "    </tr>\n",
       "    <tr>\n",
       "      <th>1049</th>\n",
       "      <td>f2f027ad6a6df617c9f125173da71e44</td>\n",
       "      <td>2015-12-01 10:15:43 +0000</td>\n",
       "      <td>http://www.flipkart.com/uberlyfe-large-vinyl-s...</td>\n",
       "      <td>Uberlyfe Large Vinyl Sticker</td>\n",
       "      <td>[\"Baby Care &gt;&gt; Baby &amp; Kids Gifts &gt;&gt; Stickers &gt;...</td>\n",
       "      <td>STIE2ZEPACRQJKH7</td>\n",
       "      <td>1190.0</td>\n",
       "      <td>595.0</td>\n",
       "      <td>f2f027ad6a6df617c9f125173da71e44.jpg</td>\n",
       "      <td>False</td>\n",
       "      <td>Buy Uberlyfe Large Vinyl Sticker for Rs.595 on...</td>\n",
       "      <td>4</td>\n",
       "      <td>4</td>\n",
       "      <td>Uberlyfe</td>\n",
       "      <td>{\"product_specification\"=&gt;[{\"key\"=&gt;\"Sales Pack...</td>\n",
       "      <td>Baby Care</td>\n",
       "      <td>Uberlyfe</td>\n",
       "      <td>Uberlyfe</td>\n",
       "    </tr>\n",
       "  </tbody>\n",
       "</table>\n",
       "<p>1050 rows × 18 columns</p>\n",
       "</div>"
      ],
      "text/plain": [
       "                               uniq_id            crawl_timestamp  \\\n",
       "0     55b85ea15a1536d46b7190ad6fff8ce7  2016-04-30 03:22:56 +0000   \n",
       "1     7b72c92c2f6c40268628ec5f14c6d590  2016-04-30 03:22:56 +0000   \n",
       "2     64d5d4a258243731dc7bbb1eef49ad74  2016-04-30 03:22:56 +0000   \n",
       "3     d4684dcdc759dd9cdf41504698d737d8  2016-06-20 08:49:52 +0000   \n",
       "4     6325b6870c54cd47be6ebfbffa620ec7  2016-06-20 08:49:52 +0000   \n",
       "...                                ...                        ...   \n",
       "1045  958f54f4c46b53c8a0a9b8167d9140bc  2015-12-01 10:15:43 +0000   \n",
       "1046  fd6cbcc22efb6b761bd564c28928483c  2015-12-01 10:15:43 +0000   \n",
       "1047  5912e037d12774bb73a2048f35a00009  2015-12-01 10:15:43 +0000   \n",
       "1048  c3edc504d1b4f0ba6224fa53a43a7ad6  2015-12-01 10:15:43 +0000   \n",
       "1049  f2f027ad6a6df617c9f125173da71e44  2015-12-01 10:15:43 +0000   \n",
       "\n",
       "                                            product_url  \\\n",
       "0     http://www.flipkart.com/elegance-polyester-mul...   \n",
       "1     http://www.flipkart.com/sathiyas-cotton-bath-t...   \n",
       "2     http://www.flipkart.com/eurospa-cotton-terry-f...   \n",
       "3     http://www.flipkart.com/santosh-royal-fashion-...   \n",
       "4     http://www.flipkart.com/jaipur-print-cotton-fl...   \n",
       "...                                                 ...   \n",
       "1045  http://www.flipkart.com/oren-empower-extra-lar...   \n",
       "1046  http://www.flipkart.com/wallmantra-large-vinyl...   \n",
       "1047  http://www.flipkart.com/uberlyfe-extra-large-p...   \n",
       "1048  http://www.flipkart.com/wallmantra-medium-viny...   \n",
       "1049  http://www.flipkart.com/uberlyfe-large-vinyl-s...   \n",
       "\n",
       "                                           product_name  \\\n",
       "0     Elegance Polyester Multicolor Abstract Eyelet ...   \n",
       "1                            Sathiyas Cotton Bath Towel   \n",
       "2                   Eurospa Cotton Terry Face Towel Set   \n",
       "3     Santosh Royal Fashion Cotton Printed King Size...   \n",
       "4     Jaipur Print Cotton Floral King Sized Double B...   \n",
       "...                                                 ...   \n",
       "1045     Oren Empower Extra Large Self Adhesive Sticker   \n",
       "1046             Wallmantra Large Vinyl Sticker Sticker   \n",
       "1047  Uberlyfe Extra Large Pigmented Polyvinyl Films...   \n",
       "1048            Wallmantra Medium Vinyl Sticker Sticker   \n",
       "1049                       Uberlyfe Large Vinyl Sticker   \n",
       "\n",
       "                                  product_category_tree               pid  \\\n",
       "0     [\"Home Furnishing >> Curtains & Accessories >>...  CRNEG7BKMFFYHQ8Z   \n",
       "1     [\"Baby Care >> Baby Bath & Skin >> Baby Bath T...  BTWEGFZHGBXPHZUH   \n",
       "2     [\"Baby Care >> Baby Bath & Skin >> Baby Bath T...  BTWEG6SHXTDB2A2Y   \n",
       "3     [\"Home Furnishing >> Bed Linen >> Bedsheets >>...  BDSEJT9UQWHDUBH4   \n",
       "4     [\"Home Furnishing >> Bed Linen >> Bedsheets >>...  BDSEJTHNGWVGWWQU   \n",
       "...                                                 ...               ...   \n",
       "1045  [\"Baby Care >> Baby & Kids Gifts >> Stickers >...  STIE88ZGTX65GH4V   \n",
       "1046  [\"Baby Care >> Baby & Kids Gifts >> Stickers >...  STIEC889ZD5GDCVQ   \n",
       "1047  [\"Baby Care >> Baby & Kids Gifts >> Stickers >...  STIE5UVGW2JWVWCT   \n",
       "1048  [\"Baby Care >> Baby & Kids Gifts >> Stickers >...  STIEC889ZGFD3RCE   \n",
       "1049  [\"Baby Care >> Baby & Kids Gifts >> Stickers >...  STIE2ZEPACRQJKH7   \n",
       "\n",
       "      retail_price  discounted_price                                 image  \\\n",
       "0           1899.0             899.0  55b85ea15a1536d46b7190ad6fff8ce7.jpg   \n",
       "1            600.0             449.0  7b72c92c2f6c40268628ec5f14c6d590.jpg   \n",
       "2              NaN               NaN  64d5d4a258243731dc7bbb1eef49ad74.jpg   \n",
       "3           2699.0            1299.0  d4684dcdc759dd9cdf41504698d737d8.jpg   \n",
       "4           2599.0             698.0  6325b6870c54cd47be6ebfbffa620ec7.jpg   \n",
       "...            ...               ...                                   ...   \n",
       "1045        1399.0             999.0  958f54f4c46b53c8a0a9b8167d9140bc.jpg   \n",
       "1046        4930.0            1896.0  fd6cbcc22efb6b761bd564c28928483c.jpg   \n",
       "1047        4500.0            1449.0  5912e037d12774bb73a2048f35a00009.jpg   \n",
       "1048        3465.0            1333.0  c3edc504d1b4f0ba6224fa53a43a7ad6.jpg   \n",
       "1049        1190.0             595.0  f2f027ad6a6df617c9f125173da71e44.jpg   \n",
       "\n",
       "      is_FK_Advantage_product  \\\n",
       "0                       False   \n",
       "1                       False   \n",
       "2                       False   \n",
       "3                       False   \n",
       "4                       False   \n",
       "...                       ...   \n",
       "1045                    False   \n",
       "1046                    False   \n",
       "1047                    False   \n",
       "1048                    False   \n",
       "1049                    False   \n",
       "\n",
       "                                            description       product_rating  \\\n",
       "0     Key Features of Elegance Polyester Multicolor ...  No rating available   \n",
       "1     Specifications of Sathiyas Cotton Bath Towel (...  No rating available   \n",
       "2     Key Features of Eurospa Cotton Terry Face Towe...  No rating available   \n",
       "3     Key Features of SANTOSH ROYAL FASHION Cotton P...  No rating available   \n",
       "4     Key Features of Jaipur Print Cotton Floral Kin...  No rating available   \n",
       "...                                                 ...                  ...   \n",
       "1045  Oren Empower Extra Large Self Adhesive Sticker...  No rating available   \n",
       "1046  Wallmantra Large Vinyl Sticker Sticker (Pack o...  No rating available   \n",
       "1047  Buy Uberlyfe Extra Large Pigmented Polyvinyl F...  No rating available   \n",
       "1048  Buy Wallmantra Medium Vinyl Sticker Sticker fo...  No rating available   \n",
       "1049  Buy Uberlyfe Large Vinyl Sticker for Rs.595 on...                    4   \n",
       "\n",
       "           overall_rating                  brand  \\\n",
       "0     No rating available               Elegance   \n",
       "1     No rating available               Sathiyas   \n",
       "2     No rating available                Eurospa   \n",
       "3     No rating available  SANTOSH ROYAL FASHION   \n",
       "4     No rating available           Jaipur Print   \n",
       "...                   ...                    ...   \n",
       "1045  No rating available           Oren Empower   \n",
       "1046  No rating available             Wallmantra   \n",
       "1047  No rating available               Uberlyfe   \n",
       "1048  No rating available             Wallmantra   \n",
       "1049                    4               Uberlyfe   \n",
       "\n",
       "                                 product_specifications product_main_category  \\\n",
       "0     {\"product_specification\"=>[{\"key\"=>\"Brand\", \"v...      Home Furnishing    \n",
       "1     {\"product_specification\"=>[{\"key\"=>\"Machine Wa...            Baby Care    \n",
       "2     {\"product_specification\"=>[{\"key\"=>\"Material\",...            Baby Care    \n",
       "3     {\"product_specification\"=>[{\"key\"=>\"Brand\", \"v...      Home Furnishing    \n",
       "4     {\"product_specification\"=>[{\"key\"=>\"Machine Wa...      Home Furnishing    \n",
       "...                                                 ...                   ...   \n",
       "1045  {\"product_specification\"=>[{\"key\"=>\"Number of ...            Baby Care    \n",
       "1046  {\"product_specification\"=>[{\"key\"=>\"Number of ...            Baby Care    \n",
       "1047  {\"product_specification\"=>[{\"key\"=>\"Number of ...            Baby Care    \n",
       "1048  {\"product_specification\"=>[{\"key\"=>\"Number of ...            Baby Care    \n",
       "1049  {\"product_specification\"=>[{\"key\"=>\"Sales Pack...            Baby Care    \n",
       "\n",
       "                       test         revamped_brand  \n",
       "0                  Elegance               Elegance  \n",
       "1                  Sathiyas               Sathiyas  \n",
       "2                   Eurospa                Eurospa  \n",
       "3     SANTOSH ROYAL FASHION  SANTOSH ROYAL FASHION  \n",
       "4              Jaipur Print           Jaipur Print  \n",
       "...                     ...                    ...  \n",
       "1045           Oren Empower           Oren Empower  \n",
       "1046             Wallmantra             Wallmantra  \n",
       "1047               Uberlyfe               Uberlyfe  \n",
       "1048             Wallmantra             Wallmantra  \n",
       "1049               Uberlyfe               Uberlyfe  \n",
       "\n",
       "[1050 rows x 18 columns]"
      ]
     },
     "execution_count": 38,
     "metadata": {},
     "output_type": "execute_result"
    }
   ],
   "source": [
    "input_df"
   ]
  },
  {
   "cell_type": "code",
   "execution_count": 39,
   "metadata": {},
   "outputs": [],
   "source": [
    "input_df.loc[input_df['brand'].isnull(), ['revamped_brand']] = nobrand_df['brand_in_progress']"
   ]
  },
  {
   "cell_type": "code",
   "execution_count": 40,
   "metadata": {},
   "outputs": [],
   "source": [
    "input_df['revamped_brand'] = input_df['revamped_brand'].str.lower()"
   ]
  },
  {
   "cell_type": "markdown",
   "metadata": {},
   "source": [
    "###### Brands"
   ]
  },
  {
   "cell_type": "markdown",
   "metadata": {},
   "source": [
    "Remove the tags value and key"
   ]
  },
  {
   "cell_type": "code",
   "execution_count": 41,
   "metadata": {},
   "outputs": [
    {
     "data": {
      "text/plain": [
       "0       {\"product_specification\"=>[{\"key\"=>\"Brand\", \"v...\n",
       "1       {\"product_specification\"=>[{\"key\"=>\"Machine Wa...\n",
       "2       {\"product_specification\"=>[{\"key\"=>\"Material\",...\n",
       "3       {\"product_specification\"=>[{\"key\"=>\"Brand\", \"v...\n",
       "4       {\"product_specification\"=>[{\"key\"=>\"Machine Wa...\n",
       "                              ...                        \n",
       "1045    {\"product_specification\"=>[{\"key\"=>\"Number of ...\n",
       "1046    {\"product_specification\"=>[{\"key\"=>\"Number of ...\n",
       "1047    {\"product_specification\"=>[{\"key\"=>\"Number of ...\n",
       "1048    {\"product_specification\"=>[{\"key\"=>\"Number of ...\n",
       "1049    {\"product_specification\"=>[{\"key\"=>\"Sales Pack...\n",
       "Name: product_specifications, Length: 1050, dtype: object"
      ]
     },
     "execution_count": 41,
     "metadata": {},
     "output_type": "execute_result"
    }
   ],
   "source": [
    "input_df['product_specifications']"
   ]
  },
  {
   "cell_type": "code",
   "execution_count": 42,
   "metadata": {},
   "outputs": [],
   "source": [
    "input_df['clean_product_specifications'] = input_df['product_specifications'].str.replace('(?:\"key\"|\"value|product_specification\")', '')"
   ]
  },
  {
   "cell_type": "code",
   "execution_count": 43,
   "metadata": {},
   "outputs": [
    {
     "data": {
      "text/plain": [
       "0       {\"=>[{=>\"Brand\", \"=>\"Elegance\"}, {=>\"Designed ...\n",
       "1       {\"=>[{=>\"Machine Washable\", \"=>\"Yes\"}, {=>\"Mat...\n",
       "2       {\"=>[{=>\"Material\", \"=>\"Cotton Terry\"}, {=>\"De...\n",
       "3       {\"=>[{=>\"Brand\", \"=>\"SANTOSH ROYAL FASHION\"}, ...\n",
       "4       {\"=>[{=>\"Machine Washable\", \"=>\"Yes\"}, {=>\"Bra...\n",
       "                              ...                        \n",
       "1045    {\"=>[{=>\"Number of Contents in Sales Package\",...\n",
       "1046    {\"=>[{=>\"Number of Contents in Sales Package\",...\n",
       "1047    {\"=>[{=>\"Number of Contents in Sales Package\",...\n",
       "1048    {\"=>[{=>\"Number of Contents in Sales Package\",...\n",
       "1049    {\"=>[{=>\"Sales Package\", \"=>\"Sticker\"}, {=>\"Br...\n",
       "Name: clean_product_specifications, Length: 1050, dtype: object"
      ]
     },
     "execution_count": 43,
     "metadata": {},
     "output_type": "execute_result"
    }
   ],
   "source": [
    "input_df['clean_product_specifications']"
   ]
  },
  {
   "cell_type": "markdown",
   "metadata": {},
   "source": [
    "Remove punctuations"
   ]
  },
  {
   "cell_type": "code",
   "execution_count": 44,
   "metadata": {},
   "outputs": [],
   "source": [
    "def remove_punctuation(text):\n",
    "    text = str(text)\n",
    "    no_punct = \"\".join([c for c in text if c not in string.punctuation])\n",
    "    return no_punct"
   ]
  },
  {
   "cell_type": "code",
   "execution_count": 45,
   "metadata": {},
   "outputs": [],
   "source": [
    "input_df['titi'] = input_df['clean_product_specifications'].apply(lambda x: remove_punctuation(x))"
   ]
  },
  {
   "cell_type": "code",
   "execution_count": 46,
   "metadata": {},
   "outputs": [
    {
     "data": {
      "text/plain": [
       "0       Brand Elegance Designed For Door Type Eyelet M...\n",
       "1       Machine Washable Yes Material Cotton Design Se...\n",
       "2       Material Cotton Terry Design SHUVAM Brand Euro...\n",
       "3       Brand SANTOSH ROYAL FASHION Machine Washable Y...\n",
       "4       Machine Washable Yes Brand Jaipur Print Type F...\n",
       "                              ...                        \n",
       "1045    Number of Contents in Sales Package Pack of 2 ...\n",
       "1046    Number of Contents in Sales Package Pack of 1 ...\n",
       "1047    Number of Contents in Sales Package Pack of 1 ...\n",
       "1048    Number of Contents in Sales Package Pack of 1 ...\n",
       "1049    Sales Package Sticker Brand Uberlyfe Type Viny...\n",
       "Name: titi, Length: 1050, dtype: object"
      ]
     },
     "execution_count": 46,
     "metadata": {},
     "output_type": "execute_result"
    }
   ],
   "source": [
    "input_df['titi']"
   ]
  },
  {
   "cell_type": "code",
   "execution_count": 47,
   "metadata": {},
   "outputs": [],
   "source": [
    "# pd.set_option('display.max_columns', None)\n",
    "# pd.set_option('display.width', None)\n",
    "# pd.set_option('display.max_colwidth', -1)"
   ]
  },
  {
   "cell_type": "markdown",
   "metadata": {},
   "source": [
    "Remove stopwords"
   ]
  },
  {
   "cell_type": "code",
   "execution_count": 48,
   "metadata": {},
   "outputs": [],
   "source": [
    "def remove_stopwords(text):\n",
    "    words = [w for w in text if w not in stopwords.words('english')]\n",
    "    return words"
   ]
  },
  {
   "cell_type": "markdown",
   "metadata": {},
   "source": [
    "Lemmatizer"
   ]
  },
  {
   "cell_type": "code",
   "execution_count": 49,
   "metadata": {},
   "outputs": [],
   "source": [
    "lemmatizer = WordNetLemmatizer()\n",
    "\n",
    "def word_lemmatizer(text):\n",
    "    lem_text = [lemmatizer.lemmatize(i) for i in text]\n",
    "    lem_text = [word for word in lem_text if len(word) > 3]\n",
    "    return lem_text"
   ]
  },
  {
   "cell_type": "markdown",
   "metadata": {},
   "source": [
    "Clean the data"
   ]
  },
  {
   "cell_type": "code",
   "execution_count": 50,
   "metadata": {},
   "outputs": [],
   "source": [
    "def cleandata(myinput):\n",
    "    # Remove the punctuation\n",
    "    myinput = myinput.apply(lambda x: remove_punctuation(x))\n",
    "    # Instantiate Tokenizer\n",
    "    # tokenizer = RegexpTokenizer(r'\\w+')\n",
    "    tokenizer = RegexpTokenizer(r'[a-z]*')\n",
    "    # Tokenization\n",
    "    myinput = myinput.apply(lambda x: tokenizer.tokenize(x.lower()))\n",
    "    # Removal of the stopwords\n",
    "    myinput = myinput.apply(lambda x: remove_stopwords(x))\n",
    "    # Lemmatization\n",
    "    myinput = myinput.apply(lambda x: word_lemmatizer(x))\n",
    "    return myinput"
   ]
  },
  {
   "cell_type": "code",
   "execution_count": 51,
   "metadata": {},
   "outputs": [
    {
     "data": {
      "text/plain": [
       "0                    Elegance\n",
       "1                    Sathiyas\n",
       "2                     Eurospa\n",
       "3       SANTOSH ROYAL FASHION\n",
       "4                Jaipur Print\n",
       "                ...          \n",
       "1045             Oren Empower\n",
       "1046               Wallmantra\n",
       "1047                 Uberlyfe\n",
       "1048               Wallmantra\n",
       "1049                 Uberlyfe\n",
       "Name: test, Length: 1050, dtype: object"
      ]
     },
     "execution_count": 51,
     "metadata": {},
     "output_type": "execute_result"
    }
   ],
   "source": [
    "input_df['test']"
   ]
  },
  {
   "cell_type": "code",
   "execution_count": 52,
   "metadata": {},
   "outputs": [],
   "source": [
    "input_df['clean_product_specifications'] = cleandata(input_df['clean_product_specifications'])"
   ]
  },
  {
   "cell_type": "code",
   "execution_count": 53,
   "metadata": {},
   "outputs": [],
   "source": [
    "input_df['clean_description'] = cleandata(input_df['description'])"
   ]
  },
  {
   "cell_type": "code",
   "execution_count": 54,
   "metadata": {},
   "outputs": [
    {
     "data": {
      "text/plain": [
       "0       [brand, elegance, designed, door, type, eyelet...\n",
       "1       [machine, washable, material, cotton, design, ...\n",
       "2       [material, cotton, terry, design, shuvam, bran...\n",
       "3       [brand, santosh, royal, fashion, machine, wash...\n",
       "4       [machine, washable, brand, jaipur, print, type...\n",
       "                              ...                        \n",
       "1045    [number, content, sale, package, pack, sale, p...\n",
       "1046    [number, content, sale, package, pack, sale, p...\n",
       "1047    [number, content, sale, package, pack, sale, p...\n",
       "1048    [number, content, sale, package, pack, sale, p...\n",
       "1049    [sale, package, sticker, brand, uberlyfe, type...\n",
       "Name: clean_product_specifications, Length: 1050, dtype: object"
      ]
     },
     "execution_count": 54,
     "metadata": {},
     "output_type": "execute_result"
    }
   ],
   "source": [
    "input_df['clean_product_specifications']"
   ]
  },
  {
   "cell_type": "markdown",
   "metadata": {},
   "source": [
    "Concat the brand / product specifications / clean description columns"
   ]
  },
  {
   "cell_type": "code",
   "execution_count": 55,
   "metadata": {},
   "outputs": [],
   "source": [
    "input_df['clean_concat'] = input_df['revamped_brand'] + \" \" + input_df['clean_product_specifications'].apply(lambda x: ' '.join(x)) + \" \" + input_df['clean_description'].apply(lambda x: ' '.join(x))"
   ]
  },
  {
   "cell_type": "code",
   "execution_count": 56,
   "metadata": {},
   "outputs": [
    {
     "data": {
      "text/plain": [
       "0       elegance brand elegance designed door type eye...\n",
       "1       sathiyas machine washable material cotton desi...\n",
       "2       eurospa material cotton terry design shuvam br...\n",
       "3       santosh royal fashion brand santosh royal fash...\n",
       "4       jaipur print machine washable brand jaipur pri...\n",
       "                              ...                        \n",
       "1045    oren empower number content sale package pack ...\n",
       "1046    wallmantra number content sale package pack sa...\n",
       "1047    uberlyfe number content sale package pack sale...\n",
       "1048    wallmantra number content sale package pack sa...\n",
       "1049    uberlyfe sale package sticker brand uberlyfe t...\n",
       "Name: clean_concat, Length: 1050, dtype: object"
      ]
     },
     "execution_count": 56,
     "metadata": {},
     "output_type": "execute_result"
    }
   ],
   "source": [
    "input_df['clean_concat']"
   ]
  },
  {
   "cell_type": "markdown",
   "metadata": {},
   "source": [
    "### Save the dataframe"
   ]
  },
  {
   "cell_type": "code",
   "execution_count": 57,
   "metadata": {},
   "outputs": [],
   "source": [
    "# Save the Dataframe in a CSV file\n",
    "input_df.to_csv('./DataSet.csv', sep=',', header=True, quoting=csv.QUOTE_ALL, columns=input_df.columns.tolist(), index=False)"
   ]
  }
 ],
 "metadata": {
  "kernelspec": {
   "display_name": "Python 3",
   "language": "python",
   "name": "python3"
  },
  "language_info": {
   "codemirror_mode": {
    "name": "ipython",
    "version": 3
   },
   "file_extension": ".py",
   "mimetype": "text/x-python",
   "name": "python",
   "nbconvert_exporter": "python",
   "pygments_lexer": "ipython3",
   "version": "3.7.7"
  }
 },
 "nbformat": 4,
 "nbformat_minor": 4
}
